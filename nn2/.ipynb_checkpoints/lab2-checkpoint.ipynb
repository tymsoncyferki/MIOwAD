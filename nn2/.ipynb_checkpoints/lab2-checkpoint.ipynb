{
 "cells": [
  {
   "cell_type": "markdown",
   "id": "71b56a3f",
   "metadata": {},
   "source": [
    "# NN2\n",
    "Tymoteusz Urban"
   ]
  },
  {
   "cell_type": "code",
   "execution_count": 1,
   "id": "530cdf8d",
   "metadata": {},
   "outputs": [
    {
     "name": "stderr",
     "output_type": "stream",
     "text": [
      "C:\\Users\\tymek\\AppData\\Roaming\\Python\\Python39\\site-packages\\pandas\\core\\computation\\expressions.py:21: UserWarning: Pandas requires version '2.8.4' or newer of 'numexpr' (version '2.8.3' currently installed).\n",
      "  from pandas.core.computation.check import NUMEXPR_INSTALLED\n",
      "C:\\Users\\tymek\\AppData\\Roaming\\Python\\Python39\\site-packages\\pandas\\core\\arrays\\masked.py:60: UserWarning: Pandas requires version '1.3.6' or newer of 'bottleneck' (version '1.3.5' currently installed).\n",
      "  from pandas.core import (\n"
     ]
    }
   ],
   "source": [
    "import numpy as np\n",
    "import pandas as pd\n",
    "import matplotlib.pyplot as plt\n",
    "import random\n",
    "import time\n",
    "import copy"
   ]
  },
  {
   "cell_type": "code",
   "execution_count": 126,
   "id": "a8e79e97",
   "metadata": {},
   "outputs": [],
   "source": [
    "class NeuralNetwork:\n",
    "    \n",
    "    \"\"\"\n",
    "    Implementation of multi layer perceptron\n",
    "\n",
    "    Attributes\n",
    "    -----------\n",
    "    layers : List\n",
    "    \n",
    "    \"\"\"\n",
    "    \n",
    "    def __init__(self, layers, weights=None, biases=None, activations=None, initalization='xavier'):\n",
    "        \"\"\"\n",
    "        activations - available functions: 'sigmoid', 'linear'\n",
    "        initialization - available types: 'xavier', 'he', 'uniform'\n",
    "        \"\"\"\n",
    "        self.layers = layers\n",
    "        self.num_layers = len(layers)\n",
    "        \n",
    "        if weights is None:\n",
    "            self.weights = [self.xavier_init(layers[i-1], layers[i]) for i in range(1, self.num_layers)]\n",
    "        else:\n",
    "            self.weights = weights\n",
    "        \n",
    "        if biases is None:\n",
    "            self.biases = [self.xavier_bias_init(layers[i]) for i in range(1, self.num_layers)]\n",
    "        else:\n",
    "            self.biases = biases\n",
    "        \n",
    "        if activations is None:\n",
    "            self.activations = ['sigmoid' for i in range(1, self.num_layers - 1)] + ['linear']\n",
    "        else:\n",
    "            self.activations = activations\n",
    "        \n",
    "        activation_functions = {\n",
    "            'sigmoid': self._sigmoid,\n",
    "            'linear': self._linear\n",
    "        }\n",
    "        self.activation_funcs = list(map(lambda x: activation_functions.get(x), self.activations))\n",
    "        \n",
    "        self.mean = None\n",
    "        self.std = None\n",
    "    \n",
    "    def _sigmoid(self, z):\n",
    "        return 1 / (1 + np.exp(-z))\n",
    "\n",
    "    def _linear(self, z):\n",
    "        return z\n",
    "    \n",
    "    def xavier_init(self, n_in, n_out):\n",
    "        variance = 2.0 / (n_in + n_out)\n",
    "        stddev = np.sqrt(variance)\n",
    "        return np.random.normal(0, stddev, (n_in, n_out))\n",
    "    \n",
    "    def xavier_bias_init(self, n_out):\n",
    "        variance = 1.0 / n_out\n",
    "        stddev = np.sqrt(variance)\n",
    "        return np.random.normal(0, stddev, n_out)\n",
    "    \n",
    "    def feedforward(self, a, return_activations=False):\n",
    "        if return_activations:\n",
    "            activations = [a]\n",
    "            for w, b, func in zip(self.weights, self.biases, self.activation_funcs):\n",
    "                z = np.dot(a, w) + b\n",
    "                a = func(z)\n",
    "                activations.append(a)\n",
    "            return activations\n",
    "        else:\n",
    "            for w, b, func in zip(self.weights, self.biases, self.activation_funcs):\n",
    "                z = np.dot(a, w) + b\n",
    "                a = func(z)\n",
    "            return a\n",
    "            \n",
    "    def sigmoid(self, x):\n",
    "        return 1 / (1 + np.exp(-x))\n",
    "    \n",
    "    def predict(self, X):\n",
    "        return self.feedforward(X)\n",
    "    \n",
    "    def mse(self, X, y, resize=False, denormalize=None):\n",
    "        \"\"\"denormalize - a tuple (mean, std)\"\"\"\n",
    "        if resize:\n",
    "            X = X.to_numpy().reshape(-1, 1)\n",
    "            y = y.to_numpy().reshape(-1, 1)\n",
    "        predictions = self.predict(X)\n",
    "        if denormalize:\n",
    "            predictions = destandardize_data(predictions, denormalize)\n",
    "        return np.mean((predictions - y) ** 2)\n",
    "    \n",
    "    def sigmoid_derivative(self, a):\n",
    "        \"\"\"calculates sigm'(z) where a = sigm(z)\"\"\"\n",
    "        return a * (1-a)\n",
    "    \n",
    "    def backward(self, X, y, learning_rate):\n",
    "        \"\"\"backpropagation, returns partial derevatives\"\"\"\n",
    "        # feedforward\n",
    "        activations = self.feedforward(X, return_activations=True)\n",
    "        deltas = [None] * len(self.weights)\n",
    "        # output error\n",
    "        deltas[-1] = activations[-1] - y.reshape(-1, 1)\n",
    "        # calculate neurons' errors using backpropagation \n",
    "        for i in reversed(range(len(deltas) - 1)):\n",
    "            if self.activations[i] == \"sigmoid\":\n",
    "                # calculate error delta_l = delta_{l+1} x w_{l+1} * sigmoid'(a_{l+1})\n",
    "                deltas[i] = np.dot(deltas[i+1], self.weights[i+1].T) * self.sigmoid_derivative(activations[i+1])\n",
    "            elif self.activations[i] == \"linear\":\n",
    "                deltas[i] = np.dot(deltas[i+1], self.weights[i+1].T)\n",
    "        \n",
    "        L = len(self.weights)\n",
    "        weights_gradient = [None] * L\n",
    "        biases_gradient = [None] * L\n",
    "        # calculate partial derevatives of cost function\n",
    "        for i in range(L):\n",
    "            # activations array is longer (so activations[l] in reality is a_{l-1})\n",
    "            # weights_gradient[i] = np.sum('ij,jk->ijk', activations[i].T, deltas[i]) # to samo, ale dot 10x razy szybszy\n",
    "            weights_gradient[i] = np.dot(activations[i].T, deltas[i])\n",
    "            biases_gradient[i] = np.sum(deltas[i], axis=0)\n",
    "            \n",
    "        return weights_gradient, biases_gradient\n",
    "        \n",
    "    def update_weights(self, X, y, learning_rate):\n",
    "        \"\"\"\n",
    "        updates weights using gradient descent\n",
    "        \"\"\"\n",
    "        m = len(X)\n",
    "        weights_gradient, biases_gradient = self.backward(X, y, learning_rate)\n",
    "        for i in range(len(self.weights)):\n",
    "            self.weights[i] -= (learning_rate/m) * weights_gradient[i]\n",
    "            self.biases[i] -= (learning_rate/m) * biases_gradient[i]\n",
    "    \n",
    "    def create_batches(self, X, y, batch_size):\n",
    "        N = len(X)\n",
    "        combined_data = np.array(list(zip(X, y)))\n",
    "        np.random.shuffle(combined_data)\n",
    "\n",
    "        X_shuffled = np.array(list(zip(*combined_data))[0])\n",
    "        y_shuffled = np.array(list(zip(*combined_data))[1])\n",
    "\n",
    "        X_mini_batches = [X_shuffled[k:k+batch_size] for k in range(0, N, batch_size)]\n",
    "        y_mini_batches = [y_shuffled[k:k+batch_size] for k in range(0, N, batch_size)]\n",
    "        return X_mini_batches, y_mini_batches\n",
    "        \n",
    "    def train(self, X, y, learning_rate=0.001, epochs=10000, batch_size=None, return_history=False,\n",
    "              X_test=None, y_test=None, cutoff=None, resize=False, denormalize=None, info_interval=500):\n",
    "        \"\"\"\n",
    "        To test and print MSE on testset, X_test and y_test need to be provided\n",
    "        To set early stopping, provide cutoff (and test sets)\n",
    "        denormalize - a tuple (mean, std) for denormalizing target\n",
    "        info_interval - number of epochs between logging, set to None to turn off console output\n",
    "        \"\"\"\n",
    "        test_mse = False\n",
    "        if X_test is not None and y_test is not None:\n",
    "            test_mse = True\n",
    "        early_stopping = False\n",
    "        if test_mse and cutoff is not None:\n",
    "            early_stopping = True\n",
    "        \n",
    "        if resize:\n",
    "            X = X.to_numpy().reshape(-1, 1)\n",
    "            y = y.to_numpy().reshape(-1, 1)\n",
    "            if test_mse:\n",
    "                X_test = X_test.to_numpy().reshape(-1, 1)\n",
    "                y_test = y_test.to_numpy().reshape(-1, 1)\n",
    "            \n",
    "        if batch_size is None:\n",
    "            batch_size = len(X)\n",
    "        \n",
    "        y_mse = y\n",
    "        if denormalize is not None:\n",
    "            y_mse = destandardize_data(y, denormalize)\n",
    "            \n",
    "        history = []\n",
    "        test_loss = 0\n",
    "        \n",
    "        for epoch in range(1, epochs+1):\n",
    "            \n",
    "            if batch_size < len(X):\n",
    "                batches_x, batches_y = self.create_batches(X, y, batch_size)\n",
    "                for i in range(len(batches_x)):\n",
    "                    self.update_weights(batches_x[i], batches_y[i], learning_rate)\n",
    "            else:\n",
    "                self.update_weights(X, y, learning_rate)\n",
    "            \n",
    "            if info_interval is not None and epoch % info_interval == 0:\n",
    "                loss = self.mse(X, y_mse, denormalize=denormalize)    \n",
    "                training_info = f\"Epoch {epoch}: Loss = {round(loss, 3)}\"\n",
    "                if test_mse:\n",
    "                    loss_test = self.mse(X_test, y_test, denormalize=denormalize)\n",
    "                    training_info += f\" Test Loss = {round(loss_test, 3)}\"\n",
    "                print(training_info)\n",
    "\n",
    "            history.append([copy.deepcopy(self.weights), copy.deepcopy(self.biases)])\n",
    "            \n",
    "            if early_stopping:\n",
    "                loss_es = self.mse(X_test, y_test, denormalize=denormalize)\n",
    "                if loss_es < cutoff:\n",
    "                    loss = self.mse(X, y_mse, denormalize=denormalize)    \n",
    "                    training_info = f\"Epoch {epoch}: Loss = {round(loss, 3)}\"\n",
    "                    loss_test = self.mse(X_test, y_test, denormalize=denormalize)\n",
    "                    training_info += f\" Test Loss = {round(loss_test, 3)}\"\n",
    "                    print(training_info)\n",
    "                    break\n",
    "        \n",
    "        if return_history:\n",
    "            return history\n",
    "\n",
    "def standardize_data(X):\n",
    "    mean = np.mean(X, axis=0)\n",
    "    std = np.std(X, axis=0)\n",
    "    X_new = (X - mean) / std\n",
    "    return X_new, (mean, std)\n",
    "\n",
    "def destandardize_data(X, parameters):\n",
    "    \"\"\"parameters: a tuple (mean, std)\"\"\"\n",
    "    return X * parameters[1] + parameters[0]\n",
    "\n",
    "def plot_weights(history, layer, bias=False):\n",
    "    \"\"\"\n",
    "    layer - integer, index of weights vector\n",
    "    if to plot bias instead of weights \n",
    "    \"\"\"\n",
    "    weight_type = 0\n",
    "    if bias:\n",
    "        weight_type = 1\n",
    "    weights = []\n",
    "    for epoch in history:\n",
    "        weights.append(epoch[weight_type][layer].flatten())\n",
    "\n",
    "    weights = np.array(first_weights)\n",
    "\n",
    "    for i in range(weights.shape[1]):\n",
    "        w_y = weights[:,i]\n",
    "        plt.plot(range(len(history)), w_y)\n",
    "    plt.show()"
   ]
  },
  {
   "cell_type": "code",
   "execution_count": 3,
   "id": "59652dcd",
   "metadata": {},
   "outputs": [],
   "source": [
    "square_simple = pd.read_csv(\"../dane/regression/square-simple-test.csv\", index_col=0)\n",
    "square_simple_train = pd.read_csv(\"../dane/regression/square-simple-training.csv\", index_col=0)\n",
    "steps_large = pd.read_csv(\"../dane/regression/steps-large-test.csv\", index_col=0)"
   ]
  },
  {
   "cell_type": "markdown",
   "id": "4f534e13",
   "metadata": {},
   "source": [
    "### Pierwszy zbior"
   ]
  },
  {
   "cell_type": "code",
   "execution_count": 7,
   "id": "bccc7e6e",
   "metadata": {},
   "outputs": [
    {
     "name": "stdout",
     "output_type": "stream",
     "text": [
      "Epoch 1000: Loss = 1855.881 Test Loss = 1269.738\n",
      "Epoch 2000: Loss = 150.949 Test Loss = 122.253\n",
      "Epoch 3000: Loss = 66.933 Test Loss = 60.975\n",
      "Epoch 4000: Loss = 38.235 Test Loss = 38.014\n",
      "Epoch 5000: Loss = 24.131 Test Loss = 25.105\n",
      "Epoch 6000: Loss = 16.0 Test Loss = 17.171\n",
      "Epoch 7000: Loss = 11.029 Test Loss = 12.156\n",
      "Epoch 8000: Loss = 7.898 Test Loss = 8.924\n",
      "Epoch 9000: Loss = 5.885 Test Loss = 6.809\n",
      "Epoch 10000: Loss = 4.572 Test Loss = 5.407\n",
      "Epoch 11000: Loss = 3.703 Test Loss = 4.466\n",
      "Epoch 12000: Loss = 3.119 Test Loss = 3.825\n",
      "Epoch 13000: Loss = 2.721 Test Loss = 3.382\n",
      "Epoch 14000: Loss = 2.444 Test Loss = 3.069\n",
      "Epoch 15000: Loss = 2.246 Test Loss = 2.842\n",
      "Epoch 16000: Loss = 2.101 Test Loss = 2.673\n",
      "Epoch 17000: Loss = 1.992 Test Loss = 2.543\n",
      "Epoch 18000: Loss = 1.906 Test Loss = 2.44\n",
      "Epoch 19000: Loss = 1.836 Test Loss = 2.354\n",
      "Epoch 20000: Loss = 1.777 Test Loss = 2.281\n"
     ]
    }
   ],
   "source": [
    "mlp = NeuralNetwork([1,10,1])\n",
    "y_norm, parameters = standardize_data(square_simple_train['y'])\n",
    "history = mlp.train(square_simple_train['x'], y_norm, learning_rate=0.1, epochs=20000, return_history=True, resize=True,\n",
    "                   X_test=square_simple['x'], y_test=square_simple['y'], cutoff=None, denormalize=parameters, info_interval=1000)"
   ]
  },
  {
   "cell_type": "code",
   "execution_count": 8,
   "id": "637c36e6",
   "metadata": {},
   "outputs": [
    {
     "name": "stdout",
     "output_type": "stream",
     "text": [
      "MSE: 2.2807310899115008\n"
     ]
    }
   ],
   "source": [
    "print(\"MSE:\", mlp.mse(square_simple['x'], square_simple['y'], resize=True, denormalize=parameters))"
   ]
  },
  {
   "cell_type": "code",
   "execution_count": 127,
   "id": "c40c7021",
   "metadata": {},
   "outputs": [
    {
     "data": {
      "image/png": "[encoded data removed]",
      "text/plain": [
       "<Figure size 640x480 with 1 Axes>"
      ]
     },
     "metadata": {},
     "output_type": "display_data"
    }
   ],
   "source": [
    "y_pred = mlp.predict(square_simple['x'].to_numpy().reshape(-1,1))\n",
    "y_pred = destandardize_data(y_pred, parameters=parameters)\n",
    "plt.scatter(square_simple['x'], square_simple['y'])\n",
    "plt.scatter(square_simple['x'], y_pred, s=5)\n",
    "plt.show()"
   ]
  },
  {
   "cell_type": "code",
   "execution_count": 137,
   "id": "fb793256",
   "metadata": {
    "scrolled": false
   },
   "outputs": [],
   "source": []
  },
  {
   "cell_type": "code",
   "execution_count": 139,
   "id": "e560e269",
   "metadata": {},
   "outputs": [
    {
     "data": {
      "image/png": "[encoded data removed]",
      "text/plain": [
       "<Figure size 640x480 with 1 Axes>"
      ]
     },
     "metadata": {},
     "output_type": "display_data"
    }
   ],
   "source": [
    "plot_weights(history, 0, bias=False)"
   ]
  },
  {
   "cell_type": "markdown",
   "id": "ef97207a",
   "metadata": {},
   "source": [
    "### Eksperymenty"
   ]
  },
  {
   "cell_type": "code",
   "execution_count": 303,
   "id": "6014f299",
   "metadata": {},
   "outputs": [
    {
     "name": "stdout",
     "output_type": "stream",
     "text": [
      "Średni czas dot: 1.9798874855041504 ms\n",
      "Średni czas einsum: 17.966187000274658 ms\n",
      "Średni czas einsum_dot: 3.65908145904541 ms\n"
     ]
    }
   ],
   "source": [
    "size = 100000\n",
    "a = np.random.randn(size, 5)\n",
    "d = np.random.randn(size, 10)\n",
    "dot_times = []\n",
    "einsum_times = []\n",
    "einsum_dot_times = []\n",
    "\n",
    "for i in range(20):\n",
    "    \n",
    "    start_time = time.time()\n",
    "    np.dot(a.T,d) / size\n",
    "    end_time = time.time()\n",
    "    elapsed_time = end_time - start_time\n",
    "    dot_times.append(elapsed_time)\n",
    "    \n",
    "    start_time = time.time()\n",
    "    np.mean(np.einsum('ij, ik -> ijk', a, d), axis=0)\n",
    "    end_time = time.time()\n",
    "    elapsed_time = end_time - start_time\n",
    "    einsum_times.append(elapsed_time)\n",
    "    \n",
    "    start_time = time.time()\n",
    "    np.mean(np.einsum('ij, jk', a.T, d), axis=0)\n",
    "    end_time = time.time()\n",
    "    elapsed_time = end_time - start_time\n",
    "    einsum_dot_times.append(elapsed_time)\n",
    "    \n",
    "print(\"Średni czas dot:\", np.mean(dot_times) * 1000, \"ms\")\n",
    "print(\"Średni czas einsum:\", np.mean(einsum_times) * 1000, \"ms\")\n",
    "print(\"Średni czas einsum_dot:\", np.mean(einsum_dot_times) * 1000, \"ms\")"
   ]
  },
  {
   "cell_type": "markdown",
   "id": "4c3e412f",
   "metadata": {},
   "source": [
    "### Testowanie"
   ]
  },
  {
   "cell_type": "code",
   "execution_count": 255,
   "id": "80515301",
   "metadata": {},
   "outputs": [],
   "source": [
    "a = np.random.randn(1000000, 2)\n",
    "d = np.random.randn(1000000, 3)"
   ]
  },
  {
   "cell_type": "code",
   "execution_count": 237,
   "id": "c35f3e50",
   "metadata": {},
   "outputs": [
    {
     "data": {
      "text/plain": [
       "array([[ 11.,   3.,   6.],\n",
       "       [ -6.,  11., -27.]])"
      ]
     },
     "execution_count": 237,
     "metadata": {},
     "output_type": "execute_result"
    }
   ],
   "source": [
    "suma = np.zeros((2,3))\n",
    "# dla każdego x z batcha\n",
    "for i in range(100):\n",
    "    # biorę jego aktywacje\n",
    "    col = a.T[:, i].reshape(-1,1)\n",
    "    # biorę delty\n",
    "    row = [d[i]]\n",
    "    # wymnażam otrzymując macierz 2x3\n",
    "    result = np.dot(col, row)\n",
    "    suma += result\n",
    "    # sumuję\n",
    "np.round(suma)"
   ]
  },
  {
   "cell_type": "code",
   "execution_count": null,
   "id": "585fa66b",
   "metadata": {},
   "outputs": [],
   "source": [
    "# eksperyment, używać dot czy einsum\n",
    "# wykres z czasem wykonywania operacji, dot 10 x szybszy"
   ]
  },
  {
   "cell_type": "code",
   "execution_count": 282,
   "id": "b8670c64",
   "metadata": {},
   "outputs": [
    {
     "name": "stdout",
     "output_type": "stream",
     "text": [
      "Czas operacji: 0.04200315475463867 sekund\n"
     ]
    }
   ],
   "source": [
    "start_time = time.time()\n",
    "\n",
    "np.sum(np.einsum('ij, ik -> ijk', a, d), axis=0) / 1000000\n",
    "\n",
    "end_time = time.time()\n",
    "elapsed_time = end_time - start_time\n",
    "print(\"Czas operacji:\", elapsed_time, \"sekund\")"
   ]
  },
  {
   "cell_type": "code",
   "execution_count": 283,
   "id": "25a83308",
   "metadata": {},
   "outputs": [
    {
     "name": "stdout",
     "output_type": "stream",
     "text": [
      "Czas operacji: 0.0664205551147461 sekund\n"
     ]
    }
   ],
   "source": [
    "start_time = time.time()\n",
    "\n",
    "np.mean(np.einsum('ij, ik -> ijk', a, d), axis=0)\n",
    "\n",
    "end_time = time.time()\n",
    "elapsed_time = end_time - start_time\n",
    "print(\"Czas operacji:\", elapsed_time, \"sekund\")"
   ]
  },
  {
   "cell_type": "code",
   "execution_count": 305,
   "id": "6cc54df7",
   "metadata": {},
   "outputs": [
    {
     "data": {
      "text/html": [
       "<div>\n",
       "<style scoped>\n",
       "    .dataframe tbody tr th:only-of-type {\n",
       "        vertical-align: middle;\n",
       "    }\n",
       "\n",
       "    .dataframe tbody tr th {\n",
       "        vertical-align: top;\n",
       "    }\n",
       "\n",
       "    .dataframe thead th {\n",
       "        text-align: right;\n",
       "    }\n",
       "</style>\n",
       "<table border=\"1\" class=\"dataframe\">\n",
       "  <thead>\n",
       "    <tr style=\"text-align: right;\">\n",
       "      <th></th>\n",
       "      <th>x1</th>\n",
       "      <th>x2</th>\n",
       "    </tr>\n",
       "  </thead>\n",
       "  <tbody>\n",
       "    <tr>\n",
       "      <th>1</th>\n",
       "      <td>-1.147359</td>\n",
       "      <td>-0.980437</td>\n",
       "    </tr>\n",
       "    <tr>\n",
       "      <th>2</th>\n",
       "      <td>-1.386513</td>\n",
       "      <td>-1.219074</td>\n",
       "    </tr>\n",
       "    <tr>\n",
       "      <th>3</th>\n",
       "      <td>-0.040289</td>\n",
       "      <td>0.124243</td>\n",
       "    </tr>\n",
       "    <tr>\n",
       "      <th>4</th>\n",
       "      <td>1.065644</td>\n",
       "      <td>1.227789</td>\n",
       "    </tr>\n",
       "    <tr>\n",
       "      <th>5</th>\n",
       "      <td>0.904856</td>\n",
       "      <td>1.067348</td>\n",
       "    </tr>\n",
       "    <tr>\n",
       "      <th>...</th>\n",
       "      <td>...</td>\n",
       "      <td>...</td>\n",
       "    </tr>\n",
       "    <tr>\n",
       "      <th>96</th>\n",
       "      <td>1.153421</td>\n",
       "      <td>1.315377</td>\n",
       "    </tr>\n",
       "    <tr>\n",
       "      <th>97</th>\n",
       "      <td>-1.364358</td>\n",
       "      <td>-1.196968</td>\n",
       "    </tr>\n",
       "    <tr>\n",
       "      <th>98</th>\n",
       "      <td>1.383307</td>\n",
       "      <td>1.544766</td>\n",
       "    </tr>\n",
       "    <tr>\n",
       "      <th>99</th>\n",
       "      <td>0.277204</td>\n",
       "      <td>0.441051</td>\n",
       "    </tr>\n",
       "    <tr>\n",
       "      <th>100</th>\n",
       "      <td>-0.190031</td>\n",
       "      <td>-0.025176</td>\n",
       "    </tr>\n",
       "  </tbody>\n",
       "</table>\n",
       "<p>100 rows × 2 columns</p>\n",
       "</div>"
      ],
      "text/plain": [
       "           x1        x2\n",
       "1   -1.147359 -0.980437\n",
       "2   -1.386513 -1.219074\n",
       "3   -0.040289  0.124243\n",
       "4    1.065644  1.227789\n",
       "5    0.904856  1.067348\n",
       "..        ...       ...\n",
       "96   1.153421  1.315377\n",
       "97  -1.364358 -1.196968\n",
       "98   1.383307  1.544766\n",
       "99   0.277204  0.441051\n",
       "100 -0.190031 -0.025176\n",
       "\n",
       "[100 rows x 2 columns]"
      ]
     },
     "execution_count": 305,
     "metadata": {},
     "output_type": "execute_result"
    }
   ],
   "source": [
    "df = pd.DataFrame()\n",
    "df['x1'] = square_simple['x']\n",
    "dfstd, _, _ = standardize_data(df)\n",
    "dfstd['x2'] = square_simple['x']\n",
    "dfstd"
   ]
  }
 ],
 "metadata": {
  "kernelspec": {
   "display_name": "Python 3 (ipykernel)",
   "language": "python",
   "name": "python3"
  },
  "language_info": {
   "codemirror_mode": {
    "name": "ipython",
    "version": 3
   },
   "file_extension": ".py",
   "mimetype": "text/x-python",
   "name": "python",
   "nbconvert_exporter": "python",
   "pygments_lexer": "ipython3",
   "version": "3.9.13"
  }
 },
 "nbformat": 4,
 "nbformat_minor": 5
}
