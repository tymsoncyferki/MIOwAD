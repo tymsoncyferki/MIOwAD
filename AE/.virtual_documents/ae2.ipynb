


import pandas as pd
import numpy as np
import random
import matplotlib.pyplot as plt





r800 = pd.read_csv("cutting/r800.csv", header=None)


# width, height, value


r800





# find all desks in this vertical path
# calculate vertical space between each found rectangle
# if there is vertical space > height, put the desk over there
# if there is no such space, then put it under lowest collision
# if there are no collisions, put it in the highest available space in vertical path


""" Config """
DEBUG = False


def sort_by_real_value(data: pd.DataFrame):
    """ sorts by value per one unit of measure, modifies data inplace """
    data.columns = ['width', 'height', 'value']
    data['real_value'] = data['value'] / (data['width'] * data['height'])
    data.sort_values(by='real_value', ascending=False, inplace=True)
    data.drop(['real_value'], axis=1, inplace=True)
    data.reset_index(drop=True, inplace=True)
    return data


class EA:

    def __init__(self, data, radius):
        self.data = sort_by_real_value(data.copy()) # desk['width'], desk['height'], desk['value']
        self.radius = radius
        self.rectangles = np.empty((0, 5)) # bottom left corner x, y, width, height, value

    def fitness(self):
        return np.sum(self.rectangles, axis=0)[4]
    
    def initialize(self, n_retries=20):
        population = []
        for i, desk in self.data.iterrows():
            print(f"DESK {i}")
            k = 0
            tries = 0
            while tries < n_retries:
                
                x = random.uniform(-self.radius, self.radius - desk['width'])
                y = random.uniform(-self.radius, self.radius - desk['height'])

                try:
                    vertical_collisions = self.get_vertical_collisions(x, x + desk['width'])
                except Exception:
                    tries += 1
                    continue
                vertical_spaces = self.calculate_vertical_spaces(vertical_collisions)

                if DEBUG:
                    print('Collisions:', vertical_collisions)
                    print('Spaces:', vertical_spaces)

                placed = False
                for (bottom, top) in reversed(vertical_spaces):
                    diff = top - bottom
                    if DEBUG:
                        print('DIFF:', diff)
                    if diff >= desk['height']:
                        y = top - desk['height']
                        if self.is_within_circle(x, y, desk['width'], desk['height']):
                            self.rectangles = np.vstack((self.rectangles, [x, y, desk['width'], desk['height'], desk['value']]))
                            k += 1
                            if DEBUG:
                                print(f"Rectangle {k} placed:", x, y, desk['width'], desk['height'])
                                placed = True
                                break
                if not placed:
                    tries += 1
                        

    def get_vertical_collisions(self, x_left, x_right):
        vertical_collisions = []
        bottom_point = self.find_highest_point(x_left, x_right)
        
        for rect in self.rectangles:
            rect_left = rect[0]
            rect_right = rect[0] + rect[2]
            if (x_right > rect_left and x_left < rect_right) and (rect[1] < int(bottom_point[1])):
                vertical_collisions.append(rect)
                
        bottom_point = self.find_highest_point(x_left, x_right)
        vertical_collisions.append(np.array([int(bottom_point[0]), int(bottom_point[1]), x_right-x_left, self.radius - int(bottom_point[1]), 0]))
        return vertical_collisions
    
    def calculate_vertical_spaces(self, vertical_collisions):
        
        vertical_collisions = sorted(vertical_collisions, key=lambda r: r[1])
        vertical_spaces = [(-self.radius, vertical_collisions[0][1])]

        for i in range(1, len(vertical_collisions)):
            bottom = vertical_collisions[i-1][1] + vertical_collisions[i-1][3]
            top = vertical_collisions[i][1]
            vertical_spaces.append((bottom, top))

        return vertical_spaces

    def is_within_circle(self, x, y, width, height):
        corners = [(x, y), (x + width, y), (x, y + height), (x + width, y + height)]
        for corner in corners:
            if np.sqrt(corner[0]**2 + corner[1]**2) > self.radius:
                return False
        return True

    def is_not_overlapping(self, x, y, width, height):
        for rect in self.rectangles:
            if (x + width > rect[0] and x < rect[0] + rect[2]) and (y + height > rect[1] and y < rect[1] + rect[3]):
                return False
        return True
    
    def find_highest_point(self, x1, x2):
        num_points = int((x2 - x1) * 2)
        points = []
        for i in range(num_points):
            angle = 2 * math.pi * i / num_points
            x = (self.radius - 1) * math.cos(angle)
            y = (self.radius - 1) * math.sin(angle)
            if x > x1 and x < x2 and y >= 0:
                points.append([x, y])
        points = np.array(points)
        return points[np.argmin(points[:, 1])]

    def visualize(self):
        fig, ax = plt.subplots()
    
        circle = plt.Circle((0, 0), self.radius, color='blue', fill=False, linewidth=2)
        ax.add_patch(circle)
    
        for rect in self.rectangles:
            x, y, width, height, _ = rect
            rectangle = plt.Rectangle((x, y), width, height, edgecolor='black', facecolor='yellow', linewidth=1)
            ax.add_patch(rectangle)
    
        ax.set_aspect('equal', 'box')
        offset = int(self.radius / 16)
        ax.set_xlim(-self.radius - offset, self.radius + offset)
        ax.set_ylim(-self.radius - offset, self.radius + offset)
        ax.set_title(f'R = {self.radius}')
    
        plt.show()








ea = EA(r800, 800)
ea.initialize(n_retries=20)


ea.visualize()
ea.fitness()





r850 = pd.read_csv("cutting/r850.csv", header=None)


ea2 = EA(r850, 850)
ea2.initialize()


ea2.visualize()
print(f"Value: {ea2.fitness()}")





r1000 = pd.read_csv("cutting/r1000.csv", header=None)


ea3 = EA(r1000, 1000)
ea3.initialize(n_retries=120)


ea3.visualize()
print(f"Value: {ea3.fitness()}")





r1100 = pd.read_csv("cutting/r1100.csv", header=None)


ea4 = EA(r1100, 1100)
ea4.initialize(n_retries=100)


ea4.visualize()
print(f"Value: {ea4.fitness()}")





r1200 = pd.read_csv("cutting/r1200.csv", header=None)


ea5 = EA(r1200, 1200)
ea5.initialize(n_retries=100)


ea5.visualize()
print(f"Value: {ea5.fitness()}")
