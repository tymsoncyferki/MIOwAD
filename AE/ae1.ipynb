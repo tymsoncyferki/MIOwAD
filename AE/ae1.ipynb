{
 "cells": [
  {
   "cell_type": "markdown",
   "id": "b1239a85",
   "metadata": {},
   "source": [
    "## Algorytmy ewolucyjne"
   ]
  },
  {
   "cell_type": "code",
   "execution_count": 1,
   "id": "6dc50c38",
   "metadata": {},
   "outputs": [],
   "source": [
    "import numpy as np\n",
    "import pandas as pd"
   ]
  },
  {
   "cell_type": "markdown",
   "id": "82cb5e2c",
   "metadata": {},
   "source": [
    "Napisać podstawowy algorytm genetyczny z mutacją gaussowską i krzyżowaniem jednopunktowym. Sprawdzić działanie algorytmu na funkcji x2+y2+2z2 oraz na pięciowymiarowej funkcji Rastrigina."
   ]
  },
  {
   "cell_type": "code",
   "execution_count": 2,
   "id": "f75bb519",
   "metadata": {},
   "outputs": [],
   "source": [
    "def my_func(individual):\n",
    "    x, y, z = individual\n",
    "    return x**2 + y**2 + 2*z**2"
   ]
  },
  {
   "cell_type": "code",
   "execution_count": 63,
   "id": "13ba9c12",
   "metadata": {
    "collapsed": true
   },
   "outputs": [
    {
     "data": {
      "text/plain": [
       "array([ 8.38438842,  7.32375471,  2.74712871, 16.73659341,  5.90368977,\n",
       "        4.76944414,  3.45944955,  2.67315835,  0.90421603,  1.41733162,\n",
       "        0.2127339 ,  3.88729224,  8.50524247,  2.29544059,  6.27622929,\n",
       "        1.56575907,  2.35242702,  0.90764445,  0.77827086,  0.85615449,\n",
       "        1.93444612,  1.79311223,  1.60470967,  2.11745316, 14.44908079,\n",
       "        0.40520237,  6.36132461,  4.56013743,  5.20891348,  4.66564227,\n",
       "        1.01994977,  2.58339349,  1.75100626,  9.07654847,  5.97251812,\n",
       "        0.82402216,  0.11034648,  1.72174618,  6.02874043,  2.06805091,\n",
       "        1.94931963,  7.08509613, 13.35118367,  3.79449024,  2.96363757,\n",
       "        1.02181331,  4.3151015 , 15.54580029, 10.79205068,  0.97234349,\n",
       "        3.11013846,  2.85419148,  5.56834535,  6.3953319 ,  5.72280047,\n",
       "        0.76120645,  0.49023696,  6.55449339,  0.86568494, 11.98851225,\n",
       "        1.57709778,  1.35671655,  0.52498599,  1.38295247,  3.34082365,\n",
       "        1.48042381,  2.09233647,  1.80686448,  1.73240453,  7.90045222,\n",
       "       17.85760005,  6.57211559,  2.55520618,  2.15704973,  5.92602725,\n",
       "        3.12284034,  5.81152739,  8.25341381,  2.28392283,  2.89752993,\n",
       "        0.76463168,  3.94753322,  5.62726815,  1.3721837 ,  3.17633501,\n",
       "        0.92860763,  3.66404284,  0.42223705,  1.0070367 ,  1.86907049,\n",
       "        1.52425477,  7.13238995,  4.21519731,  2.18070643,  6.93844769,\n",
       "        0.60886067,  1.9951358 ,  2.10423278,  4.06147462,  7.40834963])"
      ]
     },
     "execution_count": 63,
     "metadata": {},
     "output_type": "execute_result"
    }
   ],
   "source": [
    "np.apply_along_axis(my_func, 1, population)"
   ]
  },
  {
   "cell_type": "code",
   "execution_count": 81,
   "id": "27c40b42",
   "metadata": {},
   "outputs": [],
   "source": [
    "class AE:\n",
    "    \n",
    "    def __init__(self, dimension, population_size, generations=100):\n",
    "        self.dimension = dimension\n",
    "        self.population_size = population_size\n",
    "        self.population = np.random.randn(population_size, dimension)\n",
    "        self.generations = generations\n",
    "        self.mutation_rate = None\n",
    "        self.crossover_rate = None\n",
    "        self.fitness_function = None\n",
    "    \n",
    "    def point_crossover(self, parent1, parent2):\n",
    "        if np.random.rand() < self.crossover_rate:\n",
    "            point = np.random.randint(1, self.dimension)\n",
    "            child1 = np.concatenate((parent1[:point], parent2[point:]))\n",
    "            child2 = np.concatenate((parent2[:point], parent1[point:]))\n",
    "            return child1, child2\n",
    "        return parent1, parent2\n",
    "    \n",
    "    def gaussian_mutation(self, individual):\n",
    "        if np.random.rand() < self.mutation_rate:\n",
    "            individual += np.random.normal(0, 1, self.dimension)\n",
    "        return individual\n",
    "    \n",
    "    def evaluation(self, population):\n",
    "        return np.apply_along_axis(self.fitness_function, 1, population)\n",
    "    \n",
    "    def wheel_selection(self, population):\n",
    "        fitness = self.evaluation(self.population)\n",
    "        probabilities = fitness / np.sum(fitness)\n",
    "        selected_indices = np.random.choice(self.population_size, self.population_size, p=probabilities)\n",
    "        return population[selected_indices]\n",
    "    \n",
    "    def choose_two_random_indexes(self, population_size):\n",
    "        # Choose two distinct indexes\n",
    "        idx1, idx2 = np.random.choice(population_size, 2, replace=False)\n",
    "        return idx1, idx2\n",
    "    \n",
    "    def train(self, fitness_function, mutation_rate=0.1, crossover_rate=0.8):\n",
    "        \n",
    "        self.fitness_function = fitness_function\n",
    "        self.mutation_rate = mutation_rate\n",
    "        self.crossover_rate = crossover_rate\n",
    "        \n",
    "        for generation in range(self.generations):\n",
    "            \n",
    "            fitness = self.evaluation(self.population)\n",
    "\n",
    "            new_population = []\n",
    "\n",
    "            while len(new_population) < self.population_size:\n",
    "                idx1, idx2 = self.choose_two_random_indexes(self.population_size)\n",
    "                child1, child2 = self.point_crossover(self.population[idx1], self.population[idx2])\n",
    "                child1 = self.gaussian_mutation(child1)\n",
    "                child2 = self.gaussian_mutation(child2)\n",
    "                new_population.extend([child1, child2])\n",
    "\n",
    "            population = np.array(new_population[:self.population_size])\n",
    "            self.population = wheel_selection(population)\n",
    "\n",
    "        \n",
    "        fitness = np.array([fitness_function(ind) for ind in population])\n",
    "        best_individual = population[np.argmin(fitness)]\n",
    "        best_fitness = fitness_function(best_individual)"
   ]
  },
  {
   "cell_type": "code",
   "execution_count": 79,
   "id": "f54091f7",
   "metadata": {},
   "outputs": [],
   "source": [
    "ae = AE(3, 50)"
   ]
  },
  {
   "cell_type": "code",
   "execution_count": 80,
   "id": "dc18f521",
   "metadata": {},
   "outputs": [
    {
     "ename": "NameError",
     "evalue": "name 'dimension' is not defined",
     "output_type": "error",
     "traceback": [
      "\u001b[1;31m---------------------------------------------------------------------------\u001b[0m",
      "\u001b[1;31mNameError\u001b[0m                                 Traceback (most recent call last)",
      "Cell \u001b[1;32mIn[80], line 1\u001b[0m\n\u001b[1;32m----> 1\u001b[0m ae\u001b[38;5;241m.\u001b[39mtrain(my_func)\n",
      "Cell \u001b[1;32mIn[78], line 54\u001b[0m, in \u001b[0;36mAE.train\u001b[1;34m(self, fitness_function, mutation_rate, crossover_rate)\u001b[0m\n\u001b[0;32m     52\u001b[0m idx1, idx2 \u001b[38;5;241m=\u001b[39m \u001b[38;5;28mself\u001b[39m\u001b[38;5;241m.\u001b[39mchoose_two_random_indexes(\u001b[38;5;28mself\u001b[39m\u001b[38;5;241m.\u001b[39mpopulation_size)\n\u001b[0;32m     53\u001b[0m child1, child2 \u001b[38;5;241m=\u001b[39m \u001b[38;5;28mself\u001b[39m\u001b[38;5;241m.\u001b[39mpoint_crossover(\u001b[38;5;28mself\u001b[39m\u001b[38;5;241m.\u001b[39mpopulation[idx1], \u001b[38;5;28mself\u001b[39m\u001b[38;5;241m.\u001b[39mpopulation[idx2])\n\u001b[1;32m---> 54\u001b[0m child1 \u001b[38;5;241m=\u001b[39m \u001b[38;5;28mself\u001b[39m\u001b[38;5;241m.\u001b[39mgaussian_mutation(child1)\n\u001b[0;32m     55\u001b[0m child2 \u001b[38;5;241m=\u001b[39m \u001b[38;5;28mself\u001b[39m\u001b[38;5;241m.\u001b[39mgaussian_mutation(child2)\n\u001b[0;32m     56\u001b[0m new_population\u001b[38;5;241m.\u001b[39mextend([child1, child2])\n",
      "Cell \u001b[1;32mIn[78], line 22\u001b[0m, in \u001b[0;36mAE.gaussian_mutation\u001b[1;34m(self, individual)\u001b[0m\n\u001b[0;32m     20\u001b[0m \u001b[38;5;28;01mdef\u001b[39;00m \u001b[38;5;21mgaussian_mutation\u001b[39m(\u001b[38;5;28mself\u001b[39m, individual):\n\u001b[0;32m     21\u001b[0m     \u001b[38;5;28;01mif\u001b[39;00m np\u001b[38;5;241m.\u001b[39mrandom\u001b[38;5;241m.\u001b[39mrand() \u001b[38;5;241m<\u001b[39m \u001b[38;5;28mself\u001b[39m\u001b[38;5;241m.\u001b[39mmutation_rate:\n\u001b[1;32m---> 22\u001b[0m         individual \u001b[38;5;241m+\u001b[39m\u001b[38;5;241m=\u001b[39m np\u001b[38;5;241m.\u001b[39mrandom\u001b[38;5;241m.\u001b[39mnormal(\u001b[38;5;241m0\u001b[39m, \u001b[38;5;241m1\u001b[39m, dimension)\n\u001b[0;32m     23\u001b[0m     \u001b[38;5;28;01mreturn\u001b[39;00m individual\n",
      "\u001b[1;31mNameError\u001b[0m: name 'dimension' is not defined"
     ]
    }
   ],
   "source": [
    "ae.train(my_func)"
   ]
  }
 ],
 "metadata": {
  "kernelspec": {
   "display_name": "Python 3 (ipykernel)",
   "language": "python",
   "name": "python3"
  },
  "language_info": {
   "codemirror_mode": {
    "name": "ipython",
    "version": 3
   },
   "file_extension": ".py",
   "mimetype": "text/x-python",
   "name": "python",
   "nbconvert_exporter": "python",
   "pygments_lexer": "ipython3",
   "version": "3.11.5"
  }
 },
 "nbformat": 4,
 "nbformat_minor": 5
}
