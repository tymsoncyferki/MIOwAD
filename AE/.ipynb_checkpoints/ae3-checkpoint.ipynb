{
 "cells": [
  {
   "cell_type": "markdown",
   "id": "bb24a1ab-b3b3-4e12-9522-fb5d1ae68888",
   "metadata": {},
   "source": [
    "## AE3"
   ]
  },
  {
   "cell_type": "code",
   "execution_count": 465,
   "id": "99702c9c-00b6-45be-b84c-b785a2b70a9b",
   "metadata": {},
   "outputs": [],
   "source": [
    "import pandas as pd\n",
    "import numpy as np\n",
    "import matplotlib.pyplot as plt\n",
    "from copy import deepcopy\n",
    "from ucimlrepo import fetch_ucirepo \n",
    "from sklearn.metrics import f1_score"
   ]
  },
  {
   "cell_type": "code",
   "execution_count": 519,
   "id": "a8931393-d25e-42ee-a2a6-79754bd36a0d",
   "metadata": {},
   "outputs": [],
   "source": [
    "# struktura sieci neuronowej\n",
    "\n",
    "class NeuralNetwork:\n",
    "    \"\"\"\n",
    "    Implementation of multi layer perceptron\n",
    "\n",
    "    Attributes\n",
    "    -----------\n",
    "    model_type : str\n",
    "        model type, regressor or classifier\n",
    "    layers : List\n",
    "        list of layer sizes\n",
    "    num_layers : int\n",
    "        number of layers\n",
    "    init_function : func\n",
    "        \n",
    "    \"\"\"\n",
    "    \n",
    "    def __init__(self, layers, X, y, initalization='xavier', model_type='regression', resize=False, weights=None, biases=None, activations=None):\n",
    "        \"\"\"\n",
    "        activations - list of available functions: 'sigmoid', 'linear', 'tanh', 'relu', 'softmax' ('softmax' can be used only on the last layer)\n",
    "        initialization - available types: 'xavier', 'he', 'uniform'\n",
    "        model_type - available types: 'regression', 'classification'\n",
    "        \"\"\"        \n",
    "        self.layers = layers\n",
    "        self.num_layers = len(layers)\n",
    "        if resize:\n",
    "            X = X.to_numpy().reshape(-1, 1)\n",
    "            y = y.to_numpy().reshape(-1, 1)\n",
    "        self.X = X\n",
    "        self.y = y\n",
    "        \n",
    "        initialization_functions = {\n",
    "            'xavier': self.xavier_init,\n",
    "            'he': self.he_init,\n",
    "            'uniform': self.uniform_init\n",
    "        }\n",
    "        self.init_function = initialization_functions.get(initalization)\n",
    "        \n",
    "        assert model_type in ['regression', 'classification']\n",
    "        self.model_type = model_type\n",
    "        \n",
    "        if weights is None:\n",
    "            self.weights = [self.init_function(layers[i-1], layers[i]) for i in range(1, self.num_layers)]\n",
    "        else:\n",
    "            self.weights = weights\n",
    "        \n",
    "        if biases is None:\n",
    "            self.biases = [self.init_function(layers[i]) for i in range(1, self.num_layers)]\n",
    "        else:\n",
    "            self.biases = biases\n",
    "        \n",
    "        if activations is None:\n",
    "            if self.model_type == 'regression':\n",
    "                self.activations = ['sigmoid' for i in range(1, self.num_layers - 1)] + ['linear']\n",
    "            elif self.model_type == 'classification':\n",
    "                self.activations = ['sigmoid' for i in range(1, self.num_layers - 1)] + ['softmax']\n",
    "        else:\n",
    "            self.activations = activations\n",
    "        \n",
    "        activation_functions = {\n",
    "            'sigmoid': self._sigmoid,\n",
    "            'linear': self._linear,\n",
    "            'softmax': self._softmax,\n",
    "            'tanh': self._tanh,\n",
    "            'relu': self._relu\n",
    "        }\n",
    "        self.activation_funcs = list(map(lambda x: activation_functions.get(x), self.activations))\n",
    "    \n",
    "    def _sigmoid(self, z):\n",
    "        return 1 / (1 + np.exp(-z))\n",
    "\n",
    "    def _linear(self, z):\n",
    "        return z\n",
    "    \n",
    "    def _tanh(self, z):\n",
    "        return (np.exp(z) - np.exp(-z)) / (np.exp(z) + np.exp(-z))\n",
    "    \n",
    "    def _relu(self, z):\n",
    "        return np.maximum(z, 0)\n",
    "    \n",
    "    def _softmax(self, z):\n",
    "        exp_z = np.exp(z - np.max(z, axis=1, keepdims=True))\n",
    "        return exp_z / exp_z.sum(axis=1, keepdims=True)\n",
    "    \n",
    "    def tanh_derivative(self, a):\n",
    "        \"\"\"calculates tanh'(z) where a = tanh(z)\"\"\"\n",
    "        return 1 - (a ** 2)\n",
    "    \n",
    "    def sigmoid_derivative(self, a):\n",
    "        \"\"\"calculates sigm'(z) where a = sigm(z)\"\"\"\n",
    "        return a * (1-a)\n",
    "    \n",
    "    def relu_derivative(self, z):\n",
    "        return np.maximum(0, np.sign(z))\n",
    "    \n",
    "    def xavier_init(self, n_in, n_out=None):\n",
    "        if n_out is None:\n",
    "            n_out = n_in\n",
    "            variance = 1 / n_out\n",
    "            stddev = np.sqrt(variance)\n",
    "            return np.random.normal(0, stddev, n_out)\n",
    "        variance = 2 / (n_in + n_out)\n",
    "        stddev = np.sqrt(variance)\n",
    "        return np.random.normal(0, stddev, (n_in, n_out))\n",
    "        \n",
    "    def he_init(self, n_in, n_out=None):\n",
    "        if n_out is None:\n",
    "            variance = 2 / n_in\n",
    "            stddev = np.sqrt(variance)\n",
    "            return np.random.normal(0, stddev, n_in)\n",
    "        variance = 2 / n_in\n",
    "        stddev = np.sqrt(variance)\n",
    "        return np.random.normal(0, stddev, (n_in, n_out))\n",
    "    \n",
    "    def zeros_init(self, n_in, n_out=None):\n",
    "        if n_out is None:\n",
    "            return np.zeros(n_in)\n",
    "        return np.zeros((n_in, n_out))\n",
    "    \n",
    "    def uniform_init(self, n_in, n_out=None):\n",
    "        if n_out is None:\n",
    "            return np.random.uniform(0, 1, n_in)\n",
    "        return np.random.uniform(0, 1, (n_in, n_out))\n",
    "    \n",
    "    def feedforward(self, a, return_activations=False):\n",
    "        if return_activations:\n",
    "            activations = [a]\n",
    "            for w, b, func in zip(self.weights, self.biases, self.activation_funcs):\n",
    "                z = np.dot(a, w) + b\n",
    "                a = func(z)\n",
    "                activations.append(a)\n",
    "            return activations\n",
    "        else:\n",
    "            for w, b, func in zip(self.weights, self.biases, self.activation_funcs):\n",
    "                z = np.dot(a, w) + b\n",
    "                a = func(z)\n",
    "            return a\n",
    "    \n",
    "    def predict(self, X, label=False):\n",
    "        \"\"\" if to use label_predictions function \"\"\"\n",
    "        if label:\n",
    "            return label_predictions(self.feedforward(X))\n",
    "        else:\n",
    "            return self.feedforward(X)\n",
    "    \n",
    "    def mse(self, X, y, resize=False, denormalize=None):\n",
    "        \"\"\"\n",
    "        first predictions are made, then denormalized and then mse is calculated\n",
    "        \n",
    "        denormalize - a tuple (mean, std)\n",
    "        \"\"\"\n",
    "        if resize:\n",
    "            X = X.to_numpy().reshape(-1, 1)\n",
    "            y = y.to_numpy().reshape(-1, 1)\n",
    "        predictions = self.predict(X)\n",
    "        if denormalize:\n",
    "            predictions = destandardize_data(predictions, denormalize)\n",
    "        return np.mean((predictions - y) ** 2)\n",
    "    \n",
    "    def f1_score(self, X, y_true, average='weighted'):\n",
    "        \"\"\"\n",
    "        calculates f1 score. \n",
    "        y_true : 2 dimensional array with probabilities\n",
    "        average: 'weighted', 'macro'\n",
    "        \"\"\"\n",
    "        predictions = self.predict(X)\n",
    "        y_pred = label_predictions(predictions)\n",
    "        y_true = label_predictions(y_true)\n",
    "        f1 = f1_score(y_true, y_pred, average='weighted')\n",
    "        return f1\n",
    "\n",
    "    def cross_entropy(self, X, y):\n",
    "        \"\"\" Calculates cross entropy loss \"\"\"\n",
    "        predictions = self.predict(X)\n",
    "        epsilon = 1e-9  # Small constant to avoid taking the logarithm of zero\n",
    "        return -np.mean(np.sum(y * np.log(predictions + epsilon), axis=1))\n",
    "    \n",
    "    def loss(self, X, y, resize=False, denormalize=None, test=False):\n",
    "        \"\"\" returns appriopriate loss \"\"\"\n",
    "        if self.model_type == 'regression':\n",
    "            return self.mse(X, y, resize=resize, denormalize=denormalize)\n",
    "        elif self.model_type == 'classification':\n",
    "            if test:\n",
    "                return self.f1_score(X, y)\n",
    "            else:\n",
    "                return self.cross_entropy(X, y)\n",
    "\n",
    "    def fitness(self, test=False):\n",
    "        return self.loss(self.X, self.y, test=test)\n",
    "    \n",
    "    def flatten_weights(self):\n",
    "        \"\"\" flattens weights and biases \"\"\"\n",
    "        flat = []\n",
    "        for weights, biases in zip(self.weights, self.biases):\n",
    "            flat.extend(weights.flatten())\n",
    "            flat.extend(biases.flatten())\n",
    "        return flat\n",
    "    \n",
    "    def unflatten_weights(self, flat):\n",
    "        \"\"\" unflattens flat array of weights and biases \"\"\"\n",
    "        weights_full = []\n",
    "        biases_full = []\n",
    "        \n",
    "        for weights, biases in zip(self.weights, self.biases):\n",
    "            w_len = len(weights.flatten())\n",
    "            b_len = len(biases.flatten())\n",
    "            \n",
    "            w_flat = flat[:w_len]\n",
    "            w_unflat = np.array(w_flat).reshape(weights.shape)\n",
    "            weights_full.append(w_unflat)\n",
    "            flat = flat[w_len:]\n",
    "            \n",
    "            b_flat = flat[:b_len]\n",
    "            b_unflat = np.array(b_flat).reshape(biases.shape)\n",
    "            biases_full.append(b_unflat)\n",
    "            flat = flat[b_len:]\n",
    "        \n",
    "        return weights_full, biases_full\n",
    "    \n",
    "def standardize_data(X):\n",
    "    \"\"\"\n",
    "    returns:\n",
    "    X_new - standardized X\n",
    "    a tuple (mean, std) - normal distribution parameters from X for destandarizing\n",
    "    \"\"\"\n",
    "    mean = np.mean(X, axis=0)\n",
    "    std = np.std(X, axis=0)\n",
    "    X_new = (X - mean) / std\n",
    "    return X_new, (mean, std)\n",
    "\n",
    "def destandardize_data(X, parameters):\n",
    "    \"\"\"parameters: a tuple (mean, std)\"\"\"\n",
    "    return X * parameters[1] + parameters[0]\n",
    "\n",
    "\n",
    "def label_predictions(y_pred, class_order=None):\n",
    "    \"\"\"\n",
    "    y_pred : 2 dimensional array\n",
    "    class_order : default [..., 2, 1, 0]\n",
    "    \"\"\"\n",
    "    if class_order is None:\n",
    "        class_order = np.array(range(len(y_pred[0])))\n",
    "    max_indices = np.argmax(y_pred, axis=1)\n",
    "    return class_order[max_indices]\n",
    "\n",
    "def one_hot_encode(y):\n",
    "    \"\"\" y : pd.Series \"\"\"\n",
    "    return pd.get_dummies(y, dtype=int).to_numpy()\n",
    "\n",
    "def decode_array(array):\n",
    "    \"\"\" decodes one hot encoded array \"\"\"\n",
    "    decoded_indices = np.argmax(array, axis=1)\n",
    "    return decoded_indices.tolist()\n",
    "\n",
    "def mse(y_true, y_pred):\n",
    "    \"\"\" calculated mse \"\"\"\n",
    "    return np.mean((y_pred - y_true) ** 2)\n",
    "\n",
    "def cross_entropy(y_true, y_pred):\n",
    "    \"\"\" calculates cross entropy loss, y_true and y_pred should be 2-dimensional \"\"\"\n",
    "    return -np.mean(np.sum(y_true * np.log(y_pred), axis=1))"
   ]
  },
  {
   "cell_type": "code",
   "execution_count": 520,
   "id": "78b57e2d-3a0e-4dab-af5a-64e6af94fa78",
   "metadata": {},
   "outputs": [],
   "source": [
    "class EvoAlg:\n",
    "    \n",
    "    def __init__(self, X, y, layers, model_type, resize=False, population_size=20, generations=100):\n",
    "        self.default_mlp = NeuralNetwork(layers=layers, X=X, y=y, model_type=model_type, resize=resize)\n",
    "        self.X = X\n",
    "        self.y = y\n",
    "        self.layers = layers\n",
    "        self.model_type = model_type\n",
    "        self.dimension = len(self.default_mlp.flatten_weights())\n",
    "        self.population_size = population_size\n",
    "        self.population = np.array([NeuralNetwork(layers=layers, X=X, y=y, model_type=model_type, resize=resize) for i in range(population_size)])\n",
    "        self.generations = generations\n",
    "        self.mutation_rate = None\n",
    "        self.crossover_rate = None\n",
    "    \n",
    "    def point_crossover(self, parent1, parent2):\n",
    "        if np.random.rand() < self.crossover_rate:\n",
    "            point = np.random.randint(1, self.dimension)\n",
    "            \n",
    "            parent1_flat = parent1.flatten_weights()\n",
    "            parent2_flat = parent2.flatten_weights()\n",
    "            \n",
    "            child1_flat = np.concatenate((parent1_flat[:point], parent2_flat[point:]))\n",
    "            child2_flat = np.concatenate((parent2_flat[:point], parent1_flat[point:]))\n",
    "\n",
    "            child1_weights, child1_biases = parent1.unflatten_weights(child1_flat)\n",
    "            child2_weights, child2_biases = parent2.unflatten_weights(child2_flat)\n",
    "\n",
    "            child1 = deepcopy(self.default_mlp)\n",
    "            child2 = deepcopy(self.default_mlp)\n",
    "            \n",
    "            child1.weights = child1_weights\n",
    "            child1.biases = child1_biases\n",
    "            child2.weights = child2_weights\n",
    "            child2.biases = child2_biases\n",
    "            \n",
    "            return child1, child2\n",
    "        return parent1, parent2\n",
    "    \n",
    "    def gaussian_mutation(self, individual):\n",
    "        if np.random.rand() < self.mutation_rate:\n",
    "            \n",
    "            ind_flat = np.array(individual.flatten_weights())\n",
    "\n",
    "            # standardize\n",
    "            ind_flat_norm, norm_params = standardize_data(ind_flat)\n",
    "            \n",
    "            # ind_flat_norm += np.random.normal(0, 1, self.dimension)\n",
    "\n",
    "            num_indices = np.random.randint(1, self.dimension + 1)\n",
    "            indices_to_modify = np.random.choice(self.dimension, num_indices, replace=False)\n",
    "            random_values = np.random.normal(0, 1, num_indices)\n",
    "            ind_flat_norm[indices_to_modify] += random_values\n",
    "            \n",
    "            ind_flat = destandardize_data(ind_flat_norm, norm_params)\n",
    "            \n",
    "            ind_weights, ind_biases = individual.unflatten_weights(ind_flat)\n",
    "            new_ind = deepcopy(individual)\n",
    "            new_ind.weights = ind_weights\n",
    "            new_ind.biases = ind_biases\n",
    "            return new_ind\n",
    "            \n",
    "        return individual\n",
    "    \n",
    "    def evaluation(self, population):\n",
    "        return np.array([ind.fitness() for ind in population])\n",
    "    \n",
    "    def wheel_selection(self, population, size=None):\n",
    "        if size is None:\n",
    "            size = self.population_size\n",
    "        fitness = self.evaluation(population) + 0.01\n",
    "        fitness_inverted = 1 / fitness\n",
    "        probabilities = fitness_inverted / np.sum(fitness_inverted)\n",
    "        selected_indices = np.random.choice(len(population), size, p=probabilities)\n",
    "        return population[selected_indices]\n",
    "    \n",
    "    def choose_random_individuals(self, population_size, n):\n",
    "        individuals = self.population[np.random.choice(population_size, n, replace=False)]\n",
    "        if n == 1:\n",
    "            return individuals[0]\n",
    "        else:\n",
    "            return individuals\n",
    "    \n",
    "    def train(self, mutation_rate=0.7, crossover_rate=0.7, mute_print=False):\n",
    "        \n",
    "        self.mutation_rate = mutation_rate\n",
    "        self.crossover_rate = crossover_rate\n",
    "        \n",
    "        best_fitness_history = []\n",
    "        \n",
    "        for generation in range(self.generations):\n",
    "\n",
    "            new_population = []\n",
    "            while len(new_population) < self.population_size:\n",
    "                parent1, parent2 = self.choose_random_individuals(self.population_size, 2)\n",
    "                child1, child2 = self.point_crossover(parent1, parent2)\n",
    "                new_population.extend([child1, child2])\n",
    "            population = np.vstack([self.population, np.array(new_population)]).flatten()\n",
    "            \n",
    "            new_population = []\n",
    "            for i, parent in enumerate(population):\n",
    "                child = self.gaussian_mutation(parent)\n",
    "                new_population.extend([child])\n",
    "            population = np.vstack([population, np.array(new_population)]).flatten()\n",
    "            \n",
    "            fitness = self.evaluation(population)\n",
    "\n",
    "            num_top_individuals = max(1, int(0.1 * len(population)))\n",
    "            sorted_indices = np.argsort(fitness)\n",
    "            top_individuals = population[sorted_indices[:num_top_individuals]]\n",
    "        \n",
    "            remaining_population = self.wheel_selection(population, size=self.population_size - num_top_individuals)\n",
    "        \n",
    "            self.population = np.concatenate((top_individuals, remaining_population))\n",
    "\n",
    "            # self.population = self.wheel_selection(population, size=self.population_size)\n",
    "        \n",
    "            fitness = self.evaluation(self.population)\n",
    "            best_individual = self.population[np.argmin(fitness)]\n",
    "            best_fitness = best_individual.fitness()\n",
    "            \n",
    "            best_fitness_history.append(best_fitness)\n",
    "            \n",
    "            if not mute_print:\n",
    "                if (generation + 1) % 5 == 0:\n",
    "                    print(f\"Generation {generation+1}: best individual: {best_individual}, fitness: {best_fitness}\")\n",
    "        \n",
    "        if mute_print:\n",
    "            print(f\"Best individual: {best_individual}, fitness: {best_fitness}\")\n",
    "\n",
    "        history = History(best_fitness_history)\n",
    "        \n",
    "        return {'history': history,\n",
    "                'best_individual': best_individual,\n",
    "                'best_fitness': best_fitness}\n",
    "    \n",
    "class History:\n",
    "    \n",
    "    def __init__(self, fitness):\n",
    "        self.fitness = fitness\n",
    "        self.generations = list(range(len(fitness)))\n",
    "    \n",
    "    def plot_history(self):\n",
    "        plt.plot(self.generations, self.fitness)\n",
    "        plt.ylabel(\"Best individual fitness\")\n",
    "        plt.xlabel(\"Generation\")\n",
    "        plt.title(\"Evolution history\")\n",
    "        plt.show()"
   ]
  },
  {
   "cell_type": "markdown",
   "id": "fdaa47f0-f57e-4faa-a528-c1283f12a80f",
   "metadata": {},
   "source": [
    "## Multimodal"
   ]
  },
  {
   "cell_type": "code",
   "execution_count": 277,
   "id": "d1d6218b-5eb5-4500-9339-61ae5a076105",
   "metadata": {},
   "outputs": [],
   "source": [
    "def plot_multimodal(data, network):    \n",
    "    preds_modal = network.predict(data['x'].to_numpy().reshape(-1,1))\n",
    "    plt.scatter(data['x'], data['y'])\n",
    "    plt.scatter(data['x'], preds_modal, s=5)\n",
    "    print('MSE:', network.mse(data['x'], data['y'], resize=True))\n",
    "    plt.show()"
   ]
  },
  {
   "cell_type": "code",
   "execution_count": 10,
   "id": "d5f7b9f9-45e9-4b30-889b-b6b73c56fcf8",
   "metadata": {},
   "outputs": [],
   "source": [
    "multimodal = pd.read_csv(\"dane/multimodal-large-training.csv\", index_col=0).reset_index()"
   ]
  },
  {
   "cell_type": "markdown",
   "id": "cbe4bb8b-76a9-4fd1-b657-19266ea29859",
   "metadata": {},
   "source": [
    "### Experiments"
   ]
  },
  {
   "cell_type": "markdown",
   "id": "3efa5c36-2e2a-4948-968b-63eac247e610",
   "metadata": {},
   "source": [
    "### 1, 10, 1"
   ]
  },
  {
   "cell_type": "code",
   "execution_count": 267,
   "id": "61ab9bf2-b658-40f5-8693-a0718baeb17c",
   "metadata": {},
   "outputs": [],
   "source": [
    "ae = EvoAlg(X=multimodal['x'], y=multimodal['y'], layers=[1,10,1], model_type='regression',\n",
    "            population_size=30, generations=200)"
   ]
  },
  {
   "cell_type": "code",
   "execution_count": 269,
   "id": "cdd921a4-ed55-4975-a7bb-cccfe3f3909c",
   "metadata": {
    "scrolled": true
   },
   "outputs": [
    {
     "name": "stdout",
     "output_type": "stream",
     "text": [
      "Generation 5: best individual: <__main__.NeuralNetwork object at 0x000001D56E464A50>, fitness: 1940.8913011059572\n",
      "Generation 10: best individual: <__main__.NeuralNetwork object at 0x000001D56E464A50>, fitness: 1940.8913011059572\n",
      "Generation 15: best individual: <__main__.NeuralNetwork object at 0x000001D56E464A50>, fitness: 1940.8913011059572\n",
      "Generation 20: best individual: <__main__.NeuralNetwork object at 0x000001D56E4E5650>, fitness: 1914.8364652377047\n",
      "Generation 25: best individual: <__main__.NeuralNetwork object at 0x000001D56E45C750>, fitness: 1904.037099502746\n",
      "Generation 30: best individual: <__main__.NeuralNetwork object at 0x000001D56E45C750>, fitness: 1904.037099502746\n",
      "Generation 35: best individual: <__main__.NeuralNetwork object at 0x000001D56E45C750>, fitness: 1904.037099502746\n",
      "Generation 40: best individual: <__main__.NeuralNetwork object at 0x000001D56E45C750>, fitness: 1904.037099502746\n",
      "Generation 45: best individual: <__main__.NeuralNetwork object at 0x000001D56E45C750>, fitness: 1904.037099502746\n",
      "Generation 50: best individual: <__main__.NeuralNetwork object at 0x000001D56E45C750>, fitness: 1904.037099502746\n",
      "Generation 55: best individual: <__main__.NeuralNetwork object at 0x000001D56E45C750>, fitness: 1904.037099502746\n",
      "Generation 60: best individual: <__main__.NeuralNetwork object at 0x000001D56E45C750>, fitness: 1904.037099502746\n",
      "Generation 65: best individual: <__main__.NeuralNetwork object at 0x000001D56E45C750>, fitness: 1904.037099502746\n",
      "Generation 70: best individual: <__main__.NeuralNetwork object at 0x000001D56E45C750>, fitness: 1904.037099502746\n",
      "Generation 75: best individual: <__main__.NeuralNetwork object at 0x000001D56E45C750>, fitness: 1904.037099502746\n",
      "Generation 80: best individual: <__main__.NeuralNetwork object at 0x000001D56E45C750>, fitness: 1904.037099502746\n",
      "Generation 85: best individual: <__main__.NeuralNetwork object at 0x000001D56E45C750>, fitness: 1904.037099502746\n",
      "Generation 90: best individual: <__main__.NeuralNetwork object at 0x000001D56E45C750>, fitness: 1904.037099502746\n",
      "Generation 95: best individual: <__main__.NeuralNetwork object at 0x000001D56E45C750>, fitness: 1904.037099502746\n",
      "Generation 100: best individual: <__main__.NeuralNetwork object at 0x000001D56E45C750>, fitness: 1904.037099502746\n",
      "Generation 105: best individual: <__main__.NeuralNetwork object at 0x000001D56E45C750>, fitness: 1904.037099502746\n",
      "Generation 110: best individual: <__main__.NeuralNetwork object at 0x000001D56E45C750>, fitness: 1904.037099502746\n",
      "Generation 115: best individual: <__main__.NeuralNetwork object at 0x000001D56E45C750>, fitness: 1904.037099502746\n",
      "Generation 120: best individual: <__main__.NeuralNetwork object at 0x000001D56E45C750>, fitness: 1904.037099502746\n",
      "Generation 125: best individual: <__main__.NeuralNetwork object at 0x000001D56E45C750>, fitness: 1904.037099502746\n",
      "Generation 130: best individual: <__main__.NeuralNetwork object at 0x000001D56E45C750>, fitness: 1904.037099502746\n",
      "Generation 135: best individual: <__main__.NeuralNetwork object at 0x000001D56E428A50>, fitness: 1868.5819178718318\n",
      "Generation 140: best individual: <__main__.NeuralNetwork object at 0x000001D5632C5950>, fitness: 1868.5819177792453\n",
      "Generation 145: best individual: <__main__.NeuralNetwork object at 0x000001D5632C5950>, fitness: 1868.5819177792453\n",
      "Generation 150: best individual: <__main__.NeuralNetwork object at 0x000001D5632C5950>, fitness: 1868.5819177792453\n",
      "Generation 155: best individual: <__main__.NeuralNetwork object at 0x000001D5632C5950>, fitness: 1868.5819177792453\n",
      "Generation 160: best individual: <__main__.NeuralNetwork object at 0x000001D5632C5950>, fitness: 1868.5819177792453\n",
      "Generation 165: best individual: <__main__.NeuralNetwork object at 0x000001D5632C5950>, fitness: 1868.5819177792453\n",
      "Generation 170: best individual: <__main__.NeuralNetwork object at 0x000001D5632C5950>, fitness: 1868.5819177792453\n",
      "Generation 175: best individual: <__main__.NeuralNetwork object at 0x000001D5632C5950>, fitness: 1868.5819177792453\n",
      "Generation 180: best individual: <__main__.NeuralNetwork object at 0x000001D5632C5950>, fitness: 1868.5819177792453\n",
      "Generation 185: best individual: <__main__.NeuralNetwork object at 0x000001D57248B850>, fitness: 1781.6702740888227\n",
      "Generation 190: best individual: <__main__.NeuralNetwork object at 0x000001D57248B850>, fitness: 1781.6702740888227\n",
      "Generation 195: best individual: <__main__.NeuralNetwork object at 0x000001D57248B850>, fitness: 1781.6702740888227\n",
      "Generation 200: best individual: <__main__.NeuralNetwork object at 0x000001D57248B850>, fitness: 1781.6702740888227\n"
     ]
    }
   ],
   "source": [
    "results = ae.train()"
   ]
  },
  {
   "cell_type": "code",
   "execution_count": 274,
   "id": "6b26f96e-18df-42d7-b4cc-8af92f138819",
   "metadata": {},
   "outputs": [
    {
     "data": {
      "image/png": "[encoded data removed]",
      "text/plain": [
       "<Figure size 640x480 with 1 Axes>"
      ]
     },
     "metadata": {},
     "output_type": "display_data"
    }
   ],
   "source": [
    "results['history'].plot_history()"
   ]
  },
  {
   "cell_type": "code",
   "execution_count": 278,
   "id": "57126e42-7d65-4cba-899e-ca0e595f11a9",
   "metadata": {},
   "outputs": [
    {
     "name": "stdout",
     "output_type": "stream",
     "text": [
      "MSE: 1781.6702740888227\n"
     ]
    },
    {
     "data": {
      "image/png": "[encoded data removed]",
      "text/plain": [
       "<Figure size 640x480 with 1 Axes>"
      ]
     },
     "metadata": {},
     "output_type": "display_data"
    }
   ],
   "source": [
    "plot_multimodal(multimodal, results['best_individual'])"
   ]
  },
  {
   "cell_type": "code",
   "execution_count": 285,
   "id": "f54d44ee-8296-4b21-b97d-2f554b56a367",
   "metadata": {},
   "outputs": [
    {
     "name": "stdout",
     "output_type": "stream",
     "text": [
      "iteration 0\n",
      "Best individual: <__main__.NeuralNetwork object at 0x000001D574F1F210>, fitness: 1809.8723751718223\n",
      "iteration 1\n",
      "Best individual: <__main__.NeuralNetwork object at 0x000001D574ED3550>, fitness: 2658.5107600159604\n",
      "iteration 2\n",
      "Best individual: <__main__.NeuralNetwork object at 0x000001D574EFA710>, fitness: 2393.8485478267185\n",
      "iteration 3\n",
      "Best individual: <__main__.NeuralNetwork object at 0x000001D574EFB3D0>, fitness: 1638.7404126070971\n",
      "iteration 4\n",
      "Best individual: <__main__.NeuralNetwork object at 0x000001D574F1E950>, fitness: 2377.922137269086\n",
      "2175.778846578137\n",
      "385.67971950945\n"
     ]
    }
   ],
   "source": [
    "fitnesses = []\n",
    "for i in range(5):\n",
    "    print(f'iteration {i}')\n",
    "    ae = EvoAlg(X=multimodal['x'], y=multimodal['y'], layers=[1,10,1], model_type='regression',\n",
    "            population_size=30, generations=150)\n",
    "    result_i = ae.train(mute_print=True)\n",
    "    fitnesses.append(result_i['best_fitness'])\n",
    "print(np.mean(fitnesses))\n",
    "print(np.std(fitnesses))"
   ]
  },
  {
   "cell_type": "markdown",
   "id": "4f177c80-bcca-4ba2-86e0-bad96c5bb7ef",
   "metadata": {},
   "source": [
    "### 1, 10, 10, 1"
   ]
  },
  {
   "cell_type": "code",
   "execution_count": 283,
   "id": "fe365b36-a614-4b56-bf00-66f7cdca168a",
   "metadata": {},
   "outputs": [],
   "source": [
    "ae = EvoAlg(X=multimodal['x'], y=multimodal['y'], layers=[1,10,10,1], model_type='regression',\n",
    "            population_size=30, generations=200)"
   ]
  },
  {
   "cell_type": "code",
   "execution_count": 284,
   "id": "d940f73a-a61e-4fd1-8e72-22839adcc5b6",
   "metadata": {
    "scrolled": true
   },
   "outputs": [
    {
     "name": "stdout",
     "output_type": "stream",
     "text": [
      "Generation 5: best individual: <__main__.NeuralNetwork object at 0x000001D574EAD590>, fitness: 5250.804148261605\n",
      "Generation 10: best individual: <__main__.NeuralNetwork object at 0x000001D574EBE850>, fitness: 5196.724293205077\n",
      "Generation 15: best individual: <__main__.NeuralNetwork object at 0x000001D574EC9750>, fitness: 5076.741484790434\n",
      "Generation 20: best individual: <__main__.NeuralNetwork object at 0x000001D574ED6DD0>, fitness: 4996.289564812076\n",
      "Generation 25: best individual: <__main__.NeuralNetwork object at 0x000001D574EE1090>, fitness: 4716.074172095456\n",
      "Generation 30: best individual: <__main__.NeuralNetwork object at 0x000001D574ED50D0>, fitness: 4397.280616271718\n",
      "Generation 35: best individual: <__main__.NeuralNetwork object at 0x000001D574ED2410>, fitness: 4074.420828540539\n",
      "Generation 40: best individual: <__main__.NeuralNetwork object at 0x000001D574EBEB10>, fitness: 4009.592650244163\n",
      "Generation 45: best individual: <__main__.NeuralNetwork object at 0x000001D574EAACD0>, fitness: 4000.634335037923\n",
      "Generation 50: best individual: <__main__.NeuralNetwork object at 0x000001D574EEAFD0>, fitness: 3922.888517300909\n",
      "Generation 55: best individual: <__main__.NeuralNetwork object at 0x000001D574EEAFD0>, fitness: 3922.888517300909\n",
      "Generation 60: best individual: <__main__.NeuralNetwork object at 0x000001D574EEAFD0>, fitness: 3922.888517300909\n",
      "Generation 65: best individual: <__main__.NeuralNetwork object at 0x000001D574F03C10>, fitness: 3814.4906131109483\n",
      "Generation 70: best individual: <__main__.NeuralNetwork object at 0x000001D574F03C10>, fitness: 3814.4906131109483\n",
      "Generation 75: best individual: <__main__.NeuralNetwork object at 0x000001D574EEC650>, fitness: 3683.6713386942893\n",
      "Generation 80: best individual: <__main__.NeuralNetwork object at 0x000001D574EB1150>, fitness: 3543.5907198506557\n",
      "Generation 85: best individual: <__main__.NeuralNetwork object at 0x000001D574ECDC10>, fitness: 3288.527312441296\n",
      "Generation 90: best individual: <__main__.NeuralNetwork object at 0x000001D574EE4190>, fitness: 3227.8748206878895\n",
      "Generation 95: best individual: <__main__.NeuralNetwork object at 0x000001D574EA7850>, fitness: 2941.221730292454\n",
      "Generation 100: best individual: <__main__.NeuralNetwork object at 0x000001D574ECC190>, fitness: 2879.7086856517417\n",
      "Generation 105: best individual: <__main__.NeuralNetwork object at 0x000001D574EC3310>, fitness: 2783.7606452609643\n",
      "Generation 110: best individual: <__main__.NeuralNetwork object at 0x000001D574EC7B90>, fitness: 2775.0013836000367\n",
      "Generation 115: best individual: <__main__.NeuralNetwork object at 0x000001D574EC7B90>, fitness: 2775.0013836000367\n",
      "Generation 120: best individual: <__main__.NeuralNetwork object at 0x000001D574EC7B90>, fitness: 2775.0013836000367\n",
      "Generation 125: best individual: <__main__.NeuralNetwork object at 0x000001D574EF6010>, fitness: 2550.5852354166864\n",
      "Generation 130: best individual: <__main__.NeuralNetwork object at 0x000001D574EF6010>, fitness: 2550.5852354166864\n",
      "Generation 135: best individual: <__main__.NeuralNetwork object at 0x000001D574EF6010>, fitness: 2550.5852354166864\n",
      "Generation 140: best individual: <__main__.NeuralNetwork object at 0x000001D574EF6010>, fitness: 2550.5852354166864\n",
      "Generation 145: best individual: <__main__.NeuralNetwork object at 0x000001D574EF6010>, fitness: 2550.5852354166864\n",
      "Generation 150: best individual: <__main__.NeuralNetwork object at 0x000001D574EF6010>, fitness: 2550.5852354166864\n",
      "Generation 155: best individual: <__main__.NeuralNetwork object at 0x000001D574EAA3D0>, fitness: 2508.46939953614\n",
      "Generation 160: best individual: <__main__.NeuralNetwork object at 0x000001D574EAA3D0>, fitness: 2508.46939953614\n",
      "Generation 165: best individual: <__main__.NeuralNetwork object at 0x000001D574EAA3D0>, fitness: 2508.46939953614\n",
      "Generation 170: best individual: <__main__.NeuralNetwork object at 0x000001D574EAA3D0>, fitness: 2508.46939953614\n",
      "Generation 175: best individual: <__main__.NeuralNetwork object at 0x000001D574EAA3D0>, fitness: 2508.46939953614\n",
      "Generation 180: best individual: <__main__.NeuralNetwork object at 0x000001D574EAA3D0>, fitness: 2508.46939953614\n",
      "Generation 185: best individual: <__main__.NeuralNetwork object at 0x000001D574EAA3D0>, fitness: 2508.46939953614\n",
      "Generation 190: best individual: <__main__.NeuralNetwork object at 0x000001D574EAA3D0>, fitness: 2508.46939953614\n",
      "Generation 195: best individual: <__main__.NeuralNetwork object at 0x000001D574EAA3D0>, fitness: 2508.46939953614\n",
      "Generation 200: best individual: <__main__.NeuralNetwork object at 0x000001D574EAA3D0>, fitness: 2508.46939953614\n"
     ]
    }
   ],
   "source": [
    "results = ae.train()"
   ]
  },
  {
   "cell_type": "code",
   "execution_count": 287,
   "id": "f5924e67-4277-4b69-b4f9-7557855a20d6",
   "metadata": {},
   "outputs": [
    {
     "data": {
      "image/png": "[encoded data removed]",
      "text/plain": [
       "<Figure size 640x480 with 1 Axes>"
      ]
     },
     "metadata": {},
     "output_type": "display_data"
    }
   ],
   "source": [
    "results['history'].plot_history()"
   ]
  },
  {
   "cell_type": "markdown",
   "id": "47145734-c414-4603-b24a-dad6094792ac",
   "metadata": {},
   "source": [
    "### 1, 5, 5, 1"
   ]
  },
  {
   "cell_type": "code",
   "execution_count": 292,
   "id": "acd6188a-c4d4-4609-b6bb-350ef4e47589",
   "metadata": {},
   "outputs": [],
   "source": [
    "ae = EvoAlg(X=multimodal['x'], y=multimodal['y'], layers=[1,5,5,1], model_type='regression', population_size=20, generations=150)"
   ]
  },
  {
   "cell_type": "code",
   "execution_count": 290,
   "id": "ea136352-d200-4f1c-8f7f-c2383446e9d0",
   "metadata": {
    "scrolled": true
   },
   "outputs": [
    {
     "name": "stdout",
     "output_type": "stream",
     "text": [
      "Generation 5: best individual: <__main__.NeuralNetwork object at 0x000001D575167490>, fitness: 5253.079997907071\n",
      "Generation 10: best individual: <__main__.NeuralNetwork object at 0x000001D575142D90>, fitness: 5161.7486497157715\n",
      "Generation 15: best individual: <__main__.NeuralNetwork object at 0x000001D5750EB5D0>, fitness: 5097.568034226208\n",
      "Generation 20: best individual: <__main__.NeuralNetwork object at 0x000001D5750E9C90>, fitness: 5003.068150885805\n",
      "Generation 25: best individual: <__main__.NeuralNetwork object at 0x000001D574F3C590>, fitness: 4886.235442492996\n",
      "Generation 30: best individual: <__main__.NeuralNetwork object at 0x000001D57514D0D0>, fitness: 4871.035053791921\n",
      "Generation 35: best individual: <__main__.NeuralNetwork object at 0x000001D575166810>, fitness: 4788.415991200017\n",
      "Generation 40: best individual: <__main__.NeuralNetwork object at 0x000001D574EF9C10>, fitness: 4453.927511794107\n",
      "Generation 45: best individual: <__main__.NeuralNetwork object at 0x000001D57514CE10>, fitness: 4247.383337106468\n",
      "Generation 50: best individual: <__main__.NeuralNetwork object at 0x000001D57514CE10>, fitness: 4247.383337106468\n",
      "Generation 55: best individual: <__main__.NeuralNetwork object at 0x000001D57514CE10>, fitness: 4247.383337106468\n",
      "Generation 60: best individual: <__main__.NeuralNetwork object at 0x000001D57514CE10>, fitness: 4247.383337106468\n",
      "Generation 65: best individual: <__main__.NeuralNetwork object at 0x000001D57514CE10>, fitness: 4247.383337106468\n",
      "Generation 70: best individual: <__main__.NeuralNetwork object at 0x000001D574ECE610>, fitness: 4240.235431407678\n",
      "Generation 75: best individual: <__main__.NeuralNetwork object at 0x000001D574ECE610>, fitness: 4240.235431407678\n",
      "Generation 80: best individual: <__main__.NeuralNetwork object at 0x000001D574ECE610>, fitness: 4240.235431407678\n",
      "Generation 85: best individual: <__main__.NeuralNetwork object at 0x000001D5750292D0>, fitness: 4215.585960587647\n",
      "Generation 90: best individual: <__main__.NeuralNetwork object at 0x000001D574EB0950>, fitness: 3849.063380164773\n",
      "Generation 95: best individual: <__main__.NeuralNetwork object at 0x000001D574FF6F50>, fitness: 3824.0821378101587\n",
      "Generation 100: best individual: <__main__.NeuralNetwork object at 0x000001D574FF6F50>, fitness: 3824.0821378101587\n",
      "Generation 105: best individual: <__main__.NeuralNetwork object at 0x000001D5750DCCD0>, fitness: 2914.5328913874177\n",
      "Generation 110: best individual: <__main__.NeuralNetwork object at 0x000001D5750DCCD0>, fitness: 2914.5328913874177\n",
      "Generation 115: best individual: <__main__.NeuralNetwork object at 0x000001D5750DCCD0>, fitness: 2914.5328913874177\n",
      "Generation 120: best individual: <__main__.NeuralNetwork object at 0x000001D5750DCCD0>, fitness: 2914.5328913874177\n",
      "Generation 125: best individual: <__main__.NeuralNetwork object at 0x000001D5750DCCD0>, fitness: 2914.5328913874177\n",
      "Generation 130: best individual: <__main__.NeuralNetwork object at 0x000001D5750DCCD0>, fitness: 2914.5328913874177\n",
      "Generation 135: best individual: <__main__.NeuralNetwork object at 0x000001D5750DCCD0>, fitness: 2914.5328913874177\n",
      "Generation 140: best individual: <__main__.NeuralNetwork object at 0x000001D5750DCCD0>, fitness: 2914.5328913874177\n",
      "Generation 145: best individual: <__main__.NeuralNetwork object at 0x000001D5750A2C90>, fitness: 2788.9081723812187\n",
      "Generation 150: best individual: <__main__.NeuralNetwork object at 0x000001D55A497850>, fitness: 2659.1156136484483\n"
     ]
    }
   ],
   "source": [
    "res_3 = ae.train()"
   ]
  },
  {
   "cell_type": "code",
   "execution_count": 294,
   "id": "8575ced2-7874-4a0f-8e34-01d3e374f48d",
   "metadata": {
    "scrolled": true
   },
   "outputs": [
    {
     "data": {
      "image/png": "[encoded data removed]",
      "text/plain": [
       "<Figure size 640x480 with 1 Axes>"
      ]
     },
     "metadata": {},
     "output_type": "display_data"
    }
   ],
   "source": [
    "res_3['history'].plot_history()"
   ]
  },
  {
   "cell_type": "code",
   "execution_count": 295,
   "id": "b0efdf52-42f8-47b3-8a2b-846fe3f987a7",
   "metadata": {},
   "outputs": [
    {
     "name": "stdout",
     "output_type": "stream",
     "text": [
      "iteration 0\n",
      "Best individual: <__main__.NeuralNetwork object at 0x000001D5763D8710>, fitness: 2179.824816991905\n",
      "iteration 1\n",
      "Best individual: <__main__.NeuralNetwork object at 0x000001D5764F3A50>, fitness: 2885.793818898432\n",
      "iteration 2\n",
      "Best individual: <__main__.NeuralNetwork object at 0x000001D57639C110>, fitness: 2640.40728196424\n",
      "iteration 3\n",
      "Best individual: <__main__.NeuralNetwork object at 0x000001D576393190>, fitness: 2177.3688284727914\n",
      "iteration 4\n",
      "Best individual: <__main__.NeuralNetwork object at 0x000001D57A58B590>, fitness: 2551.889785747962\n",
      "2487.0569064150664\n",
      "274.5938920265109\n"
     ]
    }
   ],
   "source": [
    "fitnesses = []\n",
    "for i in range(5):\n",
    "    print(f'iteration {i}')\n",
    "    ae = EvoAlg(X=multimodal['x'], y=multimodal['y'], layers=[1,5,5,1], model_type='regression',\n",
    "            population_size=30, generations=150)\n",
    "    result_i = ae.train(mute_print=True)\n",
    "    fitnesses.append(result_i['best_fitness'])\n",
    "print(np.mean(fitnesses))\n",
    "print(np.std(fitnesses))"
   ]
  },
  {
   "cell_type": "markdown",
   "id": "927437d0-2861-4614-94ba-2d1e757a064d",
   "metadata": {},
   "source": [
    "## MPG"
   ]
  },
  {
   "cell_type": "code",
   "execution_count": null,
   "id": "cf997a6c-6150-481b-8b6a-10fed87908ea",
   "metadata": {},
   "outputs": [],
   "source": [
    "column_names = [\n",
    "    \"mpg\",           # continuous\n",
    "    \"cylinders\",     # multi-valued discrete\n",
    "    \"displacement\",  # continuous\n",
    "    \"horsepower\",    # continuous\n",
    "    \"weight\",        # continuous\n",
    "    \"acceleration\",  # continuous\n",
    "    \"model year\",    # multi-valued discrete\n",
    "    \"origin\",        # multi-valued discrete\n",
    "    \"car name\"       # string (unique for each instance)\n",
    "]"
   ]
  },
  {
   "cell_type": "code",
   "execution_count": 310,
   "id": "7ffaaf86-5f11-42ab-8134-7f9b1994e63a",
   "metadata": {},
   "outputs": [],
   "source": [
    "auto_mpg = fetch_ucirepo(id=9) "
   ]
  },
  {
   "cell_type": "code",
   "execution_count": 339,
   "id": "1bf304f3-d9e0-40c4-9079-fdc9561a86af",
   "metadata": {},
   "outputs": [
    {
     "name": "stderr",
     "output_type": "stream",
     "text": [
      "C:\\Users\\tymek\\AppData\\Local\\Temp\\ipykernel_14308\\4038589600.py:3: SettingWithCopyWarning: \n",
      "A value is trying to be set on a copy of a slice from a DataFrame.\n",
      "Try using .loc[row_indexer,col_indexer] = value instead\n",
      "\n",
      "See the caveats in the documentation: https://pandas.pydata.org/pandas-docs/stable/user_guide/indexing.html#returning-a-view-versus-a-copy\n",
      "  mpg['y'] = mpg_y.copy()\n",
      "C:\\Users\\tymek\\AppData\\Local\\Temp\\ipykernel_14308\\4038589600.py:4: SettingWithCopyWarning: \n",
      "A value is trying to be set on a copy of a slice from a DataFrame\n",
      "\n",
      "See the caveats in the documentation: https://pandas.pydata.org/pandas-docs/stable/user_guide/indexing.html#returning-a-view-versus-a-copy\n",
      "  mpg.dropna(inplace=True)\n"
     ]
    }
   ],
   "source": [
    "mpg = auto_mpg.data.features\n",
    "mpg_y = auto_mpg.data.targets\n",
    "mpg['y'] = mpg_y.copy()\n",
    "mpg.dropna(inplace=True)\n",
    "mpg_X = mpg.drop(['y'], axis=1).to_numpy()\n",
    "mpg_y = mpg['y'].copy().to_numpy()"
   ]
  },
  {
   "cell_type": "markdown",
   "id": "dafb30c0-24b7-48fb-b627-395b78454bbc",
   "metadata": {},
   "source": [
    "### Experiments"
   ]
  },
  {
   "cell_type": "markdown",
   "id": "4853432f-19f8-4ea2-a068-4ee41073a871",
   "metadata": {},
   "source": [
    "#### 7,5,1"
   ]
  },
  {
   "cell_type": "code",
   "execution_count": 340,
   "id": "f211f8ae-e824-4e0a-a50a-c3bafb6e97f7",
   "metadata": {},
   "outputs": [],
   "source": [
    "ae = EvoAlg(X=mpg_X, y=mpg_y, layers=[7,5,1], model_type='regression', resize=False, population_size=20, generations=150)"
   ]
  },
  {
   "cell_type": "code",
   "execution_count": 341,
   "id": "a7fbf7d6-4f12-4851-bd39-42a6fd5ab3bd",
   "metadata": {
    "scrolled": true
   },
   "outputs": [
    {
     "name": "stderr",
     "output_type": "stream",
     "text": [
      "C:\\Users\\tymek\\AppData\\Local\\Temp\\ipykernel_14308\\2194875051.py:71: RuntimeWarning: overflow encountered in exp\n",
      "  return 1 / (1 + np.exp(-z))\n"
     ]
    },
    {
     "name": "stdout",
     "output_type": "stream",
     "text": [
      "Generation 5: best individual: <__main__.NeuralNetwork object at 0x000001D5082A1590>, fitness: 247.48968075151714\n",
      "Generation 10: best individual: <__main__.NeuralNetwork object at 0x000001D508300490>, fitness: 62.46939256643181\n",
      "Generation 15: best individual: <__main__.NeuralNetwork object at 0x000001D5082596D0>, fitness: 60.76296849675888\n",
      "Generation 20: best individual: <__main__.NeuralNetwork object at 0x000001D5082596D0>, fitness: 60.76296849675888\n",
      "Generation 25: best individual: <__main__.NeuralNetwork object at 0x000001D508345C10>, fitness: 60.762747901279866\n",
      "Generation 30: best individual: <__main__.NeuralNetwork object at 0x000001D508345C10>, fitness: 60.762747901279866\n",
      "Generation 35: best individual: <__main__.NeuralNetwork object at 0x000001D508345C10>, fitness: 60.762747901279866\n",
      "Generation 40: best individual: <__main__.NeuralNetwork object at 0x000001D508345C10>, fitness: 60.762747901279866\n",
      "Generation 45: best individual: <__main__.NeuralNetwork object at 0x000001D508345C10>, fitness: 60.762747901279866\n",
      "Generation 50: best individual: <__main__.NeuralNetwork object at 0x000001D508345C10>, fitness: 60.762747901279866\n",
      "Generation 55: best individual: <__main__.NeuralNetwork object at 0x000001D508345C10>, fitness: 60.762747901279866\n",
      "Generation 60: best individual: <__main__.NeuralNetwork object at 0x000001D508345C10>, fitness: 60.762747901279866\n",
      "Generation 65: best individual: <__main__.NeuralNetwork object at 0x000001D508345C10>, fitness: 60.762747901279866\n",
      "Generation 70: best individual: <__main__.NeuralNetwork object at 0x000001D508345C10>, fitness: 60.762747901279866\n",
      "Generation 75: best individual: <__main__.NeuralNetwork object at 0x000001D508345C10>, fitness: 60.762747901279866\n",
      "Generation 80: best individual: <__main__.NeuralNetwork object at 0x000001D508345C10>, fitness: 60.762747901279866\n",
      "Generation 85: best individual: <__main__.NeuralNetwork object at 0x000001D508345C10>, fitness: 60.762747901279866\n",
      "Generation 90: best individual: <__main__.NeuralNetwork object at 0x000001D508345C10>, fitness: 60.762747901279866\n",
      "Generation 95: best individual: <__main__.NeuralNetwork object at 0x000001D508345C10>, fitness: 60.762747901279866\n",
      "Generation 100: best individual: <__main__.NeuralNetwork object at 0x000001D508345C10>, fitness: 60.762747901279866\n",
      "Generation 105: best individual: <__main__.NeuralNetwork object at 0x000001D508345C10>, fitness: 60.762747901279866\n",
      "Generation 110: best individual: <__main__.NeuralNetwork object at 0x000001D508345C10>, fitness: 60.762747901279866\n",
      "Generation 115: best individual: <__main__.NeuralNetwork object at 0x000001D508345C10>, fitness: 60.762747901279866\n",
      "Generation 120: best individual: <__main__.NeuralNetwork object at 0x000001D508345C10>, fitness: 60.762747901279866\n",
      "Generation 125: best individual: <__main__.NeuralNetwork object at 0x000001D508345C10>, fitness: 60.762747901279866\n",
      "Generation 130: best individual: <__main__.NeuralNetwork object at 0x000001D508345C10>, fitness: 60.762747901279866\n",
      "Generation 135: best individual: <__main__.NeuralNetwork object at 0x000001D508345C10>, fitness: 60.762747901279866\n",
      "Generation 140: best individual: <__main__.NeuralNetwork object at 0x000001D508345C10>, fitness: 60.762747901279866\n",
      "Generation 145: best individual: <__main__.NeuralNetwork object at 0x000001D508345C10>, fitness: 60.762747901279866\n",
      "Generation 150: best individual: <__main__.NeuralNetwork object at 0x000001D508345C10>, fitness: 60.762747901279866\n"
     ]
    }
   ],
   "source": [
    "res_mpg = ae.train()"
   ]
  },
  {
   "cell_type": "code",
   "execution_count": 342,
   "id": "0cd040d0-0769-4ef8-816e-040bbc78f57b",
   "metadata": {},
   "outputs": [
    {
     "data": {
      "image/png": "[encoded data removed]",
      "text/plain": [
       "<Figure size 640x480 with 1 Axes>"
      ]
     },
     "metadata": {},
     "output_type": "display_data"
    }
   ],
   "source": [
    "res_mpg['history'].plot_history()"
   ]
  },
  {
   "cell_type": "markdown",
   "id": "88bb6818-08cb-4cb2-84c0-9b38ccb063d8",
   "metadata": {},
   "source": [
    "#### 7, 10, 1"
   ]
  },
  {
   "cell_type": "code",
   "execution_count": 344,
   "id": "6e0ae8d8-490d-42e8-a6fa-3e3a7359796b",
   "metadata": {
    "scrolled": true
   },
   "outputs": [
    {
     "name": "stderr",
     "output_type": "stream",
     "text": [
      "C:\\Users\\tymek\\AppData\\Local\\Temp\\ipykernel_14308\\2194875051.py:71: RuntimeWarning: overflow encountered in exp\n",
      "  return 1 / (1 + np.exp(-z))\n"
     ]
    },
    {
     "name": "stdout",
     "output_type": "stream",
     "text": [
      "Generation 5: best individual: <__main__.NeuralNetwork object at 0x000001D50827E0D0>, fitness: 283.08534742763567\n",
      "Generation 10: best individual: <__main__.NeuralNetwork object at 0x000001D50839A210>, fitness: 211.8675508787299\n",
      "Generation 15: best individual: <__main__.NeuralNetwork object at 0x000001D5083FD910>, fitness: 61.12647531689189\n",
      "Generation 20: best individual: <__main__.NeuralNetwork object at 0x000001D5082EFBD0>, fitness: 60.814260776342735\n",
      "Generation 25: best individual: <__main__.NeuralNetwork object at 0x000001D5082EFBD0>, fitness: 60.814260776342735\n",
      "Generation 30: best individual: <__main__.NeuralNetwork object at 0x000001D5082EFBD0>, fitness: 60.814260776342735\n",
      "Generation 35: best individual: <__main__.NeuralNetwork object at 0x000001D50833BD50>, fitness: 60.76896759683227\n",
      "Generation 40: best individual: <__main__.NeuralNetwork object at 0x000001D50833BD50>, fitness: 60.76896759683227\n",
      "Generation 45: best individual: <__main__.NeuralNetwork object at 0x000001D50833BD50>, fitness: 60.76896759683227\n",
      "Generation 50: best individual: <__main__.NeuralNetwork object at 0x000001D50833BD50>, fitness: 60.76896759683227\n",
      "Generation 55: best individual: <__main__.NeuralNetwork object at 0x000001D50833BD50>, fitness: 60.76896759683227\n",
      "Generation 60: best individual: <__main__.NeuralNetwork object at 0x000001D50833BD50>, fitness: 60.76896759683227\n",
      "Generation 65: best individual: <__main__.NeuralNetwork object at 0x000001D50833BD50>, fitness: 60.76896759683227\n",
      "Generation 70: best individual: <__main__.NeuralNetwork object at 0x000001D50840B610>, fitness: 60.7638549005458\n",
      "Generation 75: best individual: <__main__.NeuralNetwork object at 0x000001D50840B610>, fitness: 60.7638549005458\n",
      "Generation 80: best individual: <__main__.NeuralNetwork object at 0x000001D50840B610>, fitness: 60.7638549005458\n",
      "Generation 85: best individual: <__main__.NeuralNetwork object at 0x000001D50840B610>, fitness: 60.7638549005458\n",
      "Generation 90: best individual: <__main__.NeuralNetwork object at 0x000001D50840B610>, fitness: 60.7638549005458\n",
      "Generation 95: best individual: <__main__.NeuralNetwork object at 0x000001D50840B610>, fitness: 60.7638549005458\n",
      "Generation 100: best individual: <__main__.NeuralNetwork object at 0x000001D50840B610>, fitness: 60.7638549005458\n",
      "Generation 105: best individual: <__main__.NeuralNetwork object at 0x000001D50840B610>, fitness: 60.7638549005458\n",
      "Generation 110: best individual: <__main__.NeuralNetwork object at 0x000001D50840B610>, fitness: 60.7638549005458\n",
      "Generation 115: best individual: <__main__.NeuralNetwork object at 0x000001D508438550>, fitness: 60.76340191873822\n",
      "Generation 120: best individual: <__main__.NeuralNetwork object at 0x000001D508438550>, fitness: 60.76340191873822\n",
      "Generation 125: best individual: <__main__.NeuralNetwork object at 0x000001D508438550>, fitness: 60.76340191873822\n",
      "Generation 130: best individual: <__main__.NeuralNetwork object at 0x000001D508438550>, fitness: 60.76340191873822\n",
      "Generation 135: best individual: <__main__.NeuralNetwork object at 0x000001D508438550>, fitness: 60.76340191873822\n",
      "Generation 140: best individual: <__main__.NeuralNetwork object at 0x000001D508438550>, fitness: 60.76340191873822\n",
      "Generation 145: best individual: <__main__.NeuralNetwork object at 0x000001D508438550>, fitness: 60.76340191873822\n",
      "Generation 150: best individual: <__main__.NeuralNetwork object at 0x000001D508438550>, fitness: 60.76340191873822\n",
      "Generation 155: best individual: <__main__.NeuralNetwork object at 0x000001D508438550>, fitness: 60.76340191873822\n",
      "Generation 160: best individual: <__main__.NeuralNetwork object at 0x000001D508438550>, fitness: 60.76340191873822\n",
      "Generation 165: best individual: <__main__.NeuralNetwork object at 0x000001D508438550>, fitness: 60.76340191873822\n",
      "Generation 170: best individual: <__main__.NeuralNetwork object at 0x000001D508438550>, fitness: 60.76340191873822\n",
      "Generation 175: best individual: <__main__.NeuralNetwork object at 0x000001D508438550>, fitness: 60.76340191873822\n",
      "Generation 180: best individual: <__main__.NeuralNetwork object at 0x000001D508438550>, fitness: 60.76340191873822\n",
      "Generation 185: best individual: <__main__.NeuralNetwork object at 0x000001D508438550>, fitness: 60.76340191873822\n",
      "Generation 190: best individual: <__main__.NeuralNetwork object at 0x000001D508438550>, fitness: 60.76340191873822\n",
      "Generation 195: best individual: <__main__.NeuralNetwork object at 0x000001D508438550>, fitness: 60.76340191873822\n",
      "Generation 200: best individual: <__main__.NeuralNetwork object at 0x000001D508438550>, fitness: 60.76340191873822\n"
     ]
    }
   ],
   "source": [
    "ae = EvoAlg(X=mpg_X, y=mpg_y, layers=[7,10,1], model_type='regression', resize=False, population_size=40, generations=200)\n",
    "res_mpg2 = ae.train()"
   ]
  },
  {
   "cell_type": "code",
   "execution_count": 345,
   "id": "ea0e4417-e1fc-4231-9d8e-5bbea18155e6",
   "metadata": {},
   "outputs": [
    {
     "data": {
      "image/png": "[encoded data removed]",
      "text/plain": [
       "<Figure size 640x480 with 1 Axes>"
      ]
     },
     "metadata": {},
     "output_type": "display_data"
    }
   ],
   "source": [
    "res_mpg2['history'].plot_history()"
   ]
  },
  {
   "cell_type": "markdown",
   "id": "732603c3-1b0c-4d55-95cc-c2873b5674c7",
   "metadata": {},
   "source": [
    "#### 7, 5, 5, 1"
   ]
  },
  {
   "cell_type": "code",
   "execution_count": 346,
   "id": "5618a035-f1f7-4b82-bbe0-2012ec840d8d",
   "metadata": {},
   "outputs": [
    {
     "name": "stderr",
     "output_type": "stream",
     "text": [
      "C:\\Users\\tymek\\AppData\\Local\\Temp\\ipykernel_14308\\2194875051.py:71: RuntimeWarning: overflow encountered in exp\n",
      "  return 1 / (1 + np.exp(-z))\n"
     ]
    },
    {
     "name": "stdout",
     "output_type": "stream",
     "text": [
      "Generation 5: best individual: <__main__.NeuralNetwork object at 0x000001D5083E7450>, fitness: 447.47094120265655\n",
      "Generation 10: best individual: <__main__.NeuralNetwork object at 0x000001D5083A2A10>, fitness: 346.8141280331396\n",
      "Generation 15: best individual: <__main__.NeuralNetwork object at 0x000001D50851DD10>, fitness: 155.2188967220308\n",
      "Generation 20: best individual: <__main__.NeuralNetwork object at 0x000001D5085269D0>, fitness: 67.97420479231218\n",
      "Generation 25: best individual: <__main__.NeuralNetwork object at 0x000001D50850DA50>, fitness: 60.7651270823155\n",
      "Generation 30: best individual: <__main__.NeuralNetwork object at 0x000001D50850DA50>, fitness: 60.7651270823155\n",
      "Generation 35: best individual: <__main__.NeuralNetwork object at 0x000001D50850DA50>, fitness: 60.7651270823155\n",
      "Generation 40: best individual: <__main__.NeuralNetwork object at 0x000001D50850DA50>, fitness: 60.7651270823155\n",
      "Generation 45: best individual: <__main__.NeuralNetwork object at 0x000001D50850DA50>, fitness: 60.7651270823155\n",
      "Generation 50: best individual: <__main__.NeuralNetwork object at 0x000001D50850DA50>, fitness: 60.7651270823155\n",
      "Generation 55: best individual: <__main__.NeuralNetwork object at 0x000001D50850DA50>, fitness: 60.7651270823155\n",
      "Generation 60: best individual: <__main__.NeuralNetwork object at 0x000001D50850DA50>, fitness: 60.7651270823155\n",
      "Generation 65: best individual: <__main__.NeuralNetwork object at 0x000001D50850DA50>, fitness: 60.7651270823155\n",
      "Generation 70: best individual: <__main__.NeuralNetwork object at 0x000001D50850DA50>, fitness: 60.7651270823155\n",
      "Generation 75: best individual: <__main__.NeuralNetwork object at 0x000001D50850DA50>, fitness: 60.7651270823155\n",
      "Generation 80: best individual: <__main__.NeuralNetwork object at 0x000001D50850DA50>, fitness: 60.7651270823155\n",
      "Generation 85: best individual: <__main__.NeuralNetwork object at 0x000001D50850DA50>, fitness: 60.7651270823155\n",
      "Generation 90: best individual: <__main__.NeuralNetwork object at 0x000001D50850DA50>, fitness: 60.7651270823155\n",
      "Generation 95: best individual: <__main__.NeuralNetwork object at 0x000001D50838ABD0>, fitness: 60.76273974842511\n",
      "Generation 100: best individual: <__main__.NeuralNetwork object at 0x000001D50838ABD0>, fitness: 60.76273974842511\n",
      "Generation 105: best individual: <__main__.NeuralNetwork object at 0x000001D50838ABD0>, fitness: 60.76273974842511\n",
      "Generation 110: best individual: <__main__.NeuralNetwork object at 0x000001D50838ABD0>, fitness: 60.76273974842511\n",
      "Generation 115: best individual: <__main__.NeuralNetwork object at 0x000001D50838ABD0>, fitness: 60.76273974842511\n",
      "Generation 120: best individual: <__main__.NeuralNetwork object at 0x000001D50838ABD0>, fitness: 60.76273974842511\n",
      "Generation 125: best individual: <__main__.NeuralNetwork object at 0x000001D50838ABD0>, fitness: 60.76273974842511\n",
      "Generation 130: best individual: <__main__.NeuralNetwork object at 0x000001D50838ABD0>, fitness: 60.76273974842511\n",
      "Generation 135: best individual: <__main__.NeuralNetwork object at 0x000001D50838ABD0>, fitness: 60.76273974842511\n",
      "Generation 140: best individual: <__main__.NeuralNetwork object at 0x000001D50838ABD0>, fitness: 60.76273974842511\n",
      "Generation 145: best individual: <__main__.NeuralNetwork object at 0x000001D50838ABD0>, fitness: 60.76273974842511\n",
      "Generation 150: best individual: <__main__.NeuralNetwork object at 0x000001D50838ABD0>, fitness: 60.76273974842511\n"
     ]
    }
   ],
   "source": [
    "ae = EvoAlg(X=mpg_X, y=mpg_y, layers=[7,5,5,1], model_type='regression', resize=False, population_size=30, generations=150)\n",
    "res_mpg3 = ae.train()"
   ]
  },
  {
   "cell_type": "code",
   "execution_count": 432,
   "id": "d631dbce-21ee-42e8-97ac-b4e7796c2d62",
   "metadata": {},
   "outputs": [
    {
     "data": {
      "image/png": "[encoded data removed]",
      "text/plain": [
       "<Figure size 640x480 with 1 Axes>"
      ]
     },
     "metadata": {},
     "output_type": "display_data"
    }
   ],
   "source": [
    "res_mpg3['history'].plot_history()"
   ]
  },
  {
   "cell_type": "code",
   "execution_count": 347,
   "id": "cda4011d-d404-4790-a3c3-f9fb54314356",
   "metadata": {},
   "outputs": [
    {
     "name": "stdout",
     "output_type": "stream",
     "text": [
      "60.76296318948106\n",
      "0.00031024628718859807\n"
     ]
    }
   ],
   "source": [
    "tests = [60.762747901279866, 60.76340191873822, 60.76273974842511]\n",
    "print(np.mean(tests))\n",
    "print(np.std(tests))"
   ]
  },
  {
   "cell_type": "markdown",
   "id": "95379ddb-07d0-4410-aac1-1f042bd2f693",
   "metadata": {},
   "source": [
    "#### standardize data"
   ]
  },
  {
   "cell_type": "code",
   "execution_count": 376,
   "id": "7346d4c7-9459-4e81-b912-3b0ca0ffc017",
   "metadata": {},
   "outputs": [],
   "source": [
    "mpg = auto_mpg.data.features.copy()\n",
    "mpg_y = auto_mpg.data.targets.copy()\n",
    "mpg['y'] = mpg_y['mpg']\n",
    "mpg.dropna(inplace=True)\n",
    "mpg_X = mpg.drop(['y'], axis=1)\n",
    "mpg_y = mpg['y'].to_numpy()\n",
    "\n",
    "mpg_X_std, mpg_params = standardize_data(mpg_X)\n",
    "mpg_X = mpg_X_std.to_numpy()"
   ]
  },
  {
   "cell_type": "code",
   "execution_count": 378,
   "id": "e588e744-fadb-424a-bbb5-a5890d04b95e",
   "metadata": {},
   "outputs": [
    {
     "name": "stdout",
     "output_type": "stream",
     "text": [
      "Generation 5: best individual: <__main__.NeuralNetwork object at 0x000001D508DF9E10>, fitness: 237.36753599083656\n",
      "Generation 10: best individual: <__main__.NeuralNetwork object at 0x000001D506BBF8D0>, fitness: 65.92724962850122\n",
      "Generation 15: best individual: <__main__.NeuralNetwork object at 0x000001D506BBF8D0>, fitness: 65.92724962850122\n",
      "Generation 20: best individual: <__main__.NeuralNetwork object at 0x000001D506BBF8D0>, fitness: 65.92724962850122\n",
      "Generation 25: best individual: <__main__.NeuralNetwork object at 0x000001D508D27310>, fitness: 64.83143808481425\n",
      "Generation 30: best individual: <__main__.NeuralNetwork object at 0x000001D50839BE90>, fitness: 64.61766603216263\n",
      "Generation 35: best individual: <__main__.NeuralNetwork object at 0x000001D5085A41D0>, fitness: 63.283370152923794\n",
      "Generation 40: best individual: <__main__.NeuralNetwork object at 0x000001D506BF1250>, fitness: 62.9230723358789\n",
      "Generation 45: best individual: <__main__.NeuralNetwork object at 0x000001D508350490>, fitness: 62.72959510733443\n",
      "Generation 50: best individual: <__main__.NeuralNetwork object at 0x000001D508291550>, fitness: 61.31416471420111\n"
     ]
    }
   ],
   "source": [
    "ae = EvoAlg(X=mpg_X, y=mpg_y, layers=[7,5,1], model_type='regression', resize=False, population_size=50, generations=50)\n",
    "mpg_ch = ae.train(mutation_rate=0.9, crossover_rate=0.9)"
   ]
  },
  {
   "cell_type": "code",
   "execution_count": 435,
   "id": "a7f65f20-5d7e-415e-96a6-c2036d3cd9f3",
   "metadata": {},
   "outputs": [
    {
     "data": {
      "image/png": "[encoded data removed]",
      "text/plain": [
       "<Figure size 640x480 with 1 Axes>"
      ]
     },
     "metadata": {},
     "output_type": "display_data"
    }
   ],
   "source": [
    "mpg_ch['history'].plot_history()"
   ]
  },
  {
   "cell_type": "markdown",
   "id": "b8800cfd-1214-401f-a475-a167a471a9f2",
   "metadata": {},
   "source": [
    "#### problem"
   ]
  },
  {
   "cell_type": "code",
   "execution_count": 350,
   "id": "38494a98-5f3f-4388-8cfe-097ac0ff51fc",
   "metadata": {},
   "outputs": [],
   "source": [
    "mlp_mpg = res_mpg['best_individual']"
   ]
  },
  {
   "cell_type": "code",
   "execution_count": 381,
   "id": "d4fe3235-5f3e-47d8-8ac8-815a814104c5",
   "metadata": {},
   "outputs": [],
   "source": [
    "# te same zwracane wartości:"
   ]
  },
  {
   "cell_type": "code",
   "execution_count": 355,
   "id": "e14d25f1-274f-4166-9832-0718a8db30ab",
   "metadata": {},
   "outputs": [
    {
     "name": "stderr",
     "output_type": "stream",
     "text": [
      "C:\\Users\\tymek\\AppData\\Local\\Temp\\ipykernel_14308\\2194875051.py:71: RuntimeWarning: overflow encountered in exp\n",
      "  return 1 / (1 + np.exp(-z))\n"
     ]
    },
    {
     "data": {
      "text/plain": [
       "array([[23.44899391],\n",
       "       [23.44899391],\n",
       "       [23.44899391],\n",
       "       [23.44899391],\n",
       "       [23.44899391],\n",
       "       [23.44899391],\n",
       "       [23.44899391],\n",
       "       [23.44899391],\n",
       "       [23.44899391],\n",
       "       [23.44899391],\n",
       "       [23.44899391],\n",
       "       [23.44899391],\n",
       "       [23.44899391],\n",
       "       [23.44899391],\n",
       "       [23.44899391],\n",
       "       [23.44899391],\n",
       "       [23.44899391],\n",
       "       [23.44899391],\n",
       "       [23.44899391],\n",
       "       [23.44899391],\n",
       "       [23.44899391],\n",
       "       [23.44899391],\n",
       "       [23.44899391],\n",
       "       [23.44899391],\n",
       "       [23.44899391],\n",
       "       [23.44899391],\n",
       "       [23.44899391],\n",
       "       [23.44899391],\n",
       "       [23.44899391],\n",
       "       [23.44899391],\n",
       "       [23.44899391],\n",
       "       [23.44899391],\n",
       "       [23.44899391],\n",
       "       [23.44899391],\n",
       "       [23.44899391],\n",
       "       [23.44899391],\n",
       "       [23.44899391],\n",
       "       [23.44899391],\n",
       "       [23.44899391],\n",
       "       [23.44899391],\n",
       "       [23.44899391],\n",
       "       [23.44899391],\n",
       "       [23.44899391],\n",
       "       [23.44899391],\n",
       "       [23.44899391],\n",
       "       [23.44899391],\n",
       "       [23.44899391],\n",
       "       [23.44899391],\n",
       "       [23.44899391],\n",
       "       [23.44899391],\n",
       "       [23.44899391],\n",
       "       [23.44899391],\n",
       "       [23.44899391],\n",
       "       [23.44899391],\n",
       "       [23.44899391],\n",
       "       [23.44899391],\n",
       "       [23.44899391],\n",
       "       [23.44899391],\n",
       "       [23.44899391],\n",
       "       [23.44899391],\n",
       "       [23.44899391],\n",
       "       [23.44899391],\n",
       "       [23.44899391],\n",
       "       [23.44899391],\n",
       "       [23.44899391],\n",
       "       [23.44899391],\n",
       "       [23.44899391],\n",
       "       [23.44899391],\n",
       "       [23.44899391],\n",
       "       [23.44899391],\n",
       "       [23.44899391],\n",
       "       [23.44899391],\n",
       "       [23.44899391],\n",
       "       [23.44899391],\n",
       "       [23.44899391],\n",
       "       [23.44899391],\n",
       "       [23.44899391],\n",
       "       [23.44899391],\n",
       "       [23.44899391],\n",
       "       [23.44899391],\n",
       "       [23.44899391],\n",
       "       [23.44899391],\n",
       "       [23.44899391],\n",
       "       [23.44899391],\n",
       "       [23.44899391],\n",
       "       [23.44899391],\n",
       "       [23.44899391],\n",
       "       [23.44899391],\n",
       "       [23.44899391],\n",
       "       [23.44899391],\n",
       "       [23.44899391],\n",
       "       [23.44899391],\n",
       "       [23.44899391],\n",
       "       [23.44899391],\n",
       "       [23.44899391],\n",
       "       [23.44899391],\n",
       "       [23.44899391],\n",
       "       [23.44899391],\n",
       "       [23.44899391],\n",
       "       [23.44899391],\n",
       "       [23.44899391],\n",
       "       [23.44899391],\n",
       "       [23.44899391],\n",
       "       [23.44899391],\n",
       "       [23.44899391],\n",
       "       [23.44899391],\n",
       "       [23.44899391],\n",
       "       [23.44899391],\n",
       "       [23.44899391],\n",
       "       [23.44899391],\n",
       "       [23.44899391],\n",
       "       [23.44899391],\n",
       "       [23.44899391],\n",
       "       [23.44899391],\n",
       "       [23.44899391],\n",
       "       [23.44899391],\n",
       "       [23.44899391],\n",
       "       [23.44899391],\n",
       "       [23.44899391],\n",
       "       [23.44899391],\n",
       "       [23.44899391],\n",
       "       [23.44899391],\n",
       "       [23.44899391],\n",
       "       [23.44899391],\n",
       "       [23.44899391],\n",
       "       [23.44899391],\n",
       "       [23.44899391],\n",
       "       [23.44899391],\n",
       "       [23.44899391],\n",
       "       [23.44899391],\n",
       "       [23.44899391],\n",
       "       [23.44899391],\n",
       "       [23.44899391],\n",
       "       [23.44899391],\n",
       "       [23.44899391],\n",
       "       [23.44899391],\n",
       "       [23.44899391],\n",
       "       [23.44899391],\n",
       "       [23.44899391],\n",
       "       [23.44899391],\n",
       "       [23.44899391],\n",
       "       [23.44899391],\n",
       "       [23.44899391],\n",
       "       [23.44899391],\n",
       "       [23.44899391],\n",
       "       [23.44899391],\n",
       "       [23.44899391],\n",
       "       [23.44899391],\n",
       "       [23.44899391],\n",
       "       [23.44899391],\n",
       "       [23.44899391],\n",
       "       [23.44899391],\n",
       "       [23.44899391],\n",
       "       [23.44899391],\n",
       "       [23.44899391],\n",
       "       [23.44899391],\n",
       "       [23.44899391],\n",
       "       [23.44899391],\n",
       "       [23.44899391],\n",
       "       [23.44899391],\n",
       "       [23.44899391],\n",
       "       [23.44899391],\n",
       "       [23.44899391],\n",
       "       [23.44899391],\n",
       "       [23.44899391],\n",
       "       [23.44899391],\n",
       "       [23.44899391],\n",
       "       [23.44899391],\n",
       "       [23.44899391],\n",
       "       [23.44899391],\n",
       "       [23.44899391],\n",
       "       [23.44899391],\n",
       "       [23.44899391],\n",
       "       [23.44899391],\n",
       "       [23.44899391],\n",
       "       [23.44899391],\n",
       "       [23.44899391],\n",
       "       [23.44899391],\n",
       "       [23.44899391],\n",
       "       [23.44899391],\n",
       "       [23.44899391],\n",
       "       [23.44899391],\n",
       "       [23.44899391],\n",
       "       [23.44899391],\n",
       "       [23.44899391],\n",
       "       [23.44899391],\n",
       "       [23.44899391],\n",
       "       [23.44899391],\n",
       "       [23.44899391],\n",
       "       [23.44899391],\n",
       "       [23.44899391],\n",
       "       [23.44899391],\n",
       "       [23.44899391],\n",
       "       [23.44899391],\n",
       "       [23.44899391],\n",
       "       [23.44899391],\n",
       "       [23.44899391],\n",
       "       [23.44899391],\n",
       "       [23.44899391],\n",
       "       [23.44899391],\n",
       "       [23.44899391],\n",
       "       [23.44899391],\n",
       "       [23.44899391],\n",
       "       [23.44899391],\n",
       "       [23.44899391],\n",
       "       [23.44899391],\n",
       "       [23.44899391],\n",
       "       [23.44899391],\n",
       "       [23.44899391],\n",
       "       [23.44899391],\n",
       "       [23.44899391],\n",
       "       [23.44899391],\n",
       "       [23.44899391],\n",
       "       [23.44899391],\n",
       "       [23.44899391],\n",
       "       [23.44899391],\n",
       "       [23.44899391],\n",
       "       [23.44899391],\n",
       "       [23.44899391],\n",
       "       [23.44899391],\n",
       "       [23.44899391],\n",
       "       [23.44899391],\n",
       "       [23.44899391],\n",
       "       [23.44899391],\n",
       "       [23.44899391],\n",
       "       [23.44899391],\n",
       "       [23.44899391],\n",
       "       [23.44899391],\n",
       "       [23.44899391],\n",
       "       [23.44899391],\n",
       "       [23.44899391],\n",
       "       [23.44899391],\n",
       "       [23.44899391],\n",
       "       [23.44899391],\n",
       "       [23.44899391],\n",
       "       [23.44899391],\n",
       "       [23.44899391],\n",
       "       [23.44899391],\n",
       "       [23.44899391],\n",
       "       [23.44899391],\n",
       "       [23.44899391],\n",
       "       [23.44899391],\n",
       "       [23.44899391],\n",
       "       [23.44899391],\n",
       "       [23.44899391],\n",
       "       [23.44899391],\n",
       "       [23.44899391],\n",
       "       [23.44899391],\n",
       "       [23.44899391],\n",
       "       [23.44899391],\n",
       "       [23.44899391],\n",
       "       [23.44899391],\n",
       "       [23.44899391],\n",
       "       [23.44899391],\n",
       "       [23.44899391],\n",
       "       [23.44899391],\n",
       "       [23.44899391],\n",
       "       [23.44899391],\n",
       "       [23.44899391],\n",
       "       [23.44899391],\n",
       "       [23.44899391],\n",
       "       [23.44899391],\n",
       "       [23.44899391],\n",
       "       [23.44899391],\n",
       "       [23.44899391],\n",
       "       [23.44899391],\n",
       "       [23.44899391],\n",
       "       [23.44899391],\n",
       "       [23.44899391],\n",
       "       [23.44899391],\n",
       "       [23.44899391],\n",
       "       [23.44899391],\n",
       "       [23.44899391],\n",
       "       [23.44899391],\n",
       "       [23.44899391],\n",
       "       [23.44899391],\n",
       "       [23.44899391],\n",
       "       [23.44899391],\n",
       "       [23.44899391],\n",
       "       [23.44899391],\n",
       "       [23.44899391],\n",
       "       [23.44899391],\n",
       "       [23.44899391],\n",
       "       [23.44899391],\n",
       "       [23.44899391],\n",
       "       [23.44899391],\n",
       "       [23.44899391],\n",
       "       [23.44899391],\n",
       "       [23.44899391],\n",
       "       [23.44899391],\n",
       "       [23.44899391],\n",
       "       [23.44899391],\n",
       "       [23.44899391],\n",
       "       [23.44899391],\n",
       "       [23.44899391],\n",
       "       [23.44899391],\n",
       "       [23.44899391],\n",
       "       [23.44899391],\n",
       "       [23.44899391],\n",
       "       [23.44899391],\n",
       "       [23.44899391],\n",
       "       [23.44899391],\n",
       "       [23.44899391],\n",
       "       [23.44899391],\n",
       "       [23.44899391],\n",
       "       [23.44899391],\n",
       "       [23.44899391],\n",
       "       [23.44899391],\n",
       "       [23.44899391],\n",
       "       [23.44899391],\n",
       "       [23.44899391],\n",
       "       [23.44899391],\n",
       "       [23.44899391],\n",
       "       [23.44899391],\n",
       "       [23.44899391],\n",
       "       [23.44899391],\n",
       "       [23.44899391],\n",
       "       [23.44899391],\n",
       "       [23.44899391],\n",
       "       [23.44899391],\n",
       "       [23.44899391],\n",
       "       [23.44899391],\n",
       "       [23.44899391],\n",
       "       [23.44899391],\n",
       "       [23.44899391],\n",
       "       [23.44899391],\n",
       "       [23.44899391],\n",
       "       [23.44899391],\n",
       "       [23.44899391],\n",
       "       [23.44899391],\n",
       "       [23.44899391],\n",
       "       [23.44899391],\n",
       "       [23.44899391],\n",
       "       [23.44899391],\n",
       "       [23.44899391],\n",
       "       [23.44899391],\n",
       "       [23.44899391],\n",
       "       [23.44899391],\n",
       "       [23.44899391],\n",
       "       [23.44899391],\n",
       "       [23.44899391],\n",
       "       [23.44899391],\n",
       "       [23.44899391],\n",
       "       [23.44899391],\n",
       "       [23.44899391],\n",
       "       [23.44899391],\n",
       "       [23.44899391],\n",
       "       [23.44899391],\n",
       "       [23.44899391],\n",
       "       [23.44899391],\n",
       "       [23.44899391],\n",
       "       [23.44899391],\n",
       "       [23.44899391],\n",
       "       [23.44899391],\n",
       "       [23.44899391],\n",
       "       [23.44899391],\n",
       "       [23.44899391],\n",
       "       [23.44899391],\n",
       "       [23.44899391],\n",
       "       [23.44899391],\n",
       "       [23.44899391],\n",
       "       [23.44899391],\n",
       "       [23.44899391],\n",
       "       [23.44899391],\n",
       "       [23.44899391],\n",
       "       [23.44899391],\n",
       "       [23.44899391],\n",
       "       [23.44899391],\n",
       "       [23.44899391],\n",
       "       [23.44899391],\n",
       "       [23.44899391],\n",
       "       [23.44899391],\n",
       "       [23.44899391],\n",
       "       [23.44899391],\n",
       "       [23.44899391],\n",
       "       [23.44899391],\n",
       "       [23.44899391],\n",
       "       [23.44899391],\n",
       "       [23.44899391],\n",
       "       [23.44899391],\n",
       "       [23.44899391],\n",
       "       [23.44899391],\n",
       "       [23.44899391],\n",
       "       [23.44899391],\n",
       "       [23.44899391],\n",
       "       [23.44899391],\n",
       "       [23.44899391],\n",
       "       [23.44899391],\n",
       "       [23.44899391],\n",
       "       [23.44899391],\n",
       "       [23.44899391],\n",
       "       [23.44899391]])"
      ]
     },
     "execution_count": 355,
     "metadata": {},
     "output_type": "execute_result"
    }
   ],
   "source": [
    "mlp_mpg.predict(mlp_mpg.X)"
   ]
  },
  {
   "cell_type": "code",
   "execution_count": 382,
   "id": "429fd720-6017-455e-bfeb-c84e2b5f4bd4",
   "metadata": {},
   "outputs": [],
   "source": [
    "# wagi wyglądają normalnie, nie ma sytuacji że wagi są zero i ostatni bias 23.448..."
   ]
  },
  {
   "cell_type": "code",
   "execution_count": 358,
   "id": "3ecc2d57-2f49-451d-9bf0-4d7a11ceba37",
   "metadata": {},
   "outputs": [
    {
     "data": {
      "text/plain": [
       "[array([[  4.26983822,   1.00442684,  -3.66439079,   2.97483581,\n",
       "           0.09116954],\n",
       "        [ -3.52858813,  -0.69573533,   0.01993118,  -9.07669185,\n",
       "          -0.10387834],\n",
       "        [  2.55208127,  -6.75156046,  -2.69757553,   3.16018407,\n",
       "          -2.73303108],\n",
       "        [  0.18583843,  -3.35932364,  -5.70202576,   3.02033054,\n",
       "          -1.25851918],\n",
       "        [ -4.45781331,   0.56850901,  -4.13744381,  -6.22889472,\n",
       "          -2.70209915],\n",
       "        [ -1.31619104,   1.07890788,  -0.9938617 ,  -0.87024632,\n",
       "           0.25577035],\n",
       "        [  5.61123948, -11.31520015,  -4.72254709,   1.46532737,\n",
       "          -0.74962753]]),\n",
       " array([[12.97464348],\n",
       "        [-1.12549516],\n",
       "        [ 4.08594494],\n",
       "        [ 7.73463254],\n",
       "        [ 3.61718844]])]"
      ]
     },
     "execution_count": 358,
     "metadata": {},
     "output_type": "execute_result"
    }
   ],
   "source": [
    "mlp_mpg.weights"
   ]
  },
  {
   "cell_type": "code",
   "execution_count": 385,
   "id": "3758e2c1-6e16-4cdd-a76e-674595294956",
   "metadata": {},
   "outputs": [
    {
     "data": {
      "text/plain": [
       "[array([-8.14442487,  5.23345604,  0.85855401,  0.10756746,  2.73395204]),\n",
       " array([2.73971789])]"
      ]
     },
     "execution_count": 385,
     "metadata": {},
     "output_type": "execute_result"
    }
   ],
   "source": [
    "mlp_mpg.biases"
   ]
  },
  {
   "cell_type": "code",
   "execution_count": 360,
   "id": "bded65ff-4d78-4ba4-930b-1ccfc678c84a",
   "metadata": {},
   "outputs": [
    {
     "data": {
      "text/plain": [
       "array([[307. ,   8. , 130. , ...,  12. ,  70. ,   1. ],\n",
       "       [350. ,   8. , 165. , ...,  11.5,  70. ,   1. ],\n",
       "       [318. ,   8. , 150. , ...,  11. ,  70. ,   1. ],\n",
       "       ...,\n",
       "       [135. ,   4. ,  84. , ...,  11.6,  82. ,   1. ],\n",
       "       [120. ,   4. ,  79. , ...,  18.6,  82. ,   1. ],\n",
       "       [119. ,   4. ,  82. , ...,  19.4,  82. ,   1. ]])"
      ]
     },
     "execution_count": 360,
     "metadata": {},
     "output_type": "execute_result"
    }
   ],
   "source": [
    "mlp_mpg.X"
   ]
  },
  {
   "cell_type": "code",
   "execution_count": 424,
   "id": "cdb2e7ae-7bb3-4aae-b75c-1999d14a7cc5",
   "metadata": {},
   "outputs": [],
   "source": [
    "# tylko 2 i 3 kolumna mają wpływ (cylinders i horsepower) ale dla typowego zakresu tych wartości jest zwracane w zasadzie to samo"
   ]
  },
  {
   "cell_type": "code",
   "execution_count": 431,
   "id": "9db0f424-8fa5-4a3a-a622-d425181a5236",
   "metadata": {},
   "outputs": [
    {
     "data": {
      "text/plain": [
       "array([2.74982809])"
      ]
     },
     "execution_count": 431,
     "metadata": {},
     "output_type": "execute_result"
    }
   ],
   "source": [
    "mlp_mpg.feedforward([0 ,   8,  3 , 0,  0,  0, 0])"
   ]
  },
  {
   "cell_type": "code",
   "execution_count": 427,
   "id": "c16e05be-4b49-466f-8c87-4101e60a7248",
   "metadata": {},
   "outputs": [],
   "source": [
    "mpg_mlp = NeuralNetwork(layers=[7,5,1], X=mpg_X, y=mpg_y, model_type='regression', resize=False)"
   ]
  },
  {
   "cell_type": "code",
   "execution_count": 429,
   "id": "de564170-4492-4eab-8dc3-cbcc674e2321",
   "metadata": {},
   "outputs": [
    {
     "data": {
      "text/plain": [
       "array([-0.00774981])"
      ]
     },
     "execution_count": 429,
     "metadata": {},
     "output_type": "execute_result"
    }
   ],
   "source": [
    "mpg_mlp.feedforward([119. ,   4. ,  82. , 100,  19.4,  82. ,   1. ])"
   ]
  },
  {
   "cell_type": "markdown",
   "id": "1fdd14c5-324b-4cfc-bc02-8131f8c96df5",
   "metadata": {},
   "source": [
    "#### modified selection, different params"
   ]
  },
  {
   "cell_type": "code",
   "execution_count": 439,
   "id": "72753ea7-3f04-49ed-946a-ba7137027151",
   "metadata": {
    "scrolled": true
   },
   "outputs": [
    {
     "name": "stdout",
     "output_type": "stream",
     "text": [
      "Generation 5: best individual: <__main__.NeuralNetwork object at 0x000001D509055750>, fitness: 393.219914414616\n",
      "Generation 10: best individual: <__main__.NeuralNetwork object at 0x000001D5090E1710>, fitness: 78.90129433740661\n",
      "Generation 15: best individual: <__main__.NeuralNetwork object at 0x000001D50912DD50>, fitness: 70.75441377695266\n",
      "Generation 20: best individual: <__main__.NeuralNetwork object at 0x000001D50912DD50>, fitness: 70.75441377695266\n",
      "Generation 25: best individual: <__main__.NeuralNetwork object at 0x000001D5090893D0>, fitness: 70.75441377695266\n",
      "Generation 30: best individual: <__main__.NeuralNetwork object at 0x000001D5090FA790>, fitness: 78.90129433740661\n",
      "Generation 35: best individual: <__main__.NeuralNetwork object at 0x000001D50907CA90>, fitness: 72.91838791727226\n",
      "Generation 40: best individual: <__main__.NeuralNetwork object at 0x000001D509046990>, fitness: 72.91838791727226\n",
      "Generation 45: best individual: <__main__.NeuralNetwork object at 0x000001D509011D90>, fitness: 72.91838791727226\n",
      "Generation 50: best individual: <__main__.NeuralNetwork object at 0x000001D5093A8850>, fitness: 72.91838791727226\n",
      "Generation 55: best individual: <__main__.NeuralNetwork object at 0x000001D5093D9810>, fitness: 72.91838791727226\n",
      "Generation 60: best individual: <__main__.NeuralNetwork object at 0x000001D509407490>, fitness: 69.4810081369089\n",
      "Generation 65: best individual: <__main__.NeuralNetwork object at 0x000001D5093BB6D0>, fitness: 69.07352761519242\n",
      "Generation 70: best individual: <__main__.NeuralNetwork object at 0x000001D509012050>, fitness: 70.2193129289106\n",
      "Generation 75: best individual: <__main__.NeuralNetwork object at 0x000001D50941EBD0>, fitness: 69.4676302367734\n",
      "Generation 80: best individual: <__main__.NeuralNetwork object at 0x000001D5090BF350>, fitness: 69.1640135921532\n",
      "Generation 85: best individual: <__main__.NeuralNetwork object at 0x000001D50941FD50>, fitness: 66.74721521982347\n",
      "Generation 90: best individual: <__main__.NeuralNetwork object at 0x000001D509360390>, fitness: 65.51483490578349\n"
     ]
    },
    {
     "name": "stderr",
     "output_type": "stream",
     "text": [
      "C:\\Users\\tymek\\AppData\\Local\\Temp\\ipykernel_14308\\2194875051.py:71: RuntimeWarning: overflow encountered in exp\n",
      "  return 1 / (1 + np.exp(-z))\n"
     ]
    },
    {
     "name": "stdout",
     "output_type": "stream",
     "text": [
      "Generation 95: best individual: <__main__.NeuralNetwork object at 0x000001D509360390>, fitness: 65.51483490578349\n",
      "Generation 100: best individual: <__main__.NeuralNetwork object at 0x000001D509088850>, fitness: 67.90155145906418\n",
      "Generation 105: best individual: <__main__.NeuralNetwork object at 0x000001D509055D50>, fitness: 68.07637027013139\n",
      "Generation 110: best individual: <__main__.NeuralNetwork object at 0x000001D50962C5D0>, fitness: 65.03376969831974\n",
      "Generation 115: best individual: <__main__.NeuralNetwork object at 0x000001D509422550>, fitness: 64.72220471585821\n",
      "Generation 120: best individual: <__main__.NeuralNetwork object at 0x000001D50942D890>, fitness: 65.03376969831974\n",
      "Generation 125: best individual: <__main__.NeuralNetwork object at 0x000001D5090FA0D0>, fitness: 64.9344762053493\n",
      "Generation 130: best individual: <__main__.NeuralNetwork object at 0x000001D5096EB850>, fitness: 64.44365045801202\n",
      "Generation 135: best individual: <__main__.NeuralNetwork object at 0x000001D5094FCA10>, fitness: 64.34745193123764\n",
      "Generation 140: best individual: <__main__.NeuralNetwork object at 0x000001D5090FA190>, fitness: 64.34745193123764\n",
      "Generation 145: best individual: <__main__.NeuralNetwork object at 0x000001D509587F50>, fitness: 64.34745193123764\n",
      "Generation 150: best individual: <__main__.NeuralNetwork object at 0x000001D5097DD290>, fitness: 64.34745193123764\n"
     ]
    }
   ],
   "source": [
    "ae = EvoAlg(X=mpg_X, y=mpg_y, layers=[7,5,1], model_type='regression', resize=False, population_size=50, generations=150)\n",
    "res_final = ae.train(mutation_rate=1, crossover_rate=0.5)"
   ]
  },
  {
   "cell_type": "code",
   "execution_count": 440,
   "id": "fb6d69ed-e321-4567-91fd-78689a0c50f5",
   "metadata": {},
   "outputs": [
    {
     "data": {
      "image/png": "[encoded data removed]",
      "text/plain": [
       "<Figure size 640x480 with 1 Axes>"
      ]
     },
     "metadata": {},
     "output_type": "display_data"
    }
   ],
   "source": [
    "res_final['history'].plot_history()"
   ]
  },
  {
   "cell_type": "markdown",
   "id": "84bd9315-310e-41aa-9008-90fdf24e4dff",
   "metadata": {},
   "source": [
    "#### modified mutation"
   ]
  },
  {
   "cell_type": "code",
   "execution_count": 457,
   "id": "380195ae-a464-40b4-ac3a-20dac7724377",
   "metadata": {},
   "outputs": [],
   "source": [
    "# zamiast mutować wszystkie elementy rozwiązania, mutujemy tylko niektóre"
   ]
  },
  {
   "cell_type": "code",
   "execution_count": 458,
   "id": "7528f31f-1622-4eb3-8982-82b0e09b73d6",
   "metadata": {
    "scrolled": true
   },
   "outputs": [
    {
     "name": "stdout",
     "output_type": "stream",
     "text": [
      "Generation 5: best individual: <__main__.NeuralNetwork object at 0x000001D509A7B7D0>, fitness: 267.62099797220446\n",
      "Generation 10: best individual: <__main__.NeuralNetwork object at 0x000001D509EE8FD0>, fitness: 65.77054400453477\n",
      "Generation 15: best individual: <__main__.NeuralNetwork object at 0x000001D509ADC790>, fitness: 63.787677331684485\n",
      "Generation 20: best individual: <__main__.NeuralNetwork object at 0x000001D509B3CE90>, fitness: 62.34922875672137\n",
      "Generation 25: best individual: <__main__.NeuralNetwork object at 0x000001D509EC0C90>, fitness: 61.705987457399054\n",
      "Generation 30: best individual: <__main__.NeuralNetwork object at 0x000001D509B0A290>, fitness: 61.24179532382183\n",
      "Generation 35: best individual: <__main__.NeuralNetwork object at 0x000001D509DCFDD0>, fitness: 61.239921310202426\n",
      "Generation 40: best individual: <__main__.NeuralNetwork object at 0x000001D509AD8050>, fitness: 61.040488253948794\n",
      "Generation 45: best individual: <__main__.NeuralNetwork object at 0x000001D509817750>, fitness: 60.94404736835156\n",
      "Generation 50: best individual: <__main__.NeuralNetwork object at 0x000001D509FE0B10>, fitness: 60.90878751039306\n",
      "Generation 55: best individual: <__main__.NeuralNetwork object at 0x000001D509D7CE90>, fitness: 60.85030843893396\n",
      "Generation 60: best individual: <__main__.NeuralNetwork object at 0x000001D509E61E50>, fitness: 60.83087946324715\n",
      "Generation 65: best individual: <__main__.NeuralNetwork object at 0x000001D50A0629D0>, fitness: 60.82467069834145\n",
      "Generation 70: best individual: <__main__.NeuralNetwork object at 0x000001D509F71C90>, fitness: 60.811345955955176\n",
      "Generation 75: best individual: <__main__.NeuralNetwork object at 0x000001D509B24110>, fitness: 60.804186711499156\n",
      "Generation 80: best individual: <__main__.NeuralNetwork object at 0x000001D50A0A7110>, fitness: 60.79781869818763\n",
      "Generation 85: best individual: <__main__.NeuralNetwork object at 0x000001D509F85A50>, fitness: 60.79032205541822\n",
      "Generation 90: best individual: <__main__.NeuralNetwork object at 0x000001D509F61C10>, fitness: 60.78982067502086\n",
      "Generation 95: best individual: <__main__.NeuralNetwork object at 0x000001D50A150D90>, fitness: 60.7864803690999\n",
      "Generation 100: best individual: <__main__.NeuralNetwork object at 0x000001D509B2E6D0>, fitness: 60.78223105651947\n",
      "Generation 105: best individual: <__main__.NeuralNetwork object at 0x000001D509B2E6D0>, fitness: 60.78223105651947\n",
      "Generation 110: best individual: <__main__.NeuralNetwork object at 0x000001D50A196750>, fitness: 60.7813015273829\n",
      "Generation 115: best individual: <__main__.NeuralNetwork object at 0x000001D50A196750>, fitness: 60.7813015273829\n",
      "Generation 120: best individual: <__main__.NeuralNetwork object at 0x000001D509B247D0>, fitness: 60.781146214520156\n",
      "Generation 125: best individual: <__main__.NeuralNetwork object at 0x000001D50A04FDD0>, fitness: 60.78031467645906\n",
      "Generation 130: best individual: <__main__.NeuralNetwork object at 0x000001D50A107290>, fitness: 60.780116059674846\n",
      "Generation 135: best individual: <__main__.NeuralNetwork object at 0x000001D509B087D0>, fitness: 60.77394469369022\n",
      "Generation 140: best individual: <__main__.NeuralNetwork object at 0x000001D509B087D0>, fitness: 60.77394469369022\n",
      "Generation 145: best individual: <__main__.NeuralNetwork object at 0x000001D50A040450>, fitness: 60.77390718529361\n",
      "Generation 150: best individual: <__main__.NeuralNetwork object at 0x000001D509B0B3D0>, fitness: 60.77348867596678\n"
     ]
    }
   ],
   "source": [
    "ae = EvoAlg(X=mpg_X, y=mpg_y, layers=[7,5,1], model_type='regression', resize=False, population_size=50, generations=150)\n",
    "res_mod = ae.train(mutation_rate=0.9, crossover_rate=0.5)"
   ]
  },
  {
   "cell_type": "code",
   "execution_count": 459,
   "id": "faed8c86-fcd0-4079-9c82-82dca8bf3837",
   "metadata": {},
   "outputs": [
    {
     "data": {
      "image/png": "[encoded data removed]",
      "text/plain": [
       "<Figure size 640x480 with 1 Axes>"
      ]
     },
     "metadata": {},
     "output_type": "display_data"
    }
   ],
   "source": [
    "res_mod['history'].plot_history()"
   ]
  },
  {
   "cell_type": "markdown",
   "id": "9045682d-6e79-49f5-a3fa-c98df006b75e",
   "metadata": {},
   "source": [
    "## Iris"
   ]
  },
  {
   "cell_type": "code",
   "execution_count": 444,
   "id": "fa7efdf5-744d-4863-89f5-a1055fb3efee",
   "metadata": {},
   "outputs": [],
   "source": [
    "iris = fetch_ucirepo(id=53) "
   ]
  },
  {
   "cell_type": "code",
   "execution_count": 460,
   "id": "788159e3-6ff5-469a-8b82-698844c70cf9",
   "metadata": {},
   "outputs": [],
   "source": [
    "iris_X = iris.data.features.to_numpy()\n",
    "iris_y = one_hot_encode(iris.data.targets)"
   ]
  },
  {
   "cell_type": "code",
   "execution_count": 527,
   "id": "4194c0c0-1e37-4aac-8bcc-cb78e7b5cd99",
   "metadata": {},
   "outputs": [],
   "source": [
    "def plot_iris(result):\n",
    "    best_ir = result['best_individual']\n",
    "    print('f1 score:', best_ir.loss(best_ir.X, best_ir.y, test=True))\n",
    "    result['history'].plot_history()"
   ]
  },
  {
   "cell_type": "markdown",
   "id": "00f7c212-414d-458d-8494-e12c7a31f1c1",
   "metadata": {},
   "source": [
    "### experiments"
   ]
  },
  {
   "cell_type": "markdown",
   "id": "92f6375a-1ced-47b0-b4b3-bb7562c1d6ae",
   "metadata": {},
   "source": [
    "#### 4, 5, 3"
   ]
  },
  {
   "cell_type": "code",
   "execution_count": 515,
   "id": "7c7f6098-08b5-48e7-8f69-40a4665a1628",
   "metadata": {},
   "outputs": [],
   "source": [
    "ae = EvoAlg(X=iris_X, y=iris_y, layers=[4,5,3], model_type='classification', resize=False, population_size=30, generations=100)\n",
    "# res_iris = ae.train()"
   ]
  },
  {
   "cell_type": "code",
   "execution_count": 516,
   "id": "208e5041-8e9d-4582-ab3a-10a840df5551",
   "metadata": {
    "scrolled": true
   },
   "outputs": [
    {
     "name": "stdout",
     "output_type": "stream",
     "text": [
      "Generation 1: best individual: <__main__.NeuralNetwork object at 0x000001D508D48C10>, fitness: 0.9155322067680881\n",
      "Generation 2: best individual: <__main__.NeuralNetwork object at 0x000001D5083CF610>, fitness: 0.8984465372430539\n",
      "Generation 3: best individual: <__main__.NeuralNetwork object at 0x000001D508677550>, fitness: 0.8275602066709281\n",
      "Generation 4: best individual: <__main__.NeuralNetwork object at 0x000001D508706D50>, fitness: 0.7970759727876362\n",
      "Generation 5: best individual: <__main__.NeuralNetwork object at 0x000001D50866E010>, fitness: 0.6952099798542164\n",
      "Generation 6: best individual: <__main__.NeuralNetwork object at 0x000001D5085BCCD0>, fitness: 0.6367627273114681\n",
      "Generation 7: best individual: <__main__.NeuralNetwork object at 0x000001D5085BCCD0>, fitness: 0.6367627273114681\n",
      "Generation 8: best individual: <__main__.NeuralNetwork object at 0x000001D5085BCCD0>, fitness: 0.6367627273114681\n",
      "Generation 9: best individual: <__main__.NeuralNetwork object at 0x000001D5085E5CD0>, fitness: 0.6212411188114264\n",
      "Generation 10: best individual: <__main__.NeuralNetwork object at 0x000001D50825B3D0>, fitness: 0.4887670917432695\n",
      "Generation 11: best individual: <__main__.NeuralNetwork object at 0x000001D50825B3D0>, fitness: 0.4887670917432695\n",
      "Generation 12: best individual: <__main__.NeuralNetwork object at 0x000001D50825B3D0>, fitness: 0.4887670917432695\n",
      "Generation 13: best individual: <__main__.NeuralNetwork object at 0x000001D50825B190>, fitness: 0.473114508287366\n",
      "Generation 14: best individual: <__main__.NeuralNetwork object at 0x000001D5083A0E50>, fitness: 0.43908068752675766\n",
      "Generation 15: best individual: <__main__.NeuralNetwork object at 0x000001D5083A0E50>, fitness: 0.43908068752675766\n",
      "Generation 16: best individual: <__main__.NeuralNetwork object at 0x000001D50825A9D0>, fitness: 0.43441299040465464\n",
      "Generation 17: best individual: <__main__.NeuralNetwork object at 0x000001D5085BD410>, fitness: 0.42632720474439884\n",
      "Generation 18: best individual: <__main__.NeuralNetwork object at 0x000001D5085BD410>, fitness: 0.42632720474439884\n",
      "Generation 19: best individual: <__main__.NeuralNetwork object at 0x000001D50772D990>, fitness: 0.4235422566612645\n",
      "Generation 20: best individual: <__main__.NeuralNetwork object at 0x000001D5084C4490>, fitness: 0.4156459566650705\n",
      "Generation 21: best individual: <__main__.NeuralNetwork object at 0x000001D5084C4490>, fitness: 0.4156459566650705\n",
      "Generation 22: best individual: <__main__.NeuralNetwork object at 0x000001D50863F650>, fitness: 0.3742337552005891\n",
      "Generation 23: best individual: <__main__.NeuralNetwork object at 0x000001D508E25F90>, fitness: 0.36312035432977885\n",
      "Generation 24: best individual: <__main__.NeuralNetwork object at 0x000001D5084C6D50>, fitness: 0.36312035432969614\n",
      "Generation 25: best individual: <__main__.NeuralNetwork object at 0x000001D508462BD0>, fitness: 0.3630948735222002\n",
      "Generation 26: best individual: <__main__.NeuralNetwork object at 0x000001D508462B10>, fitness: 0.3630948735222001\n",
      "Generation 27: best individual: <__main__.NeuralNetwork object at 0x000001D5086A7290>, fitness: 0.32189687395802286\n",
      "Generation 28: best individual: <__main__.NeuralNetwork object at 0x000001D508666E10>, fitness: 0.31771768248182847\n",
      "Generation 29: best individual: <__main__.NeuralNetwork object at 0x000001D508666E10>, fitness: 0.31771768248182847\n",
      "Generation 30: best individual: <__main__.NeuralNetwork object at 0x000001D5086D4290>, fitness: 0.3100890448088495\n",
      "Generation 31: best individual: <__main__.NeuralNetwork object at 0x000001D508202450>, fitness: 0.2976543794359861\n",
      "Generation 32: best individual: <__main__.NeuralNetwork object at 0x000001D508202450>, fitness: 0.2976543794359861\n",
      "Generation 33: best individual: <__main__.NeuralNetwork object at 0x000001D508202450>, fitness: 0.2976543794359861\n",
      "Generation 34: best individual: <__main__.NeuralNetwork object at 0x000001D508202610>, fitness: 0.28905514237502494\n",
      "Generation 35: best individual: <__main__.NeuralNetwork object at 0x000001D508202610>, fitness: 0.28905514237502494\n",
      "Generation 36: best individual: <__main__.NeuralNetwork object at 0x000001D508202610>, fitness: 0.28905514237502494\n",
      "Generation 37: best individual: <__main__.NeuralNetwork object at 0x000001D50BDC1210>, fitness: 0.23500212116827165\n",
      "Generation 38: best individual: <__main__.NeuralNetwork object at 0x000001D50BDC1210>, fitness: 0.23500212116827165\n",
      "Generation 39: best individual: <__main__.NeuralNetwork object at 0x000001D50BDC1210>, fitness: 0.23500212116827165\n",
      "Generation 40: best individual: <__main__.NeuralNetwork object at 0x000001D508251B50>, fitness: 0.22902785541676488\n",
      "Generation 41: best individual: <__main__.NeuralNetwork object at 0x000001D506CE1810>, fitness: 0.21845954153937105\n",
      "Generation 42: best individual: <__main__.NeuralNetwork object at 0x000001D5085E6050>, fitness: 0.1688455127258906\n",
      "Generation 43: best individual: <__main__.NeuralNetwork object at 0x000001D5085E6050>, fitness: 0.1688455127258906\n",
      "Generation 44: best individual: <__main__.NeuralNetwork object at 0x000001D5085E7410>, fitness: 0.16881142852059905\n",
      "Generation 45: best individual: <__main__.NeuralNetwork object at 0x000001D508344F10>, fitness: 0.16685747458683822\n",
      "Generation 46: best individual: <__main__.NeuralNetwork object at 0x000001D5087292D0>, fitness: 0.1440228531686162\n",
      "Generation 47: best individual: <__main__.NeuralNetwork object at 0x000001D5085BC710>, fitness: 0.14382210776868087\n",
      "Generation 48: best individual: <__main__.NeuralNetwork object at 0x000001D5085BC710>, fitness: 0.14382210776868087\n",
      "Generation 49: best individual: <__main__.NeuralNetwork object at 0x000001D508505B10>, fitness: 0.13020574771430818\n",
      "Generation 50: best individual: <__main__.NeuralNetwork object at 0x000001D5084F88D0>, fitness: 0.12652307627460327\n",
      "Generation 51: best individual: <__main__.NeuralNetwork object at 0x000001D5084F88D0>, fitness: 0.12652307627460327\n",
      "Generation 52: best individual: <__main__.NeuralNetwork object at 0x000001D5084F88D0>, fitness: 0.12652307627460327\n",
      "Generation 53: best individual: <__main__.NeuralNetwork object at 0x000001D5084F88D0>, fitness: 0.12652307627460327\n",
      "Generation 54: best individual: <__main__.NeuralNetwork object at 0x000001D506CDC5D0>, fitness: 0.12485297084787227\n",
      "Generation 55: best individual: <__main__.NeuralNetwork object at 0x000001D506CDC5D0>, fitness: 0.12485297084787227\n",
      "Generation 56: best individual: <__main__.NeuralNetwork object at 0x000001D506CC3790>, fitness: 0.12481821519791453\n",
      "Generation 57: best individual: <__main__.NeuralNetwork object at 0x000001D506BE3A10>, fitness: 0.12459900547984126\n",
      "Generation 58: best individual: <__main__.NeuralNetwork object at 0x000001D506BE3A10>, fitness: 0.12459900547984126\n",
      "Generation 59: best individual: <__main__.NeuralNetwork object at 0x000001D506BE3A10>, fitness: 0.12459900547984126\n",
      "Generation 60: best individual: <__main__.NeuralNetwork object at 0x000001D508E2A350>, fitness: 0.12395849151683423\n",
      "Generation 61: best individual: <__main__.NeuralNetwork object at 0x000001D508E2A350>, fitness: 0.12395849151683423\n",
      "Generation 62: best individual: <__main__.NeuralNetwork object at 0x000001D5086A0B50>, fitness: 0.11389891250026295\n",
      "Generation 63: best individual: <__main__.NeuralNetwork object at 0x000001D5086A0B50>, fitness: 0.11389891250026295\n",
      "Generation 64: best individual: <__main__.NeuralNetwork object at 0x000001D5086A0B50>, fitness: 0.11389891250026295\n",
      "Generation 65: best individual: <__main__.NeuralNetwork object at 0x000001D508213850>, fitness: 0.11257516889982085\n",
      "Generation 66: best individual: <__main__.NeuralNetwork object at 0x000001D5086A6C50>, fitness: 0.11104902934427159\n",
      "Generation 67: best individual: <__main__.NeuralNetwork object at 0x000001D5086A6C50>, fitness: 0.11104902934427159\n",
      "Generation 68: best individual: <__main__.NeuralNetwork object at 0x000001D5086A6C50>, fitness: 0.11104902934427159\n",
      "Generation 69: best individual: <__main__.NeuralNetwork object at 0x000001D50827D5D0>, fitness: 0.1096651554609332\n",
      "Generation 70: best individual: <__main__.NeuralNetwork object at 0x000001D5083A3250>, fitness: 0.08159879101234958\n",
      "Generation 71: best individual: <__main__.NeuralNetwork object at 0x000001D5083A3250>, fitness: 0.08159879101234958\n",
      "Generation 72: best individual: <__main__.NeuralNetwork object at 0x000001D50C17EA90>, fitness: 0.0815258514316543\n",
      "Generation 73: best individual: <__main__.NeuralNetwork object at 0x000001D508619190>, fitness: 0.07712271381358281\n",
      "Generation 74: best individual: <__main__.NeuralNetwork object at 0x000001D508619190>, fitness: 0.07712271381358281\n",
      "Generation 75: best individual: <__main__.NeuralNetwork object at 0x000001D50858A850>, fitness: 0.07712271381349879\n",
      "Generation 76: best individual: <__main__.NeuralNetwork object at 0x000001D50BEF3510>, fitness: 0.07712271381319148\n",
      "Generation 77: best individual: <__main__.NeuralNetwork object at 0x000001D50BEF3510>, fitness: 0.07712271381319148\n",
      "Generation 78: best individual: <__main__.NeuralNetwork object at 0x000001D50BEF3510>, fitness: 0.07712271381319148\n",
      "Generation 79: best individual: <__main__.NeuralNetwork object at 0x000001D50BEF3510>, fitness: 0.07712271381319148\n",
      "Generation 80: best individual: <__main__.NeuralNetwork object at 0x000001D50856E490>, fitness: 0.07631970371048777\n",
      "Generation 81: best individual: <__main__.NeuralNetwork object at 0x000001D50856E490>, fitness: 0.07631970371048777\n",
      "Generation 82: best individual: <__main__.NeuralNetwork object at 0x000001D506BCE790>, fitness: 0.07353512942525564\n",
      "Generation 83: best individual: <__main__.NeuralNetwork object at 0x000001D506BCE790>, fitness: 0.07353512942525564\n",
      "Generation 84: best individual: <__main__.NeuralNetwork object at 0x000001D506BCE790>, fitness: 0.07353512942525564\n",
      "Generation 85: best individual: <__main__.NeuralNetwork object at 0x000001D506BCE790>, fitness: 0.07353512942525564\n",
      "Generation 86: best individual: <__main__.NeuralNetwork object at 0x000001D506BCE790>, fitness: 0.07353512942525564\n",
      "Generation 87: best individual: <__main__.NeuralNetwork object at 0x000001D506BCE790>, fitness: 0.07353512942525564\n",
      "Generation 88: best individual: <__main__.NeuralNetwork object at 0x000001D506BCE790>, fitness: 0.07353512942525564\n",
      "Generation 89: best individual: <__main__.NeuralNetwork object at 0x000001D506BCE790>, fitness: 0.07353512942525564\n",
      "Generation 90: best individual: <__main__.NeuralNetwork object at 0x000001D508507C90>, fitness: 0.07353187054309059\n",
      "Generation 91: best individual: <__main__.NeuralNetwork object at 0x000001D508507C90>, fitness: 0.07353187054309059\n",
      "Generation 92: best individual: <__main__.NeuralNetwork object at 0x000001D508507C90>, fitness: 0.07353187054309059\n",
      "Generation 93: best individual: <__main__.NeuralNetwork object at 0x000001D508253DD0>, fitness: 0.07266440876868806\n",
      "Generation 94: best individual: <__main__.NeuralNetwork object at 0x000001D5085A4050>, fitness: 0.07247077265463801\n",
      "Generation 95: best individual: <__main__.NeuralNetwork object at 0x000001D5085A4050>, fitness: 0.07247077265463801\n",
      "Generation 96: best individual: <__main__.NeuralNetwork object at 0x000001D5084E1810>, fitness: 0.07189235829769018\n",
      "Generation 97: best individual: <__main__.NeuralNetwork object at 0x000001D5085A7910>, fitness: 0.06130025735090143\n",
      "Generation 98: best individual: <__main__.NeuralNetwork object at 0x000001D5085A7910>, fitness: 0.06130025735090143\n",
      "Generation 99: best individual: <__main__.NeuralNetwork object at 0x000001D5085A7910>, fitness: 0.06130025735090143\n",
      "Generation 100: best individual: <__main__.NeuralNetwork object at 0x000001D508618190>, fitness: 0.06130025735090142\n"
     ]
    }
   ],
   "source": [
    "res_iris = ae.train()"
   ]
  },
  {
   "cell_type": "code",
   "execution_count": 525,
   "id": "694bf528-4fff-4077-bf52-d2fcef577349",
   "metadata": {},
   "outputs": [
    {
     "name": "stdout",
     "output_type": "stream",
     "text": [
      "f1 score: 0.9799819837854068\n"
     ]
    },
    {
     "data": {
      "image/png": "[encoded data removed]",
      "text/plain": [
       "<Figure size 640x480 with 1 Axes>"
      ]
     },
     "metadata": {},
     "output_type": "display_data"
    }
   ],
   "source": [
    "plot_iris(res_iris)"
   ]
  },
  {
   "cell_type": "markdown",
   "id": "4ab3d4d3-53f5-44eb-bdf6-dbcb9c184c93",
   "metadata": {},
   "source": [
    "#### more generations"
   ]
  },
  {
   "cell_type": "code",
   "execution_count": 522,
   "id": "e5a8dad8-d821-4eab-9657-a45e22a4ae05",
   "metadata": {
    "scrolled": true
   },
   "outputs": [
    {
     "name": "stdout",
     "output_type": "stream",
     "text": [
      "Generation 5: best individual: <__main__.NeuralNetwork object at 0x000001D506C96B10>, fitness: 1.0143969930600265\n",
      "Generation 10: best individual: <__main__.NeuralNetwork object at 0x000001D50913F350>, fitness: 0.7339547045355506\n",
      "Generation 15: best individual: <__main__.NeuralNetwork object at 0x000001D509181810>, fitness: 0.568073773450488\n",
      "Generation 20: best individual: <__main__.NeuralNetwork object at 0x000001D506C7BE50>, fitness: 0.4982604414215363\n",
      "Generation 25: best individual: <__main__.NeuralNetwork object at 0x000001D50772A450>, fitness: 0.40614725824472486\n",
      "Generation 30: best individual: <__main__.NeuralNetwork object at 0x000001D5090F64D0>, fitness: 0.24800112984558226\n",
      "Generation 35: best individual: <__main__.NeuralNetwork object at 0x000001D503469DD0>, fitness: 0.2480011298455822\n",
      "Generation 40: best individual: <__main__.NeuralNetwork object at 0x000001D509133F10>, fitness: 0.1805966354194395\n",
      "Generation 45: best individual: <__main__.NeuralNetwork object at 0x000001D509131850>, fitness: 0.1714089819884971\n",
      "Generation 50: best individual: <__main__.NeuralNetwork object at 0x000001D5084FA9D0>, fitness: 0.17114993849779334\n",
      "Generation 55: best individual: <__main__.NeuralNetwork object at 0x000001D5091B4F50>, fitness: 0.17113124659824408\n",
      "Generation 60: best individual: <__main__.NeuralNetwork object at 0x000001D50915B7D0>, fitness: 0.16291729050073855\n",
      "Generation 65: best individual: <__main__.NeuralNetwork object at 0x000001D50861A890>, fitness: 0.12096182447910811\n",
      "Generation 70: best individual: <__main__.NeuralNetwork object at 0x000001D508347E10>, fitness: 0.12093249676444226\n",
      "Generation 75: best individual: <__main__.NeuralNetwork object at 0x000001D50C1A4C90>, fitness: 0.10597367411849634\n",
      "Generation 80: best individual: <__main__.NeuralNetwork object at 0x000001D508604C50>, fitness: 0.1053863372132862\n",
      "Generation 85: best individual: <__main__.NeuralNetwork object at 0x000001D50866DED0>, fitness: 0.10484810670781286\n",
      "Generation 90: best individual: <__main__.NeuralNetwork object at 0x000001D508D57D50>, fitness: 0.10407917996279302\n",
      "Generation 95: best individual: <__main__.NeuralNetwork object at 0x000001D508D57D50>, fitness: 0.10407917996279302\n",
      "Generation 100: best individual: <__main__.NeuralNetwork object at 0x000001D5094E4410>, fitness: 0.10232988819880713\n",
      "Generation 105: best individual: <__main__.NeuralNetwork object at 0x000001D5086A3C50>, fitness: 0.09587518357659067\n",
      "Generation 110: best individual: <__main__.NeuralNetwork object at 0x000001D50772A490>, fitness: 0.08801001552132606\n",
      "Generation 115: best individual: <__main__.NeuralNetwork object at 0x000001D506C80D10>, fitness: 0.08523062694648079\n",
      "Generation 120: best individual: <__main__.NeuralNetwork object at 0x000001D508605F10>, fitness: 0.08523062694614968\n",
      "Generation 125: best individual: <__main__.NeuralNetwork object at 0x000001D509D32710>, fitness: 0.08150544776887353\n",
      "Generation 130: best individual: <__main__.NeuralNetwork object at 0x000001D509D32710>, fitness: 0.08150544776887353\n",
      "Generation 135: best individual: <__main__.NeuralNetwork object at 0x000001D508506F10>, fitness: 0.07736093878028004\n",
      "Generation 140: best individual: <__main__.NeuralNetwork object at 0x000001D503BC74D0>, fitness: 0.06727203840458613\n",
      "Generation 145: best individual: <__main__.NeuralNetwork object at 0x000001D503BC74D0>, fitness: 0.06727203840458613\n",
      "Generation 150: best individual: <__main__.NeuralNetwork object at 0x000001D509530390>, fitness: 0.059601939334841314\n"
     ]
    }
   ],
   "source": [
    "ae = EvoAlg(X=iris_X, y=iris_y, layers=[4,5,3], model_type='classification', resize=False, population_size=30, generations=150)\n",
    "iris_150 = ae.train()"
   ]
  },
  {
   "cell_type": "code",
   "execution_count": 528,
   "id": "d17f63de-dc72-4ee1-86c3-48164b5b2ce3",
   "metadata": {},
   "outputs": [
    {
     "name": "stdout",
     "output_type": "stream",
     "text": [
      "f1 score: 0.9733226623982927\n"
     ]
    },
    {
     "data": {
      "image/png": "[encoded data removed]",
      "text/plain": [
       "<Figure size 640x480 with 1 Axes>"
      ]
     },
     "metadata": {},
     "output_type": "display_data"
    }
   ],
   "source": [
    "plot_iris(iris_150)"
   ]
  },
  {
   "cell_type": "markdown",
   "id": "839ebc3a-b7d3-45ae-9eba-5ddc6d848dd7",
   "metadata": {},
   "source": [
    "#### loop"
   ]
  },
  {
   "cell_type": "code",
   "execution_count": 529,
   "id": "c9433c1f-c160-4c38-bb32-82213fffb08b",
   "metadata": {},
   "outputs": [
    {
     "name": "stdout",
     "output_type": "stream",
     "text": [
      "iteration: 0\n",
      "Best individual: <__main__.NeuralNetwork object at 0x000001D508913C10>, fitness: 0.08416842641424704\n",
      "iteration: 1\n",
      "Best individual: <__main__.NeuralNetwork object at 0x000001D5089165D0>, fitness: 0.06462042609950938\n",
      "iteration: 2\n",
      "Best individual: <__main__.NeuralNetwork object at 0x000001D5085BF690>, fitness: 0.0631524322261001\n",
      "iteration: 3\n",
      "Best individual: <__main__.NeuralNetwork object at 0x000001D50C1BF3D0>, fitness: 0.08404400905166184\n",
      "iteration: 4\n",
      "Best individual: <__main__.NeuralNetwork object at 0x000001D50C4E9010>, fitness: 0.11341702250893741\n",
      "0.9693283985461371\n",
      "0.010835401455197426\n"
     ]
    }
   ],
   "source": [
    "fitness = []\n",
    "for i in range(5):\n",
    "    print('iteration:', i)\n",
    "    ae = EvoAlg(X=iris_X, y=iris_y, layers=[4,5,3], model_type='classification', resize=False, population_size=30, generations=150)\n",
    "    iris_i = ae.train(mute_print=True)\n",
    "    fitness.append(iris_i['best_individual'].loss(best_ir.X, best_ir.y, test=True))\n",
    "\n",
    "print(np.mean(fitness))\n",
    "print(np.std(fitness))"
   ]
  }
 ],
 "metadata": {
  "kernelspec": {
   "display_name": "Python 3 (ipykernel)",
   "language": "python",
   "name": "python3"
  },
  "language_info": {
   "codemirror_mode": {
    "name": "ipython",
    "version": 3
   },
   "file_extension": ".py",
   "mimetype": "text/x-python",
   "name": "python",
   "nbconvert_exporter": "python",
   "pygments_lexer": "ipython3",
   "version": "3.11.7"
  }
 },
 "nbformat": 4,
 "nbformat_minor": 5
}
