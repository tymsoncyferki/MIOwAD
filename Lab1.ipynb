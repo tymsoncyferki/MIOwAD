{
 "cells": [
  {
   "cell_type": "markdown",
   "id": "65f98944",
   "metadata": {},
   "source": [
    "### NN1"
   ]
  },
  {
   "cell_type": "code",
   "execution_count": 5,
   "id": "0095dcc7",
   "metadata": {},
   "outputs": [],
   "source": [
    "import numpy as np\n",
    "import pandas as pd\n",
    "import matplotlib.pyplot as plt"
   ]
  },
  {
   "cell_type": "code",
   "execution_count": 89,
   "id": "55b7fe35",
   "metadata": {},
   "outputs": [],
   "source": [
    "class NeuralNetwork:\n",
    "    \n",
    "    def __init__(self, layers, weights=None, biases=None, activations=None):\n",
    "        self.layers = layers\n",
    "        self.num_layers = len(layers)\n",
    "        \n",
    "        if weights is None:\n",
    "            self.weights = [np.random.randn(layers[i-1], layers[i]) for i in range(1, self.num_layers)]\n",
    "        else:\n",
    "            self.weights = weights\n",
    "        \n",
    "        if biases is None:\n",
    "            self.biases = [np.random.randn(layers[i]) for i in range(1, self.num_layers)]\n",
    "        else:\n",
    "            self.biases = biases\n",
    "        \n",
    "        if activations is None:\n",
    "            self.activations = ['sigmoid' for i in range(1, self.num_layers - 1)] + ['linear']\n",
    "        else:\n",
    "            self.activations = activations\n",
    "        \n",
    "        activation_functions = {\n",
    "            'sigmoid': self._sigmoid,\n",
    "            'relu': self._relu,\n",
    "            'linear': self._linear\n",
    "        }\n",
    "        self.activation_funcs = list(map(lambda x: activation_functions.get(x), self.activations))\n",
    "\n",
    "    def _sigmoid(self, z):\n",
    "        return 1 / (1 + np.exp(-z))\n",
    "\n",
    "    def _linear(self, z):\n",
    "        return z\n",
    "    \n",
    "    def feedforward(self, a, print_values=False):\n",
    "        for w, b, func in zip(self.weights, self.biases, self.activation_funcs):\n",
    "            if print_values:\n",
    "                print(f\"a: {a}\")\n",
    "                print(f\"w: {w}\")\n",
    "                print(f\"b: {b}\")\n",
    "            z = np.dot(a, w) + b\n",
    "            if print_values:\n",
    "                print(f\"z: {z}\")\n",
    "            a = func(z)\n",
    "            if print_values:\n",
    "                print(f\"new a: {a}\")\n",
    "        return a\n",
    "    \n",
    "    def predict(self, df):\n",
    "        if isinstance(df, pd.Series):\n",
    "            return df.apply(lambda x: self.feedforward(np.array([x]))[0])\n",
    "        else:\n",
    "            return self.feedforward(np.array([df]), print_values=True)"
   ]
  },
  {
   "cell_type": "markdown",
   "id": "67cd2ccd",
   "metadata": {},
   "source": [
    "Wytestowanie czy różne architektury działają i nie wyrzucają błędów:\n",
    "\n",
    "1*5"
   ]
  },
  {
   "cell_type": "code",
   "execution_count": 71,
   "id": "e7a3e705",
   "metadata": {},
   "outputs": [],
   "source": [
    "weights_1 = [np.random.randn(1, 5), np.random.randn(5, 1)]\n",
    "biases_1 = [np.random.randn(5), np.random.randn(1)] \n",
    "activations_1 = ['sigmoid', 'linear']"
   ]
  },
  {
   "cell_type": "code",
   "execution_count": 91,
   "id": "f42ba165",
   "metadata": {},
   "outputs": [],
   "source": [
    "nn_1 = NeuralNetwork([1, 5, 1], weights=weights_1, biases=biases_1, activations=activations_1)"
   ]
  },
  {
   "cell_type": "code",
   "execution_count": 73,
   "id": "f5734cd9",
   "metadata": {},
   "outputs": [
    {
     "data": {
      "text/plain": [
       "array([-1.40717637])"
      ]
     },
     "execution_count": 73,
     "metadata": {},
     "output_type": "execute_result"
    }
   ],
   "source": [
    "nn_1.feedforward(np.array([1]))"
   ]
  },
  {
   "cell_type": "markdown",
   "id": "c7d09249",
   "metadata": {},
   "source": [
    "1*10"
   ]
  },
  {
   "cell_type": "code",
   "execution_count": 74,
   "id": "d613f458",
   "metadata": {},
   "outputs": [],
   "source": [
    "weights_2 = [np.random.randn(1, 10), np.random.randn(10, 1)]\n",
    "biases_2 = [np.random.randn(10), np.random.randn(1)] \n",
    "activations_2 = ['sigmoid', 'linear']"
   ]
  },
  {
   "cell_type": "code",
   "execution_count": 94,
   "id": "b21d3b26",
   "metadata": {},
   "outputs": [],
   "source": [
    "nn_2 = NeuralNetwork([1, 10, 1], weights=weights_2, biases=biases_2, activations=activations_2)"
   ]
  },
  {
   "cell_type": "code",
   "execution_count": 76,
   "id": "97caec6c",
   "metadata": {},
   "outputs": [
    {
     "data": {
      "text/plain": [
       "array([-2.72668298])"
      ]
     },
     "execution_count": 76,
     "metadata": {},
     "output_type": "execute_result"
    }
   ],
   "source": [
    "nn_2.feedforward(np.array([1]))"
   ]
  },
  {
   "cell_type": "markdown",
   "id": "f2d5c269",
   "metadata": {},
   "source": [
    "2*5"
   ]
  },
  {
   "cell_type": "code",
   "execution_count": 77,
   "id": "3cdd4f79",
   "metadata": {},
   "outputs": [],
   "source": [
    "weights_3 = [np.random.randn(1, 5), np.random.randn(5, 5), np.random.randn(5, 1)]\n",
    "biases_3 = [np.random.randn(5), np.random.randn(5), np.random.randn(1)] \n",
    "activations_3 = ['sigmoid', 'sigmoid', 'linear']"
   ]
  },
  {
   "cell_type": "code",
   "execution_count": 95,
   "id": "603c5581",
   "metadata": {},
   "outputs": [],
   "source": [
    "nn_3 = NeuralNetwork([1, 5, 5, 1], weights=weights_3, biases=biases_3, activations=activations_3)"
   ]
  },
  {
   "cell_type": "code",
   "execution_count": 96,
   "id": "8bc71a94",
   "metadata": {},
   "outputs": [
    {
     "data": {
      "text/plain": [
       "array([-1.53909401])"
      ]
     },
     "execution_count": 96,
     "metadata": {},
     "output_type": "execute_result"
    }
   ],
   "source": [
    "nn_3.feedforward([1])"
   ]
  },
  {
   "cell_type": "markdown",
   "id": "09b30261",
   "metadata": {},
   "source": [
    "### Dane"
   ]
  },
  {
   "cell_type": "code",
   "execution_count": 86,
   "id": "ce312c0a",
   "metadata": {},
   "outputs": [],
   "source": [
    "def MSE(y_true, y_pred):\n",
    "    return np.mean((y_true - y_pred) ** 2)"
   ]
  },
  {
   "cell_type": "code",
   "execution_count": 87,
   "id": "5f869cd8",
   "metadata": {},
   "outputs": [],
   "source": [
    "square_simple = pd.read_csv(\"dane/regression/square-simple-test.csv\", index_col=0)\n",
    "steps_large = pd.read_csv(\"dane/regression/steps-large-test.csv\", index_col=0)"
   ]
  },
  {
   "cell_type": "code",
   "execution_count": 131,
   "id": "8696a1fe",
   "metadata": {},
   "outputs": [
    {
     "data": {
      "image/png": "[encoded data removed]",
      "text/plain": [
       "<Figure size 640x480 with 1 Axes>"
      ]
     },
     "metadata": {},
     "output_type": "display_data"
    }
   ],
   "source": [
    "plt.scatter(square_simple['x'], square_simple['y'])\n",
    "plt.scatter(steps_large['x'], steps_large['y'])\n",
    "plt.show()"
   ]
  },
  {
   "cell_type": "code",
   "execution_count": 145,
   "id": "fdbf4851",
   "metadata": {},
   "outputs": [
    {
     "name": "stdout",
     "output_type": "stream",
     "text": [
      "8598.354789518762\n",
      "7538.477532663899\n",
      "8531.858860060347\n",
      "7624.408919638661\n",
      "8578.770752973369\n",
      "7530.714197120048\n"
     ]
    }
   ],
   "source": [
    "for network in [nn_1, nn_2, nn_3]:\n",
    "    for dataset in [square_simple, steps_large]:\n",
    "        y_pred = network.predict(dataset['x'])\n",
    "        print(MSE(dataset['y'], y_pred))"
   ]
  },
  {
   "cell_type": "markdown",
   "id": "20969591",
   "metadata": {},
   "source": [
    "Wszystko działa jak powinno, możemy przejść do dobierania wag"
   ]
  },
  {
   "cell_type": "markdown",
   "id": "db72cfe8",
   "metadata": {},
   "source": [
    "## Ustawianie wag"
   ]
  },
  {
   "cell_type": "markdown",
   "id": "ae1bcee4",
   "metadata": {},
   "source": [
    "#### square_simple dataset"
   ]
  },
  {
   "cell_type": "markdown",
   "id": "3ee1cb0c",
   "metadata": {},
   "source": [
    "1 warstwa 5 neuronów"
   ]
  },
  {
   "cell_type": "code",
   "execution_count": 261,
   "id": "6c2f43f5",
   "metadata": {},
   "outputs": [],
   "source": [
    "weights = [np.array([[ -8.92018182,  -4.58637148,  -0.34143198,  -3.75550364, -10.57788163]]),\n",
    " np.array([[ -99.78332881],\n",
    "        [-143.47752289],\n",
    "        [ 238.79465997],\n",
    "        [ 222.21485586],\n",
    "        [-133.04253859]])]\n",
    "biases = [np.array([12.58624302,  3.96808679,  5.61003852, -4.05249924, 19.31574517]),\n",
    " np.array([5.32519605])]"
   ]
  },
  {
   "cell_type": "code",
   "execution_count": 258,
   "id": "55650ff3",
   "metadata": {},
   "outputs": [],
   "source": [
    "weights[1] = weights[1] * 1.03"
   ]
  },
  {
   "cell_type": "code",
   "execution_count": 262,
   "id": "dc42ef58",
   "metadata": {},
   "outputs": [
    {
     "data": {
      "text/plain": [
       "7.071690076319478"
      ]
     },
     "execution_count": 262,
     "metadata": {},
     "output_type": "execute_result"
    }
   ],
   "source": [
    "nn = NeuralNetwork([1, 5, 1], weights=weights, biases=biases)\n",
    "y_pred1 = nn.predict(square_simple['x'])\n",
    "MSE(square_simple['y'], y_pred1)"
   ]
  },
  {
   "cell_type": "code",
   "execution_count": 263,
   "id": "1a7705a6",
   "metadata": {},
   "outputs": [
    {
     "data": {
      "text/plain": [
       "<matplotlib.collections.PathCollection at 0x23bd3a7ef10>"
      ]
     },
     "execution_count": 263,
     "metadata": {},
     "output_type": "execute_result"
    },
    {
     "data": {
      "image/png": "[encoded data removed]",
      "text/plain": [
       "<Figure size 640x480 with 1 Axes>"
      ]
     },
     "metadata": {},
     "output_type": "display_data"
    }
   ],
   "source": [
    "plt.scatter(square_simple['x'], square_simple['y'])\n",
    "plt.scatter(square_simple['x'], y_pred1, s=5)"
   ]
  },
  {
   "cell_type": "markdown",
   "id": "46a7aad5",
   "metadata": {},
   "source": [
    "1 warstwa 10 neuronów"
   ]
  },
  {
   "cell_type": "code",
   "execution_count": 157,
   "id": "d1761488",
   "metadata": {},
   "outputs": [],
   "source": [
    "weights = [np.array([[ 3.39552112, -3.88498723,  3.8229298 , -8.37907716,  4.92993527,\n",
    "         -3.47661352, -4.8312443 ,  0.04850977, -3.57555355, -5.78281793]]),\n",
    " np.array([[ 93.46396829],\n",
    "        [-58.52134877],\n",
    "        [105.13378291],\n",
    "        [-13.92209006],\n",
    "        [ 89.670032  ],\n",
    "        [-41.18385257],\n",
    "        [181.47269437],\n",
    "        [ 30.99496035],\n",
    "        [-49.90317437],\n",
    "        [ 50.44622771]])]\n",
    "biases = [np.array([-5.62841645,  7.01789232, -6.87259627,  2.90267785, -4.38631465,\n",
    "         5.39302301, -5.87608216,  2.29299931,  6.24622276, -3.15410911]),\n",
    " np.array([0.59621493])]"
   ]
  },
  {
   "cell_type": "code",
   "execution_count": 158,
   "id": "03e476cc",
   "metadata": {},
   "outputs": [
    {
     "data": {
      "text/plain": [
       "1.666923051231666"
      ]
     },
     "execution_count": 158,
     "metadata": {},
     "output_type": "execute_result"
    }
   ],
   "source": [
    "nn = NeuralNetwork([1, 10, 1], weights=weights, biases=biases)\n",
    "y_pred2 = nn.predict(square_simple['x'])\n",
    "MSE(square_simple['y'], y_pred2)"
   ]
  },
  {
   "cell_type": "markdown",
   "id": "08fb9731",
   "metadata": {},
   "source": [
    "2 warstwy po 5 neuronów"
   ]
  },
  {
   "cell_type": "code",
   "execution_count": 159,
   "id": "577c394b",
   "metadata": {},
   "outputs": [],
   "source": [
    "weights = [np.array([[ 2.5277771 , -1.874371  , -0.85394995, -0.85044506, -5.03857015]]),\n",
    " np.array([[-11.58778723, -11.12499261,  16.51432964, -18.8166609 ,\n",
    "         -14.87307371],\n",
    "        [ 10.54953919,   7.32083182, -21.25470409,  16.93736516,\n",
    "          14.82365477],\n",
    "        [  4.68280204,   4.67222443,  12.12847252,   8.79608198,\n",
    "           3.99375672],\n",
    "        [  3.74439149,   2.61788153,  16.59519591,   6.46896227,\n",
    "           6.06413009],\n",
    "        [  4.80636171,   5.15655424,  10.29237644,   5.48604562,\n",
    "           6.46332653]]),\n",
    " np.array([[-28.45116632],\n",
    "        [-26.18790667],\n",
    "        [219.49988475],\n",
    "        [-41.48862776],\n",
    "        [-36.05547913]])]\n",
    "biases = [np.array([-0.14225067,  4.45839245, -0.93463341, -1.81741615, -0.81901026]),\n",
    " np.array([-1.20964874, -0.58561357, -0.78237998,  0.60735939, -0.98472891]),\n",
    " np.array([1.61393835])]"
   ]
  },
  {
   "cell_type": "code",
   "execution_count": 160,
   "id": "11005dfa",
   "metadata": {},
   "outputs": [
    {
     "data": {
      "text/plain": [
       "7.957378616823709"
      ]
     },
     "execution_count": 160,
     "metadata": {},
     "output_type": "execute_result"
    }
   ],
   "source": [
    "nn = NeuralNetwork([1, 5, 5, 1], weights=weights, biases=biases)\n",
    "y_pred3 = nn.predict(square_simple['x'])\n",
    "MSE(square_simple['y'], y_pred3)"
   ]
  },
  {
   "cell_type": "code",
   "execution_count": 162,
   "id": "6bc3c117",
   "metadata": {},
   "outputs": [
    {
     "data": {
      "image/png": "[encoded data removed]",
      "text/plain": [
       "<Figure size 640x480 with 1 Axes>"
      ]
     },
     "metadata": {},
     "output_type": "display_data"
    }
   ],
   "source": [
    "plt.scatter(square_simple['x'], square_simple['y'])\n",
    "plt.scatter(square_simple['x'], y_pred1, s=5)\n",
    "plt.scatter(square_simple['x'], y_pred2, s=5)\n",
    "plt.scatter(square_simple['x'], y_pred3, s=5)\n",
    "plt.show()"
   ]
  },
  {
   "cell_type": "markdown",
   "id": "cedb48b3",
   "metadata": {},
   "source": [
    "#### steps_large dataset"
   ]
  },
  {
   "cell_type": "markdown",
   "id": "5e6e5b01",
   "metadata": {},
   "source": [
    "1 warstwa 5 neuronów"
   ]
  },
  {
   "cell_type": "code",
   "execution_count": 365,
   "id": "2d61f0e9",
   "metadata": {},
   "outputs": [],
   "source": [
    "weights = [np.array([[78.56357824, 79.90135529, 36.66854522,  0.35116276, 10.04561825]]), \n",
    " np.array([[ 82.63814998],\n",
    "       [ 82.34662421],\n",
    "       [109.98810581],\n",
    "       [-88.55897199],\n",
    "       [-32.25863823]])]\n",
    "biases = [np.array([-39.02204649,  39.21833224, -54.73466644,   2.75526569,\n",
    "       -15.17586379]), np.array([0.82038991])]"
   ]
  },
  {
   "cell_type": "code",
   "execution_count": null,
   "id": "aa7fbba7",
   "metadata": {},
   "outputs": [],
   "source": [
    "# nowe wagi\n",
    "[array([[90.20561232, 88.47259145, 40.57836537,  0.40024377, 13.09889131]]), array([[ 82.20662463],\n",
    "       [ 82.02871926],\n",
    "       [115.71282616],\n",
    "       [-86.80079642],\n",
    "       [-37.43962806]])]\n",
    "[array([-44.79967385,  43.4514774 , -60.61225423,   3.07027512,\n",
    "       -19.72286957]), array([0.81794336])]"
   ]
  },
  {
   "cell_type": "code",
   "execution_count": 299,
   "id": "8c937b96",
   "metadata": {},
   "outputs": [],
   "source": [
    "weights[1] = weights[1] * 2"
   ]
  },
  {
   "cell_type": "code",
   "execution_count": 366,
   "id": "eda77016",
   "metadata": {},
   "outputs": [
    {
     "data": {
      "text/plain": [
       "27.060606825901203"
      ]
     },
     "execution_count": 366,
     "metadata": {},
     "output_type": "execute_result"
    }
   ],
   "source": [
    "nn = NeuralNetwork([1, 5, 1], weights=weights, biases=biases)\n",
    "y_pred4 = nn.predict(steps_large['x'])\n",
    "MSE(steps_large['y'], y_pred4)"
   ]
  },
  {
   "cell_type": "code",
   "execution_count": 367,
   "id": "96df653b",
   "metadata": {},
   "outputs": [
    {
     "data": {
      "text/plain": [
       "<matplotlib.collections.PathCollection at 0x23bd7a46280>"
      ]
     },
     "execution_count": 367,
     "metadata": {},
     "output_type": "execute_result"
    },
    {
     "data": {
      "image/png": "[encoded data removed]",
      "text/plain": [
       "<Figure size 640x480 with 1 Axes>"
      ]
     },
     "metadata": {},
     "output_type": "display_data"
    }
   ],
   "source": [
    "plt.scatter(steps_large['x'], steps_large['y'])\n",
    "plt.scatter(steps_large['x'], y_pred4, s=5)\n",
    "# plt.scatter(steps_large['x'], y_pred5, s=5)\n",
    "# plt.scatter(steps_large['x'], y_pred6, s=5)"
   ]
  },
  {
   "cell_type": "markdown",
   "id": "ec9d6423",
   "metadata": {},
   "source": [
    "1 warstwa 10 neuronów"
   ]
  },
  {
   "cell_type": "code",
   "execution_count": 357,
   "id": "d0e2e12d",
   "metadata": {},
   "outputs": [],
   "source": [
    "weights = [np.array([[ 54.382896 , -55.09526  ,  14.7870655,  27.029877 ,  55.166576 ,\n",
    "         59.808445 , -27.606133 ,  59.795853 , -54.91213  ,  54.853874 ]]), np.array([[ 12.019116],\n",
    "       [-33.381557],\n",
    "       [-90.85054 ],\n",
    "       [ 96.54781 ],\n",
    "       [ 19.363287],\n",
    "       [ 55.674763],\n",
    "       [-71.23986 ],\n",
    "       [ 55.58958 ],\n",
    "       [ 31.410458],\n",
    "       [ 16.47028 ]])]\n",
    "biases = [np.array([-27.033913,  27.38708 , -22.158144, -40.350998, -27.422424,\n",
    "        29.846415,  41.21274 ,  29.840431, -29.45995 , -27.267405]), np.array([-6.6802287])]"
   ]
  },
  {
   "cell_type": "code",
   "execution_count": 358,
   "id": "2d523c6e",
   "metadata": {},
   "outputs": [
    {
     "data": {
      "text/plain": [
       "34.0598033157124"
      ]
     },
     "execution_count": 358,
     "metadata": {},
     "output_type": "execute_result"
    }
   ],
   "source": [
    "nn = NeuralNetwork([1, 10, 1], weights=weights, biases=biases)\n",
    "y_pred6 = nn.predict(steps_large['x'])\n",
    "MSE(steps_large['y'], y_pred6)"
   ]
  },
  {
   "cell_type": "code",
   "execution_count": null,
   "id": "58405c79",
   "metadata": {},
   "outputs": [],
   "source": [
    "# nowe wagi:\n",
    "[array([[ 59.84945643, -60.38693972,  16.41401521,  28.18702789,\n",
    "         58.81308855,  61.7699252 , -28.60149239,  61.75053536,\n",
    "        -56.93791512,  57.97013632]]), array([[ -69.99614201],\n",
    "       [ -69.63517256],\n",
    "       [-110.31905786],\n",
    "       [ 102.8609668 ],\n",
    "       [  47.2780337 ],\n",
    "       [  80.68766256],\n",
    "       [ -84.33800145],\n",
    "       [  80.47651883],\n",
    "       [  80.77069351],\n",
    "       [  33.81193926]])]\n",
    "[array([-27.42018337,  29.25488331, -24.57718061, -42.08837979,\n",
    "       -28.4247261 ,  31.06034746,  42.70865137,  31.05145369,\n",
    "       -29.68925833, -27.97675392]), array([-6.67432156])]"
   ]
  },
  {
   "cell_type": "markdown",
   "id": "a53456ae",
   "metadata": {},
   "source": [
    "2 warstwy po 5 neuronów"
   ]
  },
  {
   "cell_type": "code",
   "execution_count": 302,
   "id": "904c0cf2",
   "metadata": {},
   "outputs": [],
   "source": [
    "weights = [np.array([[ 8.3519067 , -3.43774517, -4.56134835, -3.22323689,  6.7293494 ]]),\n",
    " np.array([[ -5.30915403, 128.73441887,  44.51136448,  47.14581314,\n",
    "          65.61996331],\n",
    "        [111.51829378, -10.4406453 , -57.38709398, -61.81231708,\n",
    "          -5.06917834],\n",
    "        [130.66422621,  -0.75022535, -32.31133572, -36.19534409,\n",
    "           1.90430267],\n",
    "        [ 76.55964897, -38.29115624, -54.5026081 , -59.12963333,\n",
    "         -21.18537695],\n",
    "        [-40.40208778,  52.81485201,  96.28066172, 109.90789681,\n",
    "          34.99162828]]),\n",
    " np.array([[-80.9403863 ],\n",
    "        [ 80.75459835],\n",
    "        [ 31.05064383],\n",
    "        [ 48.83578297],\n",
    "        [ -1.01992552]])]\n",
    "biases = [np.array([ 3.60266617,  3.2310535 ,  5.59830487,  1.71100552, -2.68950954]),\n",
    " np.array([-0.42605736,  0.15281038, -0.90381384, -2.7355437 , -0.82934771]),\n",
    " np.array([1.11947024])]"
   ]
  },
  {
   "cell_type": "code",
   "execution_count": 303,
   "id": "cbe5de31",
   "metadata": {},
   "outputs": [
    {
     "data": {
      "text/plain": [
       "7.0897260709013015"
      ]
     },
     "execution_count": 303,
     "metadata": {},
     "output_type": "execute_result"
    }
   ],
   "source": [
    "nn = NeuralNetwork([1, 5, 5, 1], weights=weights, biases=biases)\n",
    "y_pred5 = nn.predict(steps_large['x'])\n",
    "MSE(steps_large['y'], y_pred5)"
   ]
  },
  {
   "cell_type": "code",
   "execution_count": 57,
   "id": "98880c18",
   "metadata": {},
   "outputs": [],
   "source": [
    "preds=nn.predict(square_simple['x'])"
   ]
  },
  {
   "cell_type": "code",
   "execution_count": 124,
   "id": "b9f53f29",
   "metadata": {},
   "outputs": [],
   "source": [
    "weights = [np.array([[ 3.17757035,  5.39755898, -6.78157881, -1.4942937 ,  3.6407139 ,\n",
    "         -4.12520695, -4.93819555, -4.53701721, -3.08948761,  8.25573596]]),\n",
    " np.array([[ -1.9517278 ],\n",
    "        [-29.72385711],\n",
    "        [-81.59945682],\n",
    "        [-28.40259562],\n",
    "        [155.78406348],\n",
    "        [192.89698794],\n",
    "        [ 48.9328099 ],\n",
    "        [104.45571561],\n",
    "        [-19.04048899],\n",
    "        [143.66042623]])]\n",
    "biases = [np.array([ 5.69724871,  8.23441345,  9.82832157, -0.000504632306,\n",
    "        -3.70365344, -6.75121478, -2.09338537, -4.54799423,\n",
    "         1.43422980, -15.3966902]),\n",
    "        np.array([2.30287025])]"
   ]
  },
  {
   "cell_type": "code",
   "execution_count": 125,
   "id": "60e65e40",
   "metadata": {},
   "outputs": [],
   "source": [
    "weights[0] = weights[0].round(0)\n",
    "weights[1] = weights[1].round(0)\n",
    "biases[0] = biases[0].round(0)\n",
    "biases[1] = biases[1].round(0)"
   ]
  },
  {
   "cell_type": "code",
   "execution_count": 126,
   "id": "a99d5bd3",
   "metadata": {
    "scrolled": true
   },
   "outputs": [
    {
     "data": {
      "text/plain": [
       "[array([[ 3.,  5., -7., -1.,  4., -4., -5., -5., -3.,  8.]]),\n",
       " array([[ -2.],\n",
       "        [-30.],\n",
       "        [-82.],\n",
       "        [-28.],\n",
       "        [156.],\n",
       "        [193.],\n",
       "        [ 49.],\n",
       "        [104.],\n",
       "        [-19.],\n",
       "        [144.]])]"
      ]
     },
     "execution_count": 126,
     "metadata": {},
     "output_type": "execute_result"
    }
   ],
   "source": [
    "weights"
   ]
  },
  {
   "cell_type": "code",
   "execution_count": 127,
   "id": "9894dabc",
   "metadata": {},
   "outputs": [],
   "source": [
    "n10 = NeuralNetwork([1,10,1], weights=weights, biases=biases)"
   ]
  },
  {
   "cell_type": "code",
   "execution_count": 128,
   "id": "9b3785cb",
   "metadata": {},
   "outputs": [
    {
     "data": {
      "text/plain": [
       "11.689857169895388"
      ]
     },
     "execution_count": 128,
     "metadata": {},
     "output_type": "execute_result"
    }
   ],
   "source": [
    "y_pred = n10.predict(square_simple['x'])\n",
    "MSE(square_simple['y'], y_pred)"
   ]
  },
  {
   "cell_type": "code",
   "execution_count": 54,
   "id": "1e722a1d",
   "metadata": {},
   "outputs": [],
   "source": [
    "nn = NeuralNetwork([1, 10, 1], weights=[np.array([[-14.556189 , -14.480842 , -15.3642   , -14.338842 , -19.760828 ,\n",
    "         -14.058721 , -14.0419235, -14.582272 , -14.790008 , -19.312962 ]],\n",
    "                                             ),\n",
    " np.array([[-17.44895 ],\n",
    "        [-17.129398],\n",
    "        [-17.434309],\n",
    "        [-17.378904],\n",
    "        [-17.755762],\n",
    "        [-17.358637],\n",
    "        [-17.322638],\n",
    "        [-17.414713],\n",
    "        [-17.450607],\n",
    "        [-17.798874]])], biases= [np.array([[20.540493 , 16.222954 , 17.256556 , 20.110592 , 17.398247 ,\n",
    "        15.6926775, 19.485353 , 20.591011 , 20.987028 , 17.166233 ]],\n",
    "      ),\n",
    " np.array([[95.26573]])])"
   ]
  },
  {
   "cell_type": "code",
   "execution_count": 146,
   "id": "1608250b",
   "metadata": {
    "scrolled": false
   },
   "outputs": [
    {
     "data": {
      "text/plain": [
       "<matplotlib.collections.PathCollection at 0x23bd0f9b8b0>"
      ]
     },
     "execution_count": 146,
     "metadata": {},
     "output_type": "execute_result"
    },
    {
     "data": {
      "image/png": "[encoded data removed]",
      "text/plain": [
       "<Figure size 640x480 with 1 Axes>"
      ]
     },
     "metadata": {},
     "output_type": "display_data"
    }
   ],
   "source": [
    "plt.scatter(square_simple['x'], square_simple['y'])\n",
    "plt.scatter(square_simple['x'], preds, s=10)\n",
    "plt.scatter(square_simple['x'], n10.predict(square_simple['x']), s=10)"
   ]
  },
  {
   "cell_type": "code",
   "execution_count": null,
   "id": "6c4f8305",
   "metadata": {},
   "outputs": [],
   "source": []
  }
 ],
 "metadata": {
  "kernelspec": {
   "display_name": "Python 3 (ipykernel)",
   "language": "python",
   "name": "python3"
  },
  "language_info": {
   "codemirror_mode": {
    "name": "ipython",
    "version": 3
   },
   "file_extension": ".py",
   "mimetype": "text/x-python",
   "name": "python",
   "nbconvert_exporter": "python",
   "pygments_lexer": "ipython3",
   "version": "3.9.13"
  }
 },
 "nbformat": 4,
 "nbformat_minor": 5
}
