{
 "cells": [
  {
   "cell_type": "markdown",
   "id": "65f98944",
   "metadata": {},
   "source": [
    "### NN1"
   ]
  },
  {
   "cell_type": "code",
   "execution_count": 1,
   "id": "0095dcc7",
   "metadata": {},
   "outputs": [],
   "source": [
    "import numpy as np\n",
    "import pandas as pd"
   ]
  },
  {
   "cell_type": "code",
   "execution_count": 254,
   "id": "55b7fe35",
   "metadata": {},
   "outputs": [],
   "source": [
    "class NeuralNetwork:\n",
    "    \n",
    "    def __init__(self, layers, weights=None, biases=None, activations=None):\n",
    "        self.layers = layers\n",
    "        self.num_layers = len(layers)\n",
    "        \n",
    "        if weights is None:\n",
    "            self.weights = [np.random.randn(layers[i-1], layers[i]) for i in range(1, self.num_layers)]\n",
    "        else:\n",
    "            self.weights = weights\n",
    "        \n",
    "        if biases is None:\n",
    "            self.biases = [np.random.randn(1, layers[i]) for i in range(1, self.num_layers)]\n",
    "        else:\n",
    "            self.biases = biases\n",
    "        \n",
    "        if activations is None:\n",
    "            self.activations = ['sigmoid' for i in range(self.num_layers)]\n",
    "        else:\n",
    "            self.activations = activations\n",
    "        \n",
    "        activation_functions = {\n",
    "            'sigmoid': self._sigmoid,\n",
    "            'relu': self._relu,\n",
    "            'linear': self._linear\n",
    "        }\n",
    "        self.activation_funcs = list(map(lambda x: activation_functions.get(x), self.activations))\n",
    "\n",
    "    def _sigmoid(self, z):\n",
    "        return 1 / (1 + np.exp(-z))\n",
    "\n",
    "    def _relu(self, z):\n",
    "        return np.maximum(0, z)\n",
    "\n",
    "    def _linear(self, z):\n",
    "        return z\n",
    "    \n",
    "    def feedforward(self, a):\n",
    "        for w, b, func in zip(self.weights, self.biases, self.activation_funcs):\n",
    "#             print(a)\n",
    "#             print(w)\n",
    "#             print(b)\n",
    "            z = np.dot(a, w) + b\n",
    "            a = func(z)\n",
    "        return a\n",
    "    \n",
    "    def predict(self, df):\n",
    "        return df.apply(lambda x: self.feedforward(np.array([x]))[0][0])"
   ]
  },
  {
   "cell_type": "markdown",
   "id": "67cd2ccd",
   "metadata": {},
   "source": [
    "1/5"
   ]
  },
  {
   "cell_type": "code",
   "execution_count": 247,
   "id": "e7a3e705",
   "metadata": {},
   "outputs": [],
   "source": [
    "weights_1 = [np.random.randn(1, 5), np.random.randn(5, 1)]\n",
    "biases_1 = [np.random.randn(1, 5), np.random.randn(1, 1)] \n",
    "activations_1 = ['sigmoid', 'linear']"
   ]
  },
  {
   "cell_type": "code",
   "execution_count": 248,
   "id": "f42ba165",
   "metadata": {},
   "outputs": [],
   "source": [
    "nn_1 = NeuralNetwork([1, 5, 1], weights=weights_1, biases=biases_1, activations=activations_1)"
   ]
  },
  {
   "cell_type": "code",
   "execution_count": 238,
   "id": "f5734cd9",
   "metadata": {},
   "outputs": [
    {
     "data": {
      "text/plain": [
       "array([[2.51197147]])"
      ]
     },
     "execution_count": 238,
     "metadata": {},
     "output_type": "execute_result"
    }
   ],
   "source": [
    "nn_1.feedforward(np.array([1]))"
   ]
  },
  {
   "cell_type": "markdown",
   "id": "c7d09249",
   "metadata": {},
   "source": [
    "1/10"
   ]
  },
  {
   "cell_type": "code",
   "execution_count": 209,
   "id": "d613f458",
   "metadata": {},
   "outputs": [],
   "source": [
    "weights_2 = [np.random.randn(1, 10), np.random.randn(10, 1)]\n",
    "biases_2 = [np.random.randn(1, 10), np.random.randn(1, 1)] \n",
    "activations_2 = ['sigmoid', 'linear']"
   ]
  },
  {
   "cell_type": "code",
   "execution_count": 210,
   "id": "b21d3b26",
   "metadata": {},
   "outputs": [],
   "source": [
    "nn_2 = NeuralNetwork([1, 10, 1], weights=weights_2, biases=biases_2, activations=activations_2)"
   ]
  },
  {
   "cell_type": "code",
   "execution_count": 211,
   "id": "97caec6c",
   "metadata": {},
   "outputs": [
    {
     "data": {
      "text/plain": [
       "array([[-2.46340581]])"
      ]
     },
     "execution_count": 211,
     "metadata": {},
     "output_type": "execute_result"
    }
   ],
   "source": [
    "nn_2.feedforward(np.array([1]))"
   ]
  },
  {
   "cell_type": "markdown",
   "id": "f2d5c269",
   "metadata": {},
   "source": [
    "2/5"
   ]
  },
  {
   "cell_type": "code",
   "execution_count": 215,
   "id": "3cdd4f79",
   "metadata": {},
   "outputs": [],
   "source": [
    "weights_3 = [np.random.randn(1, 5), np.random.randn(5, 5), np.random.randn(5, 1)]\n",
    "biases_3 = [np.random.randn(1, 5), np.random.randn(1, 5), np.random.randn(1, 1)] \n",
    "activations_3 = ['sigmoid', 'sigmoid', 'linear']"
   ]
  },
  {
   "cell_type": "code",
   "execution_count": 216,
   "id": "603c5581",
   "metadata": {},
   "outputs": [],
   "source": [
    "nn_3 = NeuralNetwork([1, 5, 5, 1], weights=weights_3, biases=biases_3, activations=activations_3)"
   ]
  },
  {
   "cell_type": "code",
   "execution_count": 217,
   "id": "8bc71a94",
   "metadata": {},
   "outputs": [
    {
     "data": {
      "text/plain": [
       "array([[1.25845247]])"
      ]
     },
     "execution_count": 217,
     "metadata": {},
     "output_type": "execute_result"
    }
   ],
   "source": [
    "nn_3.feedforward(np.array([1]))"
   ]
  },
  {
   "cell_type": "markdown",
   "id": "09b30261",
   "metadata": {},
   "source": [
    "### TEST"
   ]
  },
  {
   "cell_type": "code",
   "execution_count": 227,
   "id": "ce312c0a",
   "metadata": {},
   "outputs": [],
   "source": [
    "def MSE(y_true, y_pred):\n",
    "    return np.mean((y_true - y_pred) ** 2)"
   ]
  },
  {
   "cell_type": "code",
   "execution_count": 221,
   "id": "5f869cd8",
   "metadata": {},
   "outputs": [],
   "source": [
    "square_simple = pd.read_csv(\"dane/regression/square-simple-test.csv\", index_col=0)\n",
    "steps_large = pd.read_csv(\"dane/regression/steps-large-test.csv\", index_col=0)"
   ]
  },
  {
   "cell_type": "code",
   "execution_count": 228,
   "id": "96a8dd2a",
   "metadata": {},
   "outputs": [
    {
     "data": {
      "text/plain": [
       "8698.929821521371"
      ]
     },
     "execution_count": 228,
     "metadata": {},
     "output_type": "execute_result"
    }
   ],
   "source": [
    "y_pred = nn_1.predict(square_simple['x'])\n",
    "MSE(square_simple['y'], y_pred)"
   ]
  },
  {
   "cell_type": "code",
   "execution_count": 229,
   "id": "d4350386",
   "metadata": {},
   "outputs": [],
   "source": [
    "min_mse = 10000\n",
    "min_weights = None\n",
    "min_biases = None\n",
    "for i in range(100000):\n",
    "    weights_1 = [np.random.randn(1, 5), np.random.randn(5, 1)]\n",
    "    biases_1 = [np.random.randn(1, 5), np.random.randn(1, 1)] \n",
    "    activations_1 = ['sigmoid', 'linear']\n",
    "    nn_1 = NeuralNetwork([1, 5, 1], weights=weights_1, biases=biases_1, activations=activations_1)\n",
    "    y_pred = nn_1.predict(square_simple['x'])\n",
    "    mse = MSE(square_simple['y'], y_pred)\n",
    "    if mse < min_mse:\n",
    "        min_mse = mse\n",
    "        min_weights = weights_1\n",
    "        min_biases = biases_1"
   ]
  },
  {
   "cell_type": "code",
   "execution_count": 230,
   "id": "8350d703",
   "metadata": {},
   "outputs": [
    {
     "data": {
      "text/plain": [
       "8157.45203671807"
      ]
     },
     "execution_count": 230,
     "metadata": {},
     "output_type": "execute_result"
    }
   ],
   "source": [
    "min_mse"
   ]
  },
  {
   "cell_type": "code",
   "execution_count": 223,
   "id": "e51fe0a0",
   "metadata": {},
   "outputs": [
    {
     "data": {
      "text/plain": [
       "8547.47430687707"
      ]
     },
     "execution_count": 223,
     "metadata": {},
     "output_type": "execute_result"
    }
   ],
   "source": [
    "y_pred = nn_2.predict(square_simple['x'])\n",
    "mse(square_simple['y'], y_pred)"
   ]
  },
  {
   "cell_type": "code",
   "execution_count": 224,
   "id": "f66e962f",
   "metadata": {},
   "outputs": [
    {
     "data": {
      "text/plain": [
       "8784.95126512737"
      ]
     },
     "execution_count": 224,
     "metadata": {},
     "output_type": "execute_result"
    }
   ],
   "source": [
    "y_pred = nn_3.predict(square_simple['x'])\n",
    "mse(square_simple['y'], y_pred)"
   ]
  },
  {
   "cell_type": "code",
   "execution_count": 225,
   "id": "d3721342",
   "metadata": {},
   "outputs": [
    {
     "data": {
      "text/plain": [
       "7603.799698483237"
      ]
     },
     "execution_count": 225,
     "metadata": {},
     "output_type": "execute_result"
    }
   ],
   "source": [
    "y_pred = nn_1.predict(steps_large['x'])\n",
    "mse(steps_large['y'], y_pred)"
   ]
  },
  {
   "cell_type": "markdown",
   "id": "db72cfe8",
   "metadata": {},
   "source": [
    "### tensor"
   ]
  }
 ],
 "metadata": {
  "kernelspec": {
   "display_name": "Python 3 (ipykernel)",
   "language": "python",
   "name": "python3"
  },
  "language_info": {
   "codemirror_mode": {
    "name": "ipython",
    "version": 3
   },
   "file_extension": ".py",
   "mimetype": "text/x-python",
   "name": "python",
   "nbconvert_exporter": "python",
   "pygments_lexer": "ipython3",
   "version": "3.9.13"
  }
 },
 "nbformat": 4,
 "nbformat_minor": 5
}
