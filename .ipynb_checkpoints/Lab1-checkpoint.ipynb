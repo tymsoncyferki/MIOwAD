{
 "cells": [
  {
   "cell_type": "markdown",
   "id": "04f6bf84",
   "metadata": {},
   "source": [
    "### NN1"
   ]
  },
  {
   "cell_type": "code",
   "execution_count": 1,
   "id": "55853f0d",
   "metadata": {},
   "outputs": [],
   "source": [
    "import numpy as np"
   ]
  },
  {
   "cell_type": "code",
   "execution_count": 111,
   "id": "573e2e8f",
   "metadata": {},
   "outputs": [],
   "source": [
    "class NeuralNetwork:\n",
    "    \n",
    "    def __init__(self, layers, weights=None, biases=None, activations=None):\n",
    "        self.layers = layers\n",
    "        self.num_layers = len(layers)\n",
    "        \n",
    "        if weights is None:\n",
    "            self.weights = [np.random.randn(layers[i-1], layers[i]) for i in range(1, self.num_layers)]\n",
    "        else:\n",
    "            self.weights = weights\n",
    "        \n",
    "        if biases is None:\n",
    "            self.biases = [np.random.randn(1, layers[i]) for i in range(1, self.num_layers)]\n",
    "        else:\n",
    "            self.biases = biases\n",
    "        \n",
    "        if activations is None:\n",
    "            self.activations = ['sigmoid' for i in range(self.num_layers)]\n",
    "        else:\n",
    "            self.activations = activations\n",
    "        \n",
    "        activation_functions = {\n",
    "            'sigmoid': self._sigmoid,\n",
    "            'relu': self._relu,\n",
    "            'linear': self._linear\n",
    "        }\n",
    "        self.activation_funcs = list(map(lambda x: activation_functions.get(x), self.activations))\n",
    "\n",
    "    def _sigmoid(self, z):\n",
    "        return 1 / (1 + np.exp(-z))\n",
    "\n",
    "    def _relu(self, z):\n",
    "        return np.maximum(0, z)\n",
    "\n",
    "    def _linear(self, z):\n",
    "        return z\n",
    "    \n",
    "    def feedforward(self, a):\n",
    "        for w, b, func in zip(self.weights, self.biases, self.activation_funcs):\n",
    "#             print(a)\n",
    "#             print(w)\n",
    "#             print(b)\n",
    "            z = np.dot(a, w) + b\n",
    "            a = func(z)\n",
    "        return a"
   ]
  },
  {
   "cell_type": "code",
   "execution_count": 133,
   "id": "6e194dbb",
   "metadata": {},
   "outputs": [],
   "source": [
    "# Przykładowe użycie\n",
    "# Tworzenie sieci z jedną warstwą ukrytą i 5 neuronami, podając własne wagi i biasy\n",
    "weights_1 = [np.random.randn(1, 5), np.random.randn(5, 1)]  # Wagi dla warstwy ukrytej\n",
    "biases_1 = [np.random.randn(1, 5), np.random.randn(1, 1)]  # Biasy dla warstwy ukrytej"
   ]
  },
  {
   "cell_type": "code",
   "execution_count": 134,
   "id": "5508de1b",
   "metadata": {},
   "outputs": [],
   "source": [
    "nn_1 = NeuralNetwork([1, 5, 1], weights=weights_1, biases=biases_1, activations=['sigmoid', 'sigmoid'])"
   ]
  },
  {
   "cell_type": "code",
   "execution_count": 135,
   "id": "fd973baa",
   "metadata": {},
   "outputs": [
    {
     "data": {
      "text/plain": [
       "array([[0.16413312]])"
      ]
     },
     "execution_count": 135,
     "metadata": {},
     "output_type": "execute_result"
    }
   ],
   "source": [
    "nn_1.feedforward(np.array([1]))"
   ]
  },
  {
   "cell_type": "code",
   "execution_count": 115,
   "id": "e5344135",
   "metadata": {},
   "outputs": [],
   "source": [
    "import pandas as pd"
   ]
  },
  {
   "cell_type": "code",
   "execution_count": 122,
   "id": "09371ab1",
   "metadata": {},
   "outputs": [],
   "source": [
    "square_simple = pd.read_csv(\"dane/regression/square-simple-test.csv\", index_col=0)"
   ]
  },
  {
   "cell_type": "code",
   "execution_count": 123,
   "id": "38312f5c",
   "metadata": {},
   "outputs": [
    {
     "data": {
      "text/html": [
       "<div>\n",
       "<style scoped>\n",
       "    .dataframe tbody tr th:only-of-type {\n",
       "        vertical-align: middle;\n",
       "    }\n",
       "\n",
       "    .dataframe tbody tr th {\n",
       "        vertical-align: top;\n",
       "    }\n",
       "\n",
       "    .dataframe thead th {\n",
       "        text-align: right;\n",
       "    }\n",
       "</style>\n",
       "<table border=\"1\" class=\"dataframe\">\n",
       "  <thead>\n",
       "    <tr style=\"text-align: right;\">\n",
       "      <th></th>\n",
       "      <th>x</th>\n",
       "      <th>y</th>\n",
       "    </tr>\n",
       "  </thead>\n",
       "  <tbody>\n",
       "    <tr>\n",
       "      <th>1</th>\n",
       "      <td>-0.980437</td>\n",
       "      <td>-43.486918</td>\n",
       "    </tr>\n",
       "    <tr>\n",
       "      <th>2</th>\n",
       "      <td>-1.219074</td>\n",
       "      <td>3.752808</td>\n",
       "    </tr>\n",
       "    <tr>\n",
       "      <th>3</th>\n",
       "      <td>0.124243</td>\n",
       "      <td>-128.610721</td>\n",
       "    </tr>\n",
       "    <tr>\n",
       "      <th>4</th>\n",
       "      <td>1.227789</td>\n",
       "      <td>5.671828</td>\n",
       "    </tr>\n",
       "    <tr>\n",
       "      <th>5</th>\n",
       "      <td>1.067348</td>\n",
       "      <td>-27.469169</td>\n",
       "    </tr>\n",
       "    <tr>\n",
       "      <th>...</th>\n",
       "      <td>...</td>\n",
       "      <td>...</td>\n",
       "    </tr>\n",
       "    <tr>\n",
       "      <th>96</th>\n",
       "      <td>1.315377</td>\n",
       "      <td>25.719403</td>\n",
       "    </tr>\n",
       "    <tr>\n",
       "      <th>97</th>\n",
       "      <td>-1.196968</td>\n",
       "      <td>-1.054107</td>\n",
       "    </tr>\n",
       "    <tr>\n",
       "      <th>98</th>\n",
       "      <td>1.544766</td>\n",
       "      <td>84.767303</td>\n",
       "    </tr>\n",
       "    <tr>\n",
       "      <th>99</th>\n",
       "      <td>0.441051</td>\n",
       "      <td>-112.492699</td>\n",
       "    </tr>\n",
       "    <tr>\n",
       "      <th>100</th>\n",
       "      <td>-0.025176</td>\n",
       "      <td>-129.942957</td>\n",
       "    </tr>\n",
       "  </tbody>\n",
       "</table>\n",
       "<p>100 rows × 2 columns</p>\n",
       "</div>"
      ],
      "text/plain": [
       "            x           y\n",
       "1   -0.980437  -43.486918\n",
       "2   -1.219074    3.752808\n",
       "3    0.124243 -128.610721\n",
       "4    1.227789    5.671828\n",
       "5    1.067348  -27.469169\n",
       "..        ...         ...\n",
       "96   1.315377   25.719403\n",
       "97  -1.196968   -1.054107\n",
       "98   1.544766   84.767303\n",
       "99   0.441051 -112.492699\n",
       "100 -0.025176 -129.942957\n",
       "\n",
       "[100 rows x 2 columns]"
      ]
     },
     "execution_count": 123,
     "metadata": {},
     "output_type": "execute_result"
    }
   ],
   "source": [
    "square_simple"
   ]
  },
  {
   "cell_type": "code",
   "execution_count": 136,
   "id": "5e29db91",
   "metadata": {},
   "outputs": [],
   "source": [
    "square_simple = pd.read_csv(\"dane/regression/steps-large-test.csv\", index_col=0)"
   ]
  },
  {
   "cell_type": "code",
   "execution_count": null,
   "id": "bd5e9866",
   "metadata": {},
   "outputs": [],
   "source": []
  }
 ],
 "metadata": {
  "kernelspec": {
   "display_name": "Python 3 (ipykernel)",
   "language": "python",
   "name": "python3"
  },
  "language_info": {
   "codemirror_mode": {
    "name": "ipython",
    "version": 3
   },
   "file_extension": ".py",
   "mimetype": "text/x-python",
   "name": "python",
   "nbconvert_exporter": "python",
   "pygments_lexer": "ipython3",
   "version": "3.9.13"
  }
 },
 "nbformat": 4,
 "nbformat_minor": 5
}
